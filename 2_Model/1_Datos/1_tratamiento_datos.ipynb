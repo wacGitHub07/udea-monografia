{
 "cells": [
  {
   "attachments": {},
   "cell_type": "markdown",
   "metadata": {},
   "source": [
    "# Notebook Base Entrenamiento\n",
    "\n",
    "### Objetivo:\n",
    "Transformación, formato y contrucción de la base de entrenamiento"
   ]
  },
  {
   "attachments": {},
   "cell_type": "markdown",
   "metadata": {},
   "source": [
    "Librerias"
   ]
  },
  {
   "cell_type": "code",
   "execution_count": 1,
   "metadata": {},
   "outputs": [],
   "source": [
    "import pandas as pd\n",
    "import re\n",
    "import numpy as np\n",
    "import seaborn as sns\n",
    "import matplotlib.pyplot as plt\n",
    "import os\n",
    "import category_encoders as ce\n"
   ]
  },
  {
   "attachments": {},
   "cell_type": "markdown",
   "metadata": {},
   "source": [
    "**Lectura de datos**"
   ]
  },
  {
   "cell_type": "code",
   "execution_count": 3,
   "metadata": {},
   "outputs": [
    {
     "data": {
      "text/html": [
       "<div>\n",
       "<style scoped>\n",
       "    .dataframe tbody tr th:only-of-type {\n",
       "        vertical-align: middle;\n",
       "    }\n",
       "\n",
       "    .dataframe tbody tr th {\n",
       "        vertical-align: top;\n",
       "    }\n",
       "\n",
       "    .dataframe thead th {\n",
       "        text-align: right;\n",
       "    }\n",
       "</style>\n",
       "<table border=\"1\" class=\"dataframe\">\n",
       "  <thead>\n",
       "    <tr style=\"text-align: right;\">\n",
       "      <th></th>\n",
       "      <th>codigo</th>\n",
       "      <th>precio</th>\n",
       "      <th>zona</th>\n",
       "      <th>barrio_sector</th>\n",
       "      <th>tipo_pisos</th>\n",
       "      <th>baños_familiares</th>\n",
       "      <th>area_bruta</th>\n",
       "      <th>ciudad</th>\n",
       "      <th>numero_niveles</th>\n",
       "      <th>tipo_cocina</th>\n",
       "      <th>...</th>\n",
       "      <th>calentador_de_agua</th>\n",
       "      <th>terraza</th>\n",
       "      <th>closet_de_linos</th>\n",
       "      <th>biblioteca</th>\n",
       "      <th>parqueadero_visitantes</th>\n",
       "      <th>gimnasio</th>\n",
       "      <th>piscina</th>\n",
       "      <th>salon_social</th>\n",
       "      <th>dispositivos_automatizacion</th>\n",
       "      <th>alarma</th>\n",
       "    </tr>\n",
       "  </thead>\n",
       "  <tbody>\n",
       "    <tr>\n",
       "      <th>0</th>\n",
       "      <td>Código 1306444  / Castilla</td>\n",
       "      <td>1100000.0</td>\n",
       "      <td>centro</td>\n",
       "      <td>castilla</td>\n",
       "      <td>ceramica</td>\n",
       "      <td>1.0</td>\n",
       "      <td>95.0</td>\n",
       "      <td>medellin zona 1 - centro</td>\n",
       "      <td>1.0</td>\n",
       "      <td>integral</td>\n",
       "      <td>...</td>\n",
       "      <td>0.0</td>\n",
       "      <td>1.0</td>\n",
       "      <td>1.0</td>\n",
       "      <td>1.0</td>\n",
       "      <td>0.0</td>\n",
       "      <td>0.0</td>\n",
       "      <td>0.0</td>\n",
       "      <td>0.0</td>\n",
       "      <td>0.0</td>\n",
       "      <td>0.0</td>\n",
       "    </tr>\n",
       "    <tr>\n",
       "      <th>1</th>\n",
       "      <td>Código 1306376  / El Salvador</td>\n",
       "      <td>950000.0</td>\n",
       "      <td>centro</td>\n",
       "      <td>el salvador</td>\n",
       "      <td>ceramica</td>\n",
       "      <td>1.0</td>\n",
       "      <td>70.0</td>\n",
       "      <td>medellin zona 1 - centro</td>\n",
       "      <td>1.0</td>\n",
       "      <td>semi-integral</td>\n",
       "      <td>...</td>\n",
       "      <td>0.0</td>\n",
       "      <td>0.0</td>\n",
       "      <td>0.0</td>\n",
       "      <td>0.0</td>\n",
       "      <td>0.0</td>\n",
       "      <td>0.0</td>\n",
       "      <td>0.0</td>\n",
       "      <td>0.0</td>\n",
       "      <td>0.0</td>\n",
       "      <td>0.0</td>\n",
       "    </tr>\n",
       "    <tr>\n",
       "      <th>2</th>\n",
       "      <td>Código 1306287  / Los Angeles</td>\n",
       "      <td>970000.0</td>\n",
       "      <td>centro</td>\n",
       "      <td>los angeles</td>\n",
       "      <td>ceramica</td>\n",
       "      <td>1.0</td>\n",
       "      <td>38.0</td>\n",
       "      <td>medellin zona 1 - centro</td>\n",
       "      <td>1.0</td>\n",
       "      <td>semi-integral</td>\n",
       "      <td>...</td>\n",
       "      <td>0.0</td>\n",
       "      <td>0.0</td>\n",
       "      <td>1.0</td>\n",
       "      <td>0.0</td>\n",
       "      <td>0.0</td>\n",
       "      <td>0.0</td>\n",
       "      <td>0.0</td>\n",
       "      <td>0.0</td>\n",
       "      <td>0.0</td>\n",
       "      <td>0.0</td>\n",
       "    </tr>\n",
       "    <tr>\n",
       "      <th>3</th>\n",
       "      <td>Código 1306212  / Prado</td>\n",
       "      <td>1400000.0</td>\n",
       "      <td>centro</td>\n",
       "      <td>prado</td>\n",
       "      <td>ceramica</td>\n",
       "      <td>1.0</td>\n",
       "      <td>50.0</td>\n",
       "      <td>medellin zona 1 - centro</td>\n",
       "      <td>1.0</td>\n",
       "      <td>integral</td>\n",
       "      <td>...</td>\n",
       "      <td>1.0</td>\n",
       "      <td>0.0</td>\n",
       "      <td>1.0</td>\n",
       "      <td>1.0</td>\n",
       "      <td>1.0</td>\n",
       "      <td>0.0</td>\n",
       "      <td>0.0</td>\n",
       "      <td>0.0</td>\n",
       "      <td>0.0</td>\n",
       "      <td>0.0</td>\n",
       "    </tr>\n",
       "    <tr>\n",
       "      <th>4</th>\n",
       "      <td>Código 1306007  / 12 de Octubre</td>\n",
       "      <td>800000.0</td>\n",
       "      <td>centro</td>\n",
       "      <td>12 de octubre</td>\n",
       "      <td>ceramica</td>\n",
       "      <td>1.0</td>\n",
       "      <td>92.0</td>\n",
       "      <td>medellin zona 1 - centro</td>\n",
       "      <td>1.0</td>\n",
       "      <td>integralcon alacenas</td>\n",
       "      <td>...</td>\n",
       "      <td>1.0</td>\n",
       "      <td>0.0</td>\n",
       "      <td>0.0</td>\n",
       "      <td>0.0</td>\n",
       "      <td>0.0</td>\n",
       "      <td>0.0</td>\n",
       "      <td>0.0</td>\n",
       "      <td>0.0</td>\n",
       "      <td>0.0</td>\n",
       "      <td>0.0</td>\n",
       "    </tr>\n",
       "  </tbody>\n",
       "</table>\n",
       "<p>5 rows × 41 columns</p>\n",
       "</div>"
      ],
      "text/plain": [
       "                            codigo     precio    zona  barrio_sector   \n",
       "0       Código 1306444  / Castilla  1100000.0  centro       castilla  \\\n",
       "1    Código 1306376  / El Salvador   950000.0  centro    el salvador   \n",
       "2    Código 1306287  / Los Angeles   970000.0  centro    los angeles   \n",
       "3          Código 1306212  / Prado  1400000.0  centro          prado   \n",
       "4  Código 1306007  / 12 de Octubre   800000.0  centro  12 de octubre   \n",
       "\n",
       "  tipo_pisos  baños_familiares  area_bruta                    ciudad   \n",
       "0   ceramica               1.0        95.0  medellin zona 1 - centro  \\\n",
       "1   ceramica               1.0        70.0  medellin zona 1 - centro   \n",
       "2   ceramica               1.0        38.0  medellin zona 1 - centro   \n",
       "3   ceramica               1.0        50.0  medellin zona 1 - centro   \n",
       "4   ceramica               1.0        92.0  medellin zona 1 - centro   \n",
       "\n",
       "   numero_niveles           tipo_cocina  ...  calentador_de_agua  terraza   \n",
       "0             1.0              integral  ...                 0.0      1.0  \\\n",
       "1             1.0         semi-integral  ...                 0.0      0.0   \n",
       "2             1.0         semi-integral  ...                 0.0      0.0   \n",
       "3             1.0              integral  ...                 1.0      0.0   \n",
       "4             1.0  integralcon alacenas  ...                 1.0      0.0   \n",
       "\n",
       "   closet_de_linos  biblioteca  parqueadero_visitantes  gimnasio  piscina   \n",
       "0              1.0         1.0                     0.0       0.0      0.0  \\\n",
       "1              0.0         0.0                     0.0       0.0      0.0   \n",
       "2              1.0         0.0                     0.0       0.0      0.0   \n",
       "3              1.0         1.0                     1.0       0.0      0.0   \n",
       "4              0.0         0.0                     0.0       0.0      0.0   \n",
       "\n",
       "   salon_social  dispositivos_automatizacion  alarma  \n",
       "0           0.0                          0.0     0.0  \n",
       "1           0.0                          0.0     0.0  \n",
       "2           0.0                          0.0     0.0  \n",
       "3           0.0                          0.0     0.0  \n",
       "4           0.0                          0.0     0.0  \n",
       "\n",
       "[5 rows x 41 columns]"
      ]
     },
     "execution_count": 3,
     "metadata": {},
     "output_type": "execute_result"
    }
   ],
   "source": [
    " # get current directory\n",
    "path = os.getcwd()\n",
    "\n",
    "# parent directory\n",
    "path = os.path.dirname(path)\n",
    "path = path.replace('2_Model','1_Scraping')\n",
    "data_scraping = pd.read_csv(path + \"/datos_arriendos_consolidado.csv\")\n",
    "data_scraping.head()"
   ]
  },
  {
   "attachments": {},
   "cell_type": "markdown",
   "metadata": {},
   "source": [
    "Se crean dos listas auxiliares para identificar las columnas numéricas de aquellas categóricas"
   ]
  },
  {
   "cell_type": "code",
   "execution_count": 3,
   "metadata": {},
   "outputs": [],
   "source": [
    "# Lista de columnas numéricas\n",
    "num_colums = ['precio',\n",
    "              'baños_familiares',\n",
    "              'area_bruta',\n",
    "              'numero_niveles',\n",
    "              'parqueaderos',\n",
    "              'alcobas_familiares',\n",
    "              'estrato',\n",
    "              'area_total',\n",
    "              'juegos_infantiles',\n",
    "              'balcon', \n",
    "              'zona_ropas', \n",
    "              'camaras_cctv', \n",
    "              'cancha_polideportiva',\n",
    "              'ascensor', \n",
    "              'cancha_squash', \n",
    "              'zona_bbq', \n",
    "              'patio',\n",
    "              'unidad_cerrada_conjunto', \n",
    "              'zonas_verdes', \n",
    "              'aire_acondicionado',\n",
    "              'jacuzzi', \n",
    "              'red_de_Gas', \n",
    "              'turco', \n",
    "              'porteria_24_7', \n",
    "              'sauna',\n",
    "              'calentador_de_agua', \n",
    "              'terraza', \n",
    "              'closet_de_linos', \n",
    "              'biblioteca',\n",
    "              'parqueadero_visitantes', \n",
    "              'gimnasio', \n",
    "              'piscina', \n",
    "              'salon_social',\n",
    "              'dispositivos_automatizacion', \n",
    "              'alarma']\n",
    "\n",
    "# Lista de columnas numéricas\n",
    "cat_columns = ['zona', \n",
    "               'barrio_sector', \n",
    "               'tipo_pisos',\n",
    "               'ciudad', \n",
    "               'tipo_cocina']"
   ]
  },
  {
   "attachments": {},
   "cell_type": "markdown",
   "metadata": {},
   "source": [
    "Se realiza un análisis de las columnas categóricas. Primero se visualiza la cantidad de categorísas que tiene cada una de estas y así definir la mejor estrategia de encoding con el fin de evitar problemas con la dimensión de la base"
   ]
  },
  {
   "cell_type": "code",
   "execution_count": 4,
   "metadata": {},
   "outputs": [
    {
     "name": "stdout",
     "output_type": "stream",
     "text": [
      "zona:  5\n",
      "barrio_sector:  170\n",
      "tipo_pisos:  104\n",
      "ciudad:  5\n",
      "tipo_cocina:  75\n"
     ]
    }
   ],
   "source": [
    "for cat in cat_columns:\n",
    "    print(f\"{cat}: \",len(data_scraping[cat].unique()))"
   ]
  },
  {
   "attachments": {},
   "cell_type": "markdown",
   "metadata": {},
   "source": [
    "Dado lo anterior se obtiene que las variables tipo_pisos, barrio_sector y tipo_cocina tienen demasiadas categorías para considerar hacer un encoding tradicional, por tanto, se debe realizar una estrategia de reducción de categorias y luego aplicar la estrategia de encoding que no aumente la base en su dimensión.\n",
    "\n",
    "Adicional podemos concluir que la variable barrio_sector no será parte del modelo, por tanto, no será necesario hacer intervención"
   ]
  },
  {
   "attachments": {},
   "cell_type": "markdown",
   "metadata": {},
   "source": [
    "****"
   ]
  },
  {
   "attachments": {},
   "cell_type": "markdown",
   "metadata": {},
   "source": [
    "**Reducción de categorías:** \n",
    "\n",
    "Se procede a hacer reducción de categorías sobre las variables tipo_cocina y tipo_pisos. Esto consiste en consolidar aquellos valores similares en una sola categoria, ejm:\n",
    "\n",
    "- ingral alacena <--> integral\n",
    "- integral red de gas <--> integral\n",
    "\n",
    "- madera laminada <--> madera\n",
    "- madera laminada marmol <--> madera"
   ]
  },
  {
   "cell_type": "code",
   "execution_count": 5,
   "metadata": {},
   "outputs": [],
   "source": [
    "# Se realiza la reducción de cateorías para la variable tipo cocina\n",
    "df_concina = pd.read_csv('tipo_cocina.csv', sep=';')\n",
    "dict_cocina = {}\n",
    "for cocina in df_concina.itertuples():\n",
    "    dict_cocina[cocina.original] = cocina.format"
   ]
  },
  {
   "attachments": {},
   "cell_type": "markdown",
   "metadata": {},
   "source": [
    "El archivo contiene en cada fila el valor original y su categoría asignada, esto se plica a cada valor en el data frame"
   ]
  },
  {
   "cell_type": "code",
   "execution_count": 6,
   "metadata": {},
   "outputs": [],
   "source": [
    "data_scraping['tipo_cocina'] = data_scraping['tipo_cocina'].apply(lambda x: dict_cocina[x])"
   ]
  },
  {
   "attachments": {},
   "cell_type": "markdown",
   "metadata": {},
   "source": [
    "Se valida la reducción"
   ]
  },
  {
   "cell_type": "code",
   "execution_count": 7,
   "metadata": {},
   "outputs": [
    {
     "data": {
      "text/plain": [
       "array(['integral', 'semiintegral', 'sencilla', 'otro', 'integralabierta',\n",
       "       'mixta'], dtype=object)"
      ]
     },
     "execution_count": 7,
     "metadata": {},
     "output_type": "execute_result"
    }
   ],
   "source": [
    "data_scraping['tipo_cocina'].unique()"
   ]
  },
  {
   "attachments": {},
   "cell_type": "markdown",
   "metadata": {},
   "source": [
    "Se valida la distribución de valores según la conversión"
   ]
  },
  {
   "cell_type": "code",
   "execution_count": 8,
   "metadata": {},
   "outputs": [
    {
     "data": {
      "text/plain": [
       "tipo_cocina\n",
       "integral           2786\n",
       "integralabierta      25\n",
       "mixta                25\n",
       "otro                  8\n",
       "semiintegral        263\n",
       "sencilla            125\n",
       "dtype: int64"
      ]
     },
     "execution_count": 8,
     "metadata": {},
     "output_type": "execute_result"
    }
   ],
   "source": [
    "data_scraping.groupby('tipo_cocina').size()"
   ]
  },
  {
   "attachments": {},
   "cell_type": "markdown",
   "metadata": {},
   "source": [
    "Los datos anteriores muetran una gran diferencia en una de las categorías, esto puede implicar un aporte no muy diciente de esta variable en el modelo que se valida mas adelante"
   ]
  },
  {
   "attachments": {},
   "cell_type": "markdown",
   "metadata": {},
   "source": [
    "Se ejecuta el mismo proceso para la variable tipo_pisos"
   ]
  },
  {
   "cell_type": "code",
   "execution_count": 9,
   "metadata": {},
   "outputs": [],
   "source": [
    "data_scraping['tipo_pisos'] = data_scraping['tipo_pisos'].apply(lambda x: x.replace('\\n',''))"
   ]
  },
  {
   "cell_type": "code",
   "execution_count": 10,
   "metadata": {},
   "outputs": [],
   "source": [
    "df_pisos = pd.read_csv('tipo_pisos.csv', sep=';')\n",
    "dict_pisos = {}\n",
    "for piso in df_pisos.itertuples():\n",
    "    dict_pisos[piso.original] = piso.format\n",
    "\n",
    "data_scraping['tipo_pisos'] = data_scraping['tipo_pisos'].apply(lambda x: dict_pisos[x])"
   ]
  },
  {
   "cell_type": "code",
   "execution_count": 11,
   "metadata": {},
   "outputs": [
    {
     "data": {
      "text/plain": [
       "array(['ceramica', 'baldosa', 'granito', 'otro', 'marmol', 'porcelanato',\n",
       "       'madera', 'ceramicamadera ', 'ceramicamadera', 'madera ',\n",
       "       'porcelanamadera', 'marmolmadera', 'marmolceramica',\n",
       "       'porcelanatomadera', 'ceramicaporcelanato', nan, 'tapetemadera',\n",
       "       'ceramicagranito', 'ceramicabaldosa'], dtype=object)"
      ]
     },
     "execution_count": 11,
     "metadata": {},
     "output_type": "execute_result"
    }
   ],
   "source": [
    "data_scraping['tipo_pisos'].unique()"
   ]
  },
  {
   "cell_type": "code",
   "execution_count": 12,
   "metadata": {},
   "outputs": [
    {
     "data": {
      "text/plain": [
       "tipo_pisos\n",
       "baldosa                 122\n",
       "ceramica               1922\n",
       "ceramicabaldosa           1\n",
       "ceramicagranito           1\n",
       "ceramicamadera           39\n",
       "ceramicamadera            5\n",
       "ceramicaporcelanato       2\n",
       "granito                   2\n",
       "madera                  313\n",
       "madera                    1\n",
       "marmol                  183\n",
       "marmolceramica            5\n",
       "marmolmadera             27\n",
       "otro                     29\n",
       "porcelanamadera           4\n",
       "porcelanato             537\n",
       "porcelanatomadera        27\n",
       "tapetemadera              1\n",
       "dtype: int64"
      ]
     },
     "execution_count": 12,
     "metadata": {},
     "output_type": "execute_result"
    }
   ],
   "source": [
    "data_scraping.groupby('tipo_pisos').size()"
   ]
  },
  {
   "attachments": {},
   "cell_type": "markdown",
   "metadata": {},
   "source": [
    "Similar a la variable de tipo_cocina el resultante es una catgoría con mas cantidad de valores que las demás, mas adelante se determina si esto hace que esta variable no sea aportante para el modelo"
   ]
  },
  {
   "attachments": {},
   "cell_type": "markdown",
   "metadata": {},
   "source": [
    "**Limpieza de valores NaN y Null:**\n",
    "\n",
    "Como parte del tratamiento de datos se realiza el conteo de valores NaN y Null para determinar si deben ser eliminados o se debe aplicar una estrategia de imputación"
   ]
  },
  {
   "cell_type": "code",
   "execution_count": 15,
   "metadata": {},
   "outputs": [
    {
     "data": {
      "text/plain": [
       "codigo                          0\n",
       "precio                          0\n",
       "zona                            0\n",
       "barrio_sector                   0\n",
       "tipo_pisos                     11\n",
       "baños_familiares                0\n",
       "area_bruta                      0\n",
       "ciudad                          0\n",
       "numero_niveles                  0\n",
       "tipo_cocina                     0\n",
       "parqueaderos                    0\n",
       "alcobas_familiares              0\n",
       "estrato                         0\n",
       "area_total                      0\n",
       "juegos_infantiles               0\n",
       "balcon                          0\n",
       "zona_ropas                      0\n",
       "camaras_cctv                    0\n",
       "cancha_polideportiva            0\n",
       "ascensor                        0\n",
       "cancha_squash                   0\n",
       "zona_bbq                        0\n",
       "patio                           0\n",
       "unidad_cerrada_conjunto         0\n",
       "zonas_verdes                    0\n",
       "aire_acondicionado              0\n",
       "jacuzzi                         0\n",
       "red_de_Gas                      0\n",
       "turco                           0\n",
       "porteria_24_7                   0\n",
       "sauna                           0\n",
       "calentador_de_agua              0\n",
       "terraza                         0\n",
       "closet_de_linos                 0\n",
       "biblioteca                      0\n",
       "parqueadero_visitantes          0\n",
       "gimnasio                        0\n",
       "piscina                         0\n",
       "salon_social                    0\n",
       "dispositivos_automatizacion     0\n",
       "alarma                          0\n",
       "dtype: int64"
      ]
     },
     "execution_count": 15,
     "metadata": {},
     "output_type": "execute_result"
    }
   ],
   "source": [
    "data_scraping.isnull().sum()"
   ]
  },
  {
   "cell_type": "code",
   "execution_count": 17,
   "metadata": {},
   "outputs": [
    {
     "data": {
      "text/plain": [
       "codigo                          0\n",
       "precio                          0\n",
       "zona                            0\n",
       "barrio_sector                   0\n",
       "tipo_pisos                     11\n",
       "baños_familiares                0\n",
       "area_bruta                      0\n",
       "ciudad                          0\n",
       "numero_niveles                  0\n",
       "tipo_cocina                     0\n",
       "parqueaderos                    0\n",
       "alcobas_familiares              0\n",
       "estrato                         0\n",
       "area_total                      0\n",
       "juegos_infantiles               0\n",
       "balcon                          0\n",
       "zona_ropas                      0\n",
       "camaras_cctv                    0\n",
       "cancha_polideportiva            0\n",
       "ascensor                        0\n",
       "cancha_squash                   0\n",
       "zona_bbq                        0\n",
       "patio                           0\n",
       "unidad_cerrada_conjunto         0\n",
       "zonas_verdes                    0\n",
       "aire_acondicionado              0\n",
       "jacuzzi                         0\n",
       "red_de_Gas                      0\n",
       "turco                           0\n",
       "porteria_24_7                   0\n",
       "sauna                           0\n",
       "calentador_de_agua              0\n",
       "terraza                         0\n",
       "closet_de_linos                 0\n",
       "biblioteca                      0\n",
       "parqueadero_visitantes          0\n",
       "gimnasio                        0\n",
       "piscina                         0\n",
       "salon_social                    0\n",
       "dispositivos_automatizacion     0\n",
       "alarma                          0\n",
       "dtype: int64"
      ]
     },
     "execution_count": 17,
     "metadata": {},
     "output_type": "execute_result"
    }
   ],
   "source": [
    "data_scraping.isna().sum()"
   ]
  },
  {
   "attachments": {},
   "cell_type": "markdown",
   "metadata": {},
   "source": [
    "Se tienen 11 valores nulos en la variable tipo pisos, por lo insignificante de este número con respecto a los datos en general se eliminan de la base"
   ]
  },
  {
   "cell_type": "code",
   "execution_count": 18,
   "metadata": {},
   "outputs": [],
   "source": [
    "data_scraping = data_scraping.dropna()"
   ]
  },
  {
   "attachments": {},
   "cell_type": "markdown",
   "metadata": {},
   "source": [
    "**Tratamiento datos categóricos:**\n",
    "\n",
    "Aunque se realizó un proceso de reducción de categorías para las variables tipo pisos y tipo cocina se tienen las siguientes cantidad de categorías resultantes:\n",
    "- tipo_pisos: 18 categorías\n",
    "- tipo_cocina: 6 categorías\n",
    "\n",
    "Aun con estos valores, realizar un proceso de encoding causaria un aumento considerable en la dimensión de la base, por tanto se considera una estrategia que no aumente en cantidad de variables al aplicar encoding sobre estas variables."
   ]
  },
  {
   "attachments": {},
   "cell_type": "markdown",
   "metadata": {},
   "source": [
    "La estrategia es selccionada es coificar las variables categoricas por medio del método de frecuencia. Este proceso consiste en reemplazar el valor de cada categoría por la frecuencia que esta representa en la base general, convirtiendo así la variable original en numérica"
   ]
  },
  {
   "cell_type": "code",
   "execution_count": 20,
   "metadata": {},
   "outputs": [
    {
     "name": "stderr",
     "output_type": "stream",
     "text": [
      "C:\\Users\\user\\AppData\\Local\\Temp\\ipykernel_7040\\3365246408.py:2: SettingWithCopyWarning: \n",
      "A value is trying to be set on a copy of a slice from a DataFrame.\n",
      "Try using .loc[row_indexer,col_indexer] = value instead\n",
      "\n",
      "See the caveats in the documentation: https://pandas.pydata.org/pandas-docs/stable/user_guide/indexing.html#returning-a-view-versus-a-copy\n",
      "  data_scraping['tipo_cocina'] = data_scraping['tipo_cocina'].astype('category')\n",
      "C:\\Users\\user\\AppData\\Local\\Temp\\ipykernel_7040\\3365246408.py:3: SettingWithCopyWarning: \n",
      "A value is trying to be set on a copy of a slice from a DataFrame.\n",
      "Try using .loc[row_indexer,col_indexer] = value instead\n",
      "\n",
      "See the caveats in the documentation: https://pandas.pydata.org/pandas-docs/stable/user_guide/indexing.html#returning-a-view-versus-a-copy\n",
      "  data_scraping['tipo_pisos'] = data_scraping['tipo_pisos'].astype('category')\n"
     ]
    }
   ],
   "source": [
    "# Asignar el tipo de dato adecuado\n",
    "data_scraping['tipo_cocina'] = data_scraping['tipo_cocina'].astype('category')\n",
    "data_scraping['tipo_pisos'] = data_scraping['tipo_pisos'].astype('category')"
   ]
  },
  {
   "cell_type": "code",
   "execution_count": 21,
   "metadata": {},
   "outputs": [
    {
     "data": {
      "text/html": [
       "<div>\n",
       "<style scoped>\n",
       "    .dataframe tbody tr th:only-of-type {\n",
       "        vertical-align: middle;\n",
       "    }\n",
       "\n",
       "    .dataframe tbody tr th {\n",
       "        vertical-align: top;\n",
       "    }\n",
       "\n",
       "    .dataframe thead th {\n",
       "        text-align: right;\n",
       "    }\n",
       "</style>\n",
       "<table border=\"1\" class=\"dataframe\">\n",
       "  <thead>\n",
       "    <tr style=\"text-align: right;\">\n",
       "      <th></th>\n",
       "      <th>codigo</th>\n",
       "      <th>precio</th>\n",
       "      <th>zona</th>\n",
       "      <th>barrio_sector</th>\n",
       "      <th>tipo_pisos</th>\n",
       "      <th>baños_familiares</th>\n",
       "      <th>area_bruta</th>\n",
       "      <th>ciudad</th>\n",
       "      <th>numero_niveles</th>\n",
       "      <th>tipo_cocina</th>\n",
       "      <th>...</th>\n",
       "      <th>calentador_de_agua</th>\n",
       "      <th>terraza</th>\n",
       "      <th>closet_de_linos</th>\n",
       "      <th>biblioteca</th>\n",
       "      <th>parqueadero_visitantes</th>\n",
       "      <th>gimnasio</th>\n",
       "      <th>piscina</th>\n",
       "      <th>salon_social</th>\n",
       "      <th>dispositivos_automatizacion</th>\n",
       "      <th>alarma</th>\n",
       "    </tr>\n",
       "  </thead>\n",
       "  <tbody>\n",
       "    <tr>\n",
       "      <th>0</th>\n",
       "      <td>Código 1306444  / Castilla</td>\n",
       "      <td>1100000.0</td>\n",
       "      <td>centro</td>\n",
       "      <td>castilla</td>\n",
       "      <td>ceramica</td>\n",
       "      <td>1.0</td>\n",
       "      <td>95.0</td>\n",
       "      <td>medellin zona 1 - centro</td>\n",
       "      <td>1.0</td>\n",
       "      <td>integral</td>\n",
       "      <td>...</td>\n",
       "      <td>0.0</td>\n",
       "      <td>1.0</td>\n",
       "      <td>1.0</td>\n",
       "      <td>1.0</td>\n",
       "      <td>0.0</td>\n",
       "      <td>0.0</td>\n",
       "      <td>0.0</td>\n",
       "      <td>0.0</td>\n",
       "      <td>0.0</td>\n",
       "      <td>0.0</td>\n",
       "    </tr>\n",
       "    <tr>\n",
       "      <th>1</th>\n",
       "      <td>Código 1306376  / El Salvador</td>\n",
       "      <td>950000.0</td>\n",
       "      <td>centro</td>\n",
       "      <td>el salvador</td>\n",
       "      <td>ceramica</td>\n",
       "      <td>1.0</td>\n",
       "      <td>70.0</td>\n",
       "      <td>medellin zona 1 - centro</td>\n",
       "      <td>1.0</td>\n",
       "      <td>semiintegral</td>\n",
       "      <td>...</td>\n",
       "      <td>0.0</td>\n",
       "      <td>0.0</td>\n",
       "      <td>0.0</td>\n",
       "      <td>0.0</td>\n",
       "      <td>0.0</td>\n",
       "      <td>0.0</td>\n",
       "      <td>0.0</td>\n",
       "      <td>0.0</td>\n",
       "      <td>0.0</td>\n",
       "      <td>0.0</td>\n",
       "    </tr>\n",
       "    <tr>\n",
       "      <th>2</th>\n",
       "      <td>Código 1306287  / Los Angeles</td>\n",
       "      <td>970000.0</td>\n",
       "      <td>centro</td>\n",
       "      <td>los angeles</td>\n",
       "      <td>ceramica</td>\n",
       "      <td>1.0</td>\n",
       "      <td>38.0</td>\n",
       "      <td>medellin zona 1 - centro</td>\n",
       "      <td>1.0</td>\n",
       "      <td>semiintegral</td>\n",
       "      <td>...</td>\n",
       "      <td>0.0</td>\n",
       "      <td>0.0</td>\n",
       "      <td>1.0</td>\n",
       "      <td>0.0</td>\n",
       "      <td>0.0</td>\n",
       "      <td>0.0</td>\n",
       "      <td>0.0</td>\n",
       "      <td>0.0</td>\n",
       "      <td>0.0</td>\n",
       "      <td>0.0</td>\n",
       "    </tr>\n",
       "    <tr>\n",
       "      <th>3</th>\n",
       "      <td>Código 1306212  / Prado</td>\n",
       "      <td>1400000.0</td>\n",
       "      <td>centro</td>\n",
       "      <td>prado</td>\n",
       "      <td>ceramica</td>\n",
       "      <td>1.0</td>\n",
       "      <td>50.0</td>\n",
       "      <td>medellin zona 1 - centro</td>\n",
       "      <td>1.0</td>\n",
       "      <td>integral</td>\n",
       "      <td>...</td>\n",
       "      <td>1.0</td>\n",
       "      <td>0.0</td>\n",
       "      <td>1.0</td>\n",
       "      <td>1.0</td>\n",
       "      <td>1.0</td>\n",
       "      <td>0.0</td>\n",
       "      <td>0.0</td>\n",
       "      <td>0.0</td>\n",
       "      <td>0.0</td>\n",
       "      <td>0.0</td>\n",
       "    </tr>\n",
       "    <tr>\n",
       "      <th>4</th>\n",
       "      <td>Código 1306007  / 12 de Octubre</td>\n",
       "      <td>800000.0</td>\n",
       "      <td>centro</td>\n",
       "      <td>12 de octubre</td>\n",
       "      <td>ceramica</td>\n",
       "      <td>1.0</td>\n",
       "      <td>92.0</td>\n",
       "      <td>medellin zona 1 - centro</td>\n",
       "      <td>1.0</td>\n",
       "      <td>integral</td>\n",
       "      <td>...</td>\n",
       "      <td>1.0</td>\n",
       "      <td>0.0</td>\n",
       "      <td>0.0</td>\n",
       "      <td>0.0</td>\n",
       "      <td>0.0</td>\n",
       "      <td>0.0</td>\n",
       "      <td>0.0</td>\n",
       "      <td>0.0</td>\n",
       "      <td>0.0</td>\n",
       "      <td>0.0</td>\n",
       "    </tr>\n",
       "  </tbody>\n",
       "</table>\n",
       "<p>5 rows × 41 columns</p>\n",
       "</div>"
      ],
      "text/plain": [
       "                            codigo     precio    zona  barrio_sector   \n",
       "0       Código 1306444  / Castilla  1100000.0  centro       castilla  \\\n",
       "1    Código 1306376  / El Salvador   950000.0  centro    el salvador   \n",
       "2    Código 1306287  / Los Angeles   970000.0  centro    los angeles   \n",
       "3          Código 1306212  / Prado  1400000.0  centro          prado   \n",
       "4  Código 1306007  / 12 de Octubre   800000.0  centro  12 de octubre   \n",
       "\n",
       "  tipo_pisos  baños_familiares  area_bruta                    ciudad   \n",
       "0   ceramica               1.0        95.0  medellin zona 1 - centro  \\\n",
       "1   ceramica               1.0        70.0  medellin zona 1 - centro   \n",
       "2   ceramica               1.0        38.0  medellin zona 1 - centro   \n",
       "3   ceramica               1.0        50.0  medellin zona 1 - centro   \n",
       "4   ceramica               1.0        92.0  medellin zona 1 - centro   \n",
       "\n",
       "   numero_niveles   tipo_cocina  ...  calentador_de_agua  terraza   \n",
       "0             1.0      integral  ...                 0.0      1.0  \\\n",
       "1             1.0  semiintegral  ...                 0.0      0.0   \n",
       "2             1.0  semiintegral  ...                 0.0      0.0   \n",
       "3             1.0      integral  ...                 1.0      0.0   \n",
       "4             1.0      integral  ...                 1.0      0.0   \n",
       "\n",
       "   closet_de_linos  biblioteca  parqueadero_visitantes  gimnasio  piscina   \n",
       "0              1.0         1.0                     0.0       0.0      0.0  \\\n",
       "1              0.0         0.0                     0.0       0.0      0.0   \n",
       "2              1.0         0.0                     0.0       0.0      0.0   \n",
       "3              1.0         1.0                     1.0       0.0      0.0   \n",
       "4              0.0         0.0                     0.0       0.0      0.0   \n",
       "\n",
       "   salon_social  dispositivos_automatizacion  alarma  \n",
       "0           0.0                          0.0     0.0  \n",
       "1           0.0                          0.0     0.0  \n",
       "2           0.0                          0.0     0.0  \n",
       "3           0.0                          0.0     0.0  \n",
       "4           0.0                          0.0     0.0  \n",
       "\n",
       "[5 rows x 41 columns]"
      ]
     },
     "execution_count": 21,
     "metadata": {},
     "output_type": "execute_result"
    }
   ],
   "source": [
    "data_scraping.head()"
   ]
  },
  {
   "attachments": {},
   "cell_type": "markdown",
   "metadata": {},
   "source": [
    "Instancia del método de encoding y aplicación sobre cada variable"
   ]
  },
  {
   "cell_type": "code",
   "execution_count": 25,
   "metadata": {},
   "outputs": [
    {
     "name": "stderr",
     "output_type": "stream",
     "text": [
      "C:\\Users\\user\\AppData\\Local\\Temp\\ipykernel_7040\\300108801.py:3: SettingWithCopyWarning: \n",
      "A value is trying to be set on a copy of a slice from a DataFrame.\n",
      "Try using .loc[row_indexer,col_indexer] = value instead\n",
      "\n",
      "See the caveats in the documentation: https://pandas.pydata.org/pandas-docs/stable/user_guide/indexing.html#returning-a-view-versus-a-copy\n",
      "  data_scraping[\"tipo_cocina_freq\"] = encoder.fit_transform(data_scraping[\"tipo_cocina\"])\n",
      "C:\\Users\\user\\AppData\\Local\\Temp\\ipykernel_7040\\300108801.py:4: SettingWithCopyWarning: \n",
      "A value is trying to be set on a copy of a slice from a DataFrame.\n",
      "Try using .loc[row_indexer,col_indexer] = value instead\n",
      "\n",
      "See the caveats in the documentation: https://pandas.pydata.org/pandas-docs/stable/user_guide/indexing.html#returning-a-view-versus-a-copy\n",
      "  data_scraping[\"tipo_pisos_freq\"] = encoder.fit_transform(data_scraping[\"tipo_pisos\"])\n"
     ]
    }
   ],
   "source": [
    "# Count Encoding - fit on training data, transform test data\n",
    "encoder = ce.CountEncoder(normalize=True)\n",
    "data_scraping[\"tipo_cocina_freq\"] = encoder.fit_transform(data_scraping[\"tipo_cocina\"])\n",
    "data_scraping[\"tipo_pisos_freq\"] = encoder.fit_transform(data_scraping[\"tipo_pisos\"])"
   ]
  },
  {
   "attachments": {},
   "cell_type": "markdown",
   "metadata": {},
   "source": [
    "Se comparan los resultados de la variable original con su respectivo encoder"
   ]
  },
  {
   "cell_type": "code",
   "execution_count": 26,
   "metadata": {},
   "outputs": [
    {
     "data": {
      "text/plain": [
       "tipo_cocina\n",
       "integral           2775\n",
       "integralabierta      25\n",
       "mixta                25\n",
       "otro                  8\n",
       "semiintegral        263\n",
       "sencilla            125\n",
       "dtype: int64"
      ]
     },
     "execution_count": 26,
     "metadata": {},
     "output_type": "execute_result"
    }
   ],
   "source": [
    "data_scraping.groupby('tipo_cocina').size()"
   ]
  },
  {
   "cell_type": "code",
   "execution_count": 27,
   "metadata": {},
   "outputs": [
    {
     "data": {
      "text/plain": [
       "tipo_cocina_freq\n",
       "0.002484       8\n",
       "0.007762      50\n",
       "0.038808     125\n",
       "0.081652     263\n",
       "0.861534    2775\n",
       "dtype: int64"
      ]
     },
     "execution_count": 27,
     "metadata": {},
     "output_type": "execute_result"
    }
   ],
   "source": [
    "data_scraping.groupby('tipo_cocina_freq').size()"
   ]
  },
  {
   "cell_type": "code",
   "execution_count": 28,
   "metadata": {},
   "outputs": [
    {
     "data": {
      "text/plain": [
       "tipo_pisos\n",
       "baldosa                 122\n",
       "ceramica               1922\n",
       "ceramicabaldosa           1\n",
       "ceramicagranito           1\n",
       "ceramicamadera           39\n",
       "ceramicamadera            5\n",
       "ceramicaporcelanato       2\n",
       "granito                   2\n",
       "madera                  313\n",
       "madera                    1\n",
       "marmol                  183\n",
       "marmolceramica            5\n",
       "marmolmadera             27\n",
       "otro                     29\n",
       "porcelanamadera           4\n",
       "porcelanato             537\n",
       "porcelanatomadera        27\n",
       "tapetemadera              1\n",
       "dtype: int64"
      ]
     },
     "execution_count": 28,
     "metadata": {},
     "output_type": "execute_result"
    }
   ],
   "source": [
    "data_scraping.groupby('tipo_pisos').size()"
   ]
  },
  {
   "cell_type": "code",
   "execution_count": 29,
   "metadata": {},
   "outputs": [
    {
     "data": {
      "text/plain": [
       "tipo_pisos_freq\n",
       "0.000310       4\n",
       "0.000621       4\n",
       "0.001242       4\n",
       "0.001552      10\n",
       "0.008382      54\n",
       "0.009003      29\n",
       "0.012108      39\n",
       "0.037876     122\n",
       "0.056815     183\n",
       "0.097175     313\n",
       "0.166718     537\n",
       "0.596709    1922\n",
       "dtype: int64"
      ]
     },
     "execution_count": 29,
     "metadata": {},
     "output_type": "execute_result"
    }
   ],
   "source": [
    "data_scraping.groupby('tipo_pisos_freq').size()"
   ]
  },
  {
   "attachments": {},
   "cell_type": "markdown",
   "metadata": {},
   "source": [
    "**Base de modelado:**\n",
    "\n",
    "Habiendo realizado el anterior tratamiento de datos se procede a seleccionar las columnas, almacenar la base y dar paso a la fase de modelado"
   ]
  },
  {
   "cell_type": "code",
   "execution_count": 30,
   "metadata": {},
   "outputs": [],
   "source": [
    "columns = ['precio','zona', 'barrio_sector', 'baños_familiares', 'area_bruta',\n",
    "       'numero_niveles','parqueaderos', 'alcobas_familiares',\n",
    "       'estrato', 'area_total', 'juegos_infantiles', 'balcon', 'zona_ropas',\n",
    "       'camaras_cctv', 'cancha_polideportiva', 'ascensor', 'cancha_squash',\n",
    "       'zona_bbq', 'patio', 'unidad_cerrada_conjunto', 'zonas_verdes',\n",
    "       'aire_acondicionado', 'jacuzzi', 'red_de_Gas', 'turco', 'porteria_24_7',\n",
    "       'sauna', 'calentador_de_agua', 'terraza', 'closet_de_linos',\n",
    "       'biblioteca', 'parqueadero_visitantes', 'gimnasio', 'piscina',\n",
    "       'salon_social', 'dispositivos_automatizacion', 'alarma',\n",
    "       'tipo_cocina_freq', 'tipo_pisos_freq']\n",
    "\n",
    "data_scraping = data_scraping[columns]\n",
    "data_scraping.to_csv(\"base_modelado.csv\", index=False)"
   ]
  }
 ],
 "metadata": {
  "kernelspec": {
   "display_name": "pyscraping",
   "language": "python",
   "name": "python3"
  },
  "language_info": {
   "codemirror_mode": {
    "name": "ipython",
    "version": 3
   },
   "file_extension": ".py",
   "mimetype": "text/x-python",
   "name": "python",
   "nbconvert_exporter": "python",
   "pygments_lexer": "ipython3",
   "version": "3.10.9"
  },
  "orig_nbformat": 4
 },
 "nbformat": 4,
 "nbformat_minor": 2
}

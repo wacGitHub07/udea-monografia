{
 "cells": [
  {
   "attachments": {},
   "cell_type": "markdown",
   "metadata": {},
   "source": [
    "# Notebook Iteracion 1 Modelado\n",
    "\n",
    "### Objetivo:\n",
    "Crear un modelo de línea base como punto de partida para un primer vistazo de datos y métricas:\n",
    "- Análisis de distribucion y atípicos sobre la variables precio\n",
    "- Construccion de una regresión lineal como modelo línea base\n"
   ]
  },
  {
   "cell_type": "code",
   "execution_count": 13,
   "metadata": {},
   "outputs": [],
   "source": [
    "# Funciones generales\n",
    "import sys\n",
    "sys.path.append('../')\n",
    "# A medida que avanzan las iteraciones se crearan mas funcinoes transversales\n",
    "from funciones import *"
   ]
  },
  {
   "cell_type": "code",
   "execution_count": 14,
   "metadata": {},
   "outputs": [],
   "source": [
    "from sklearn.model_selection import train_test_split"
   ]
  },
  {
   "attachments": {},
   "cell_type": "markdown",
   "metadata": {},
   "source": [
    "**Lectura de datos**\n",
    "\n",
    "Se leen los datos resultantes del proceso de scraping y el tratamiento de datos"
   ]
  },
  {
   "cell_type": "code",
   "execution_count": 15,
   "metadata": {},
   "outputs": [
    {
     "data": {
      "text/html": [
       "<div>\n",
       "<style scoped>\n",
       "    .dataframe tbody tr th:only-of-type {\n",
       "        vertical-align: middle;\n",
       "    }\n",
       "\n",
       "    .dataframe tbody tr th {\n",
       "        vertical-align: top;\n",
       "    }\n",
       "\n",
       "    .dataframe thead th {\n",
       "        text-align: right;\n",
       "    }\n",
       "</style>\n",
       "<table border=\"1\" class=\"dataframe\">\n",
       "  <thead>\n",
       "    <tr style=\"text-align: right;\">\n",
       "      <th></th>\n",
       "      <th>precio</th>\n",
       "      <th>zona</th>\n",
       "      <th>barrio_sector</th>\n",
       "      <th>baños_familiares</th>\n",
       "      <th>area_bruta</th>\n",
       "      <th>numero_niveles</th>\n",
       "      <th>parqueaderos</th>\n",
       "      <th>alcobas_familiares</th>\n",
       "      <th>estrato</th>\n",
       "      <th>area_total</th>\n",
       "      <th>...</th>\n",
       "      <th>closet_de_linos</th>\n",
       "      <th>biblioteca</th>\n",
       "      <th>parqueadero_visitantes</th>\n",
       "      <th>gimnasio</th>\n",
       "      <th>piscina</th>\n",
       "      <th>salon_social</th>\n",
       "      <th>dispositivos_automatizacion</th>\n",
       "      <th>alarma</th>\n",
       "      <th>tipo_cocina_freq</th>\n",
       "      <th>tipo_pisos_freq</th>\n",
       "    </tr>\n",
       "  </thead>\n",
       "  <tbody>\n",
       "    <tr>\n",
       "      <th>0</th>\n",
       "      <td>1100000.0</td>\n",
       "      <td>centro</td>\n",
       "      <td>castilla</td>\n",
       "      <td>1.0</td>\n",
       "      <td>95.0</td>\n",
       "      <td>1.0</td>\n",
       "      <td>0.0</td>\n",
       "      <td>3.0</td>\n",
       "      <td>0.0</td>\n",
       "      <td>95.0</td>\n",
       "      <td>...</td>\n",
       "      <td>1.0</td>\n",
       "      <td>1.0</td>\n",
       "      <td>0.0</td>\n",
       "      <td>0.0</td>\n",
       "      <td>0.0</td>\n",
       "      <td>0.0</td>\n",
       "      <td>0.0</td>\n",
       "      <td>0.0</td>\n",
       "      <td>0.861534</td>\n",
       "      <td>0.596709</td>\n",
       "    </tr>\n",
       "    <tr>\n",
       "      <th>1</th>\n",
       "      <td>950000.0</td>\n",
       "      <td>centro</td>\n",
       "      <td>el salvador</td>\n",
       "      <td>1.0</td>\n",
       "      <td>70.0</td>\n",
       "      <td>1.0</td>\n",
       "      <td>0.0</td>\n",
       "      <td>2.0</td>\n",
       "      <td>3.0</td>\n",
       "      <td>70.0</td>\n",
       "      <td>...</td>\n",
       "      <td>0.0</td>\n",
       "      <td>0.0</td>\n",
       "      <td>0.0</td>\n",
       "      <td>0.0</td>\n",
       "      <td>0.0</td>\n",
       "      <td>0.0</td>\n",
       "      <td>0.0</td>\n",
       "      <td>0.0</td>\n",
       "      <td>0.081652</td>\n",
       "      <td>0.596709</td>\n",
       "    </tr>\n",
       "    <tr>\n",
       "      <th>2</th>\n",
       "      <td>970000.0</td>\n",
       "      <td>centro</td>\n",
       "      <td>los angeles</td>\n",
       "      <td>1.0</td>\n",
       "      <td>38.0</td>\n",
       "      <td>1.0</td>\n",
       "      <td>0.0</td>\n",
       "      <td>1.0</td>\n",
       "      <td>4.0</td>\n",
       "      <td>38.0</td>\n",
       "      <td>...</td>\n",
       "      <td>1.0</td>\n",
       "      <td>0.0</td>\n",
       "      <td>0.0</td>\n",
       "      <td>0.0</td>\n",
       "      <td>0.0</td>\n",
       "      <td>0.0</td>\n",
       "      <td>0.0</td>\n",
       "      <td>0.0</td>\n",
       "      <td>0.081652</td>\n",
       "      <td>0.596709</td>\n",
       "    </tr>\n",
       "    <tr>\n",
       "      <th>3</th>\n",
       "      <td>1400000.0</td>\n",
       "      <td>centro</td>\n",
       "      <td>prado</td>\n",
       "      <td>1.0</td>\n",
       "      <td>50.0</td>\n",
       "      <td>1.0</td>\n",
       "      <td>1.0</td>\n",
       "      <td>2.0</td>\n",
       "      <td>0.0</td>\n",
       "      <td>50.0</td>\n",
       "      <td>...</td>\n",
       "      <td>1.0</td>\n",
       "      <td>1.0</td>\n",
       "      <td>1.0</td>\n",
       "      <td>0.0</td>\n",
       "      <td>0.0</td>\n",
       "      <td>0.0</td>\n",
       "      <td>0.0</td>\n",
       "      <td>0.0</td>\n",
       "      <td>0.861534</td>\n",
       "      <td>0.596709</td>\n",
       "    </tr>\n",
       "    <tr>\n",
       "      <th>4</th>\n",
       "      <td>800000.0</td>\n",
       "      <td>centro</td>\n",
       "      <td>12 de octubre</td>\n",
       "      <td>1.0</td>\n",
       "      <td>92.0</td>\n",
       "      <td>1.0</td>\n",
       "      <td>0.0</td>\n",
       "      <td>3.0</td>\n",
       "      <td>2.0</td>\n",
       "      <td>92.0</td>\n",
       "      <td>...</td>\n",
       "      <td>0.0</td>\n",
       "      <td>0.0</td>\n",
       "      <td>0.0</td>\n",
       "      <td>0.0</td>\n",
       "      <td>0.0</td>\n",
       "      <td>0.0</td>\n",
       "      <td>0.0</td>\n",
       "      <td>0.0</td>\n",
       "      <td>0.861534</td>\n",
       "      <td>0.596709</td>\n",
       "    </tr>\n",
       "  </tbody>\n",
       "</table>\n",
       "<p>5 rows × 39 columns</p>\n",
       "</div>"
      ],
      "text/plain": [
       "      precio    zona  barrio_sector  baños_familiares  area_bruta   \n",
       "0  1100000.0  centro       castilla               1.0        95.0  \\\n",
       "1   950000.0  centro    el salvador               1.0        70.0   \n",
       "2   970000.0  centro    los angeles               1.0        38.0   \n",
       "3  1400000.0  centro          prado               1.0        50.0   \n",
       "4   800000.0  centro  12 de octubre               1.0        92.0   \n",
       "\n",
       "   numero_niveles  parqueaderos  alcobas_familiares  estrato  area_total  ...   \n",
       "0             1.0           0.0                 3.0      0.0        95.0  ...  \\\n",
       "1             1.0           0.0                 2.0      3.0        70.0  ...   \n",
       "2             1.0           0.0                 1.0      4.0        38.0  ...   \n",
       "3             1.0           1.0                 2.0      0.0        50.0  ...   \n",
       "4             1.0           0.0                 3.0      2.0        92.0  ...   \n",
       "\n",
       "   closet_de_linos  biblioteca  parqueadero_visitantes  gimnasio  piscina   \n",
       "0              1.0         1.0                     0.0       0.0      0.0  \\\n",
       "1              0.0         0.0                     0.0       0.0      0.0   \n",
       "2              1.0         0.0                     0.0       0.0      0.0   \n",
       "3              1.0         1.0                     1.0       0.0      0.0   \n",
       "4              0.0         0.0                     0.0       0.0      0.0   \n",
       "\n",
       "   salon_social  dispositivos_automatizacion  alarma  tipo_cocina_freq   \n",
       "0           0.0                          0.0     0.0          0.861534  \\\n",
       "1           0.0                          0.0     0.0          0.081652   \n",
       "2           0.0                          0.0     0.0          0.081652   \n",
       "3           0.0                          0.0     0.0          0.861534   \n",
       "4           0.0                          0.0     0.0          0.861534   \n",
       "\n",
       "   tipo_pisos_freq  \n",
       "0         0.596709  \n",
       "1         0.596709  \n",
       "2         0.596709  \n",
       "3         0.596709  \n",
       "4         0.596709  \n",
       "\n",
       "[5 rows x 39 columns]"
      ]
     },
     "execution_count": 15,
     "metadata": {},
     "output_type": "execute_result"
    }
   ],
   "source": [
    "import os \n",
    "# get current directory\n",
    "path = os.getcwd()\n",
    "# parent directory\n",
    "path = os.path.abspath(\"../../../\")\n",
    "data_model = pd.read_csv(path + \"/1_Datos/base_modelado.csv\")\n",
    "data_model.head()"
   ]
  },
  {
   "attachments": {},
   "cell_type": "markdown",
   "metadata": {},
   "source": [
    "**Analisis de variable precio**:\n",
    "\n",
    "En esta iteración se procede a hacer un analisis sobre la variable objetivo, al finalizar el proceso de scraping observamos que se tienen valores demasiado grandes que afectan la visualización de esta."
   ]
  },
  {
   "cell_type": "code",
   "execution_count": 16,
   "metadata": {},
   "outputs": [
    {
     "data": {
      "image/png": "[encoded data removed]",
      "text/plain": [
       "<Figure size 1200x400 with 1 Axes>"
      ]
     },
     "metadata": {},
     "output_type": "display_data"
    }
   ],
   "source": [
    "graficar_distribucion_histograma(data_model, 'precio')"
   ]
  },
  {
   "cell_type": "code",
   "execution_count": 17,
   "metadata": {},
   "outputs": [
    {
     "data": {
      "image/png": "[encoded data removed]",
      "text/plain": [
       "<Figure size 1200x400 with 1 Axes>"
      ]
     },
     "metadata": {},
     "output_type": "display_data"
    }
   ],
   "source": [
    "graficar_distribucion_boxplot(data_model, 'precio')"
   ]
  },
  {
   "attachments": {},
   "cell_type": "markdown",
   "metadata": {},
   "source": [
    "Dada la distribución observada en ambos gráficos de la variable precio es necesario hacer un tratamiento de datos atípicos, esto se hará por medio de rango intercuartil"
   ]
  },
  {
   "cell_type": "code",
   "execution_count": 18,
   "metadata": {},
   "outputs": [
    {
     "name": "stdout",
     "output_type": "stream",
     "text": [
      "Rango intercuartil para variable precio:  3200000.0\n",
      "quartil 1: 1500000.0 quartil 3: 4700000.0\n",
      "Límites inferiores =  -3300000.0\n",
      "Límites superiores =  9500000.0\n"
     ]
    }
   ],
   "source": [
    "iqr_atipicos = atipicos_iqr(data_model, 'precio')"
   ]
  },
  {
   "attachments": {},
   "cell_type": "markdown",
   "metadata": {},
   "source": [
    "En el resultado del calculo de los límites vemos que el límite inferior es un valor negativo, esto es inconsistente para una variable precio, por tanto por criterio experto y considerando las dinámicas de precios de arriendos en la ciudad estableceremos este límite en _**500000**_. Por otro lado el límite superior de precios se establece en _**9500000**_, con lo cual ,haciendo estos filtros, se obtiene la nueva distribución"
   ]
  },
  {
   "cell_type": "code",
   "execution_count": 19,
   "metadata": {},
   "outputs": [],
   "source": [
    "data_model = data_model[(data_model['precio'] >= 500000) & (data_model['precio'] <= 9500000)]"
   ]
  },
  {
   "cell_type": "code",
   "execution_count": 20,
   "metadata": {},
   "outputs": [
    {
     "data": {
      "image/png": "[encoded data removed]",
      "text/plain": [
       "<Figure size 1200x400 with 1 Axes>"
      ]
     },
     "metadata": {},
     "output_type": "display_data"
    }
   ],
   "source": [
    "graficar_distribucion_histograma(data_model, 'precio')"
   ]
  },
  {
   "cell_type": "code",
   "execution_count": 21,
   "metadata": {},
   "outputs": [
    {
     "data": {
      "image/png": "[encoded data removed]",
      "text/plain": [
       "<Figure size 1200x400 with 1 Axes>"
      ]
     },
     "metadata": {},
     "output_type": "display_data"
    }
   ],
   "source": [
    "graficar_distribucion_boxplot(data_model, 'precio')"
   ]
  },
  {
   "attachments": {},
   "cell_type": "markdown",
   "metadata": {},
   "source": [
    "En la nueva distribucion de la variable precio se observa un sesgo hacia la izquierda para esta variable, donde puede indicar una predominancia de las casas entre 1 mm y 4 mm, se verá mas adelante si esto marca una tendencia en el funcionamiento del modelo"
   ]
  },
  {
   "attachments": {},
   "cell_type": "markdown",
   "metadata": {},
   "source": [
    "**División y escalado de los datos**:\n",
    "\n",
    "Para la construcción del modelo línea base se realiza las siguientes ejecuciones:\n",
    "- División de las variables predictoras y la variable objetivo.\n",
    "- Estandarización de las variables predictoras\n",
    "- División de los datos de entremiento y prueba en una proporcion de 75% y 25% respectivamente"
   ]
  },
  {
   "cell_type": "code",
   "execution_count": 22,
   "metadata": {},
   "outputs": [],
   "source": [
    "# Variables predictoras\n",
    "pred_columns = [\n",
    "    'baños_familiares',\n",
    "    'area_bruta', \n",
    "    'numero_niveles',\n",
    "    'parqueaderos', \n",
    "    'alcobas_familiares', \n",
    "    'estrato', \n",
    "    'area_total',\n",
    "    'juegos_infantiles', \n",
    "    'balcon', \n",
    "    'zona_ropas', \n",
    "    'camaras_cctv',\n",
    "    'cancha_polideportiva', \n",
    "    'ascensor', \n",
    "    'cancha_squash', \n",
    "    'zona_bbq',\n",
    "    'patio', \n",
    "    'unidad_cerrada_conjunto', \n",
    "    'zonas_verdes',\n",
    "    'aire_acondicionado', \n",
    "    'jacuzzi', \n",
    "    'red_de_Gas', \n",
    "    'turco', \n",
    "    'porteria_24_7',\n",
    "    'sauna', \n",
    "    'calentador_de_agua', \n",
    "    'terraza', \n",
    "    'closet_de_linos',\n",
    "    'biblioteca', \n",
    "    'parqueadero_visitantes', \n",
    "    'gimnasio', \n",
    "    'piscina',\n",
    "    'salon_social', \n",
    "    'dispositivos_automatizacion', \n",
    "    'alarma',\n",
    "    'tipo_cocina_freq', \n",
    "    'tipo_pisos_freq'\n",
    "]"
   ]
  },
  {
   "cell_type": "code",
   "execution_count": 23,
   "metadata": {},
   "outputs": [],
   "source": [
    "# Separación de las variables\n",
    "X = data_model[pred_columns]\n",
    "Y = data_model[['precio']]"
   ]
  },
  {
   "attachments": {},
   "cell_type": "markdown",
   "metadata": {},
   "source": [
    "**Estandarización***"
   ]
  },
  {
   "cell_type": "code",
   "execution_count": 24,
   "metadata": {},
   "outputs": [
    {
     "data": {
      "text/html": [
       "<div>\n",
       "<style scoped>\n",
       "    .dataframe tbody tr th:only-of-type {\n",
       "        vertical-align: middle;\n",
       "    }\n",
       "\n",
       "    .dataframe tbody tr th {\n",
       "        vertical-align: top;\n",
       "    }\n",
       "\n",
       "    .dataframe thead th {\n",
       "        text-align: right;\n",
       "    }\n",
       "</style>\n",
       "<table border=\"1\" class=\"dataframe\">\n",
       "  <thead>\n",
       "    <tr style=\"text-align: right;\">\n",
       "      <th></th>\n",
       "      <th>baños_familiares</th>\n",
       "      <th>area_bruta</th>\n",
       "      <th>numero_niveles</th>\n",
       "      <th>parqueaderos</th>\n",
       "      <th>alcobas_familiares</th>\n",
       "      <th>estrato</th>\n",
       "      <th>area_total</th>\n",
       "      <th>juegos_infantiles</th>\n",
       "      <th>balcon</th>\n",
       "      <th>zona_ropas</th>\n",
       "      <th>...</th>\n",
       "      <th>closet_de_linos</th>\n",
       "      <th>biblioteca</th>\n",
       "      <th>parqueadero_visitantes</th>\n",
       "      <th>gimnasio</th>\n",
       "      <th>piscina</th>\n",
       "      <th>salon_social</th>\n",
       "      <th>dispositivos_automatizacion</th>\n",
       "      <th>alarma</th>\n",
       "      <th>tipo_cocina_freq</th>\n",
       "      <th>tipo_pisos_freq</th>\n",
       "    </tr>\n",
       "  </thead>\n",
       "  <tbody>\n",
       "    <tr>\n",
       "      <th>0</th>\n",
       "      <td>0.076923</td>\n",
       "      <td>0.165103</td>\n",
       "      <td>0.000103</td>\n",
       "      <td>0.000000</td>\n",
       "      <td>0.230769</td>\n",
       "      <td>0.000000</td>\n",
       "      <td>0.168190</td>\n",
       "      <td>0.0</td>\n",
       "      <td>0.0</td>\n",
       "      <td>1.0</td>\n",
       "      <td>...</td>\n",
       "      <td>1.0</td>\n",
       "      <td>1.0</td>\n",
       "      <td>0.0</td>\n",
       "      <td>0.0</td>\n",
       "      <td>0.0</td>\n",
       "      <td>0.0</td>\n",
       "      <td>0.0</td>\n",
       "      <td>0.0</td>\n",
       "      <td>1.000000</td>\n",
       "      <td>1.0</td>\n",
       "    </tr>\n",
       "    <tr>\n",
       "      <th>1</th>\n",
       "      <td>0.076923</td>\n",
       "      <td>0.118199</td>\n",
       "      <td>0.000103</td>\n",
       "      <td>0.000000</td>\n",
       "      <td>0.153846</td>\n",
       "      <td>0.500000</td>\n",
       "      <td>0.122486</td>\n",
       "      <td>0.0</td>\n",
       "      <td>0.0</td>\n",
       "      <td>1.0</td>\n",
       "      <td>...</td>\n",
       "      <td>0.0</td>\n",
       "      <td>0.0</td>\n",
       "      <td>0.0</td>\n",
       "      <td>0.0</td>\n",
       "      <td>0.0</td>\n",
       "      <td>0.0</td>\n",
       "      <td>0.0</td>\n",
       "      <td>0.0</td>\n",
       "      <td>0.092158</td>\n",
       "      <td>1.0</td>\n",
       "    </tr>\n",
       "    <tr>\n",
       "      <th>2</th>\n",
       "      <td>0.076923</td>\n",
       "      <td>0.058161</td>\n",
       "      <td>0.000103</td>\n",
       "      <td>0.000000</td>\n",
       "      <td>0.076923</td>\n",
       "      <td>0.666667</td>\n",
       "      <td>0.063985</td>\n",
       "      <td>0.0</td>\n",
       "      <td>0.0</td>\n",
       "      <td>1.0</td>\n",
       "      <td>...</td>\n",
       "      <td>1.0</td>\n",
       "      <td>0.0</td>\n",
       "      <td>0.0</td>\n",
       "      <td>0.0</td>\n",
       "      <td>0.0</td>\n",
       "      <td>0.0</td>\n",
       "      <td>0.0</td>\n",
       "      <td>0.0</td>\n",
       "      <td>0.092158</td>\n",
       "      <td>1.0</td>\n",
       "    </tr>\n",
       "    <tr>\n",
       "      <th>3</th>\n",
       "      <td>0.076923</td>\n",
       "      <td>0.080675</td>\n",
       "      <td>0.000103</td>\n",
       "      <td>0.076923</td>\n",
       "      <td>0.153846</td>\n",
       "      <td>0.000000</td>\n",
       "      <td>0.085923</td>\n",
       "      <td>0.0</td>\n",
       "      <td>0.0</td>\n",
       "      <td>1.0</td>\n",
       "      <td>...</td>\n",
       "      <td>1.0</td>\n",
       "      <td>1.0</td>\n",
       "      <td>1.0</td>\n",
       "      <td>0.0</td>\n",
       "      <td>0.0</td>\n",
       "      <td>0.0</td>\n",
       "      <td>0.0</td>\n",
       "      <td>0.0</td>\n",
       "      <td>1.000000</td>\n",
       "      <td>1.0</td>\n",
       "    </tr>\n",
       "    <tr>\n",
       "      <th>4</th>\n",
       "      <td>0.076923</td>\n",
       "      <td>0.159475</td>\n",
       "      <td>0.000103</td>\n",
       "      <td>0.000000</td>\n",
       "      <td>0.230769</td>\n",
       "      <td>0.333333</td>\n",
       "      <td>0.162706</td>\n",
       "      <td>0.0</td>\n",
       "      <td>1.0</td>\n",
       "      <td>1.0</td>\n",
       "      <td>...</td>\n",
       "      <td>0.0</td>\n",
       "      <td>0.0</td>\n",
       "      <td>0.0</td>\n",
       "      <td>0.0</td>\n",
       "      <td>0.0</td>\n",
       "      <td>0.0</td>\n",
       "      <td>0.0</td>\n",
       "      <td>0.0</td>\n",
       "      <td>1.000000</td>\n",
       "      <td>1.0</td>\n",
       "    </tr>\n",
       "  </tbody>\n",
       "</table>\n",
       "<p>5 rows × 36 columns</p>\n",
       "</div>"
      ],
      "text/plain": [
       "   baños_familiares  area_bruta  numero_niveles  parqueaderos   \n",
       "0          0.076923    0.165103        0.000103      0.000000  \\\n",
       "1          0.076923    0.118199        0.000103      0.000000   \n",
       "2          0.076923    0.058161        0.000103      0.000000   \n",
       "3          0.076923    0.080675        0.000103      0.076923   \n",
       "4          0.076923    0.159475        0.000103      0.000000   \n",
       "\n",
       "   alcobas_familiares   estrato  area_total  juegos_infantiles  balcon   \n",
       "0            0.230769  0.000000    0.168190                0.0     0.0  \\\n",
       "1            0.153846  0.500000    0.122486                0.0     0.0   \n",
       "2            0.076923  0.666667    0.063985                0.0     0.0   \n",
       "3            0.153846  0.000000    0.085923                0.0     0.0   \n",
       "4            0.230769  0.333333    0.162706                0.0     1.0   \n",
       "\n",
       "   zona_ropas  ...  closet_de_linos  biblioteca  parqueadero_visitantes   \n",
       "0         1.0  ...              1.0         1.0                     0.0  \\\n",
       "1         1.0  ...              0.0         0.0                     0.0   \n",
       "2         1.0  ...              1.0         0.0                     0.0   \n",
       "3         1.0  ...              1.0         1.0                     1.0   \n",
       "4         1.0  ...              0.0         0.0                     0.0   \n",
       "\n",
       "   gimnasio  piscina  salon_social  dispositivos_automatizacion  alarma   \n",
       "0       0.0      0.0           0.0                          0.0     0.0  \\\n",
       "1       0.0      0.0           0.0                          0.0     0.0   \n",
       "2       0.0      0.0           0.0                          0.0     0.0   \n",
       "3       0.0      0.0           0.0                          0.0     0.0   \n",
       "4       0.0      0.0           0.0                          0.0     0.0   \n",
       "\n",
       "   tipo_cocina_freq  tipo_pisos_freq  \n",
       "0          1.000000              1.0  \n",
       "1          0.092158              1.0  \n",
       "2          0.092158              1.0  \n",
       "3          1.000000              1.0  \n",
       "4          1.000000              1.0  \n",
       "\n",
       "[5 rows x 36 columns]"
      ]
     },
     "execution_count": 24,
     "metadata": {},
     "output_type": "execute_result"
    }
   ],
   "source": [
    "X_est = estandarizar(X)\n",
    "X_est.head()"
   ]
  },
  {
   "attachments": {},
   "cell_type": "markdown",
   "metadata": {},
   "source": [
    "Se obtiene unos datos de entrenamiento con las siguientes dimensiones"
   ]
  },
  {
   "cell_type": "code",
   "execution_count": 25,
   "metadata": {},
   "outputs": [
    {
     "name": "stdout",
     "output_type": "stream",
     "text": [
      "Numero de muestras: 3020, Número de columnas: 36\n"
     ]
    }
   ],
   "source": [
    "print(f\"Numero de muestras: {X_est.shape[0]}, Número de columnas: {X_est.shape[1]}\")"
   ]
  },
  {
   "attachments": {},
   "cell_type": "markdown",
   "metadata": {},
   "source": [
    "**Dvisión de los datos:** Entrenamiento 75%, Test 25%"
   ]
  },
  {
   "cell_type": "code",
   "execution_count": 26,
   "metadata": {},
   "outputs": [
    {
     "name": "stdout",
     "output_type": "stream",
     "text": [
      "Tamaño de los Datos de Entrenamiento =  (2265, 36)\n",
      "Tamaño de los Datos de Validación =  (755, 36)\n",
      "Tamaño del Vector de Clases de Entrenamiento =  (2265, 1)\n",
      "Tamaño del Vector de Clases de Prueba =  (755, 1)\n"
     ]
    }
   ],
   "source": [
    "x_train, x_test, y_train, y_test = train_test_split(X_est, Y, test_size = 0.25, train_size = 0.75, random_state = 17)\n",
    "print(\"Tamaño de los Datos de Entrenamiento = \", x_train.shape)\n",
    "print(\"Tamaño de los Datos de Validación = \", x_test.shape)\n",
    "print(\"Tamaño del Vector de Clases de Entrenamiento = \", y_train.shape)\n",
    "print(\"Tamaño del Vector de Clases de Prueba = \", y_test.shape)"
   ]
  },
  {
   "attachments": {},
   "cell_type": "markdown",
   "metadata": {},
   "source": [
    "**Modelo línea base:**\n",
    "\n",
    "Para la contrucción del modelo línea base se realiza lo siguiente:\n",
    "- Regresión líneal simple sin variación de hiperparámetros\n",
    "- Cálculo de importancia de variables\n",
    "- Cálculo de métricas de evaluación"
   ]
  },
  {
   "cell_type": "code",
   "execution_count": 27,
   "metadata": {},
   "outputs": [
    {
     "data": {
      "text/html": [
       "<style>#sk-container-id-1 {color: black;background-color: white;}#sk-container-id-1 pre{padding: 0;}#sk-container-id-1 div.sk-toggleable {background-color: white;}#sk-container-id-1 label.sk-toggleable__label {cursor: pointer;display: block;width: 100%;margin-bottom: 0;padding: 0.3em;box-sizing: border-box;text-align: center;}#sk-container-id-1 label.sk-toggleable__label-arrow:before {content: \"▸\";float: left;margin-right: 0.25em;color: #696969;}#sk-container-id-1 label.sk-toggleable__label-arrow:hover:before {color: black;}#sk-container-id-1 div.sk-estimator:hover label.sk-toggleable__label-arrow:before {color: black;}#sk-container-id-1 div.sk-toggleable__content {max-height: 0;max-width: 0;overflow: hidden;text-align: left;background-color: #f0f8ff;}#sk-container-id-1 div.sk-toggleable__content pre {margin: 0.2em;color: black;border-radius: 0.25em;background-color: #f0f8ff;}#sk-container-id-1 input.sk-toggleable__control:checked~div.sk-toggleable__content {max-height: 200px;max-width: 100%;overflow: auto;}#sk-container-id-1 input.sk-toggleable__control:checked~label.sk-toggleable__label-arrow:before {content: \"▾\";}#sk-container-id-1 div.sk-estimator input.sk-toggleable__control:checked~label.sk-toggleable__label {background-color: #d4ebff;}#sk-container-id-1 div.sk-label input.sk-toggleable__control:checked~label.sk-toggleable__label {background-color: #d4ebff;}#sk-container-id-1 input.sk-hidden--visually {border: 0;clip: rect(1px 1px 1px 1px);clip: rect(1px, 1px, 1px, 1px);height: 1px;margin: -1px;overflow: hidden;padding: 0;position: absolute;width: 1px;}#sk-container-id-1 div.sk-estimator {font-family: monospace;background-color: #f0f8ff;border: 1px dotted black;border-radius: 0.25em;box-sizing: border-box;margin-bottom: 0.5em;}#sk-container-id-1 div.sk-estimator:hover {background-color: #d4ebff;}#sk-container-id-1 div.sk-parallel-item::after {content: \"\";width: 100%;border-bottom: 1px solid gray;flex-grow: 1;}#sk-container-id-1 div.sk-label:hover label.sk-toggleable__label {background-color: #d4ebff;}#sk-container-id-1 div.sk-serial::before {content: \"\";position: absolute;border-left: 1px solid gray;box-sizing: border-box;top: 0;bottom: 0;left: 50%;z-index: 0;}#sk-container-id-1 div.sk-serial {display: flex;flex-direction: column;align-items: center;background-color: white;padding-right: 0.2em;padding-left: 0.2em;position: relative;}#sk-container-id-1 div.sk-item {position: relative;z-index: 1;}#sk-container-id-1 div.sk-parallel {display: flex;align-items: stretch;justify-content: center;background-color: white;position: relative;}#sk-container-id-1 div.sk-item::before, #sk-container-id-1 div.sk-parallel-item::before {content: \"\";position: absolute;border-left: 1px solid gray;box-sizing: border-box;top: 0;bottom: 0;left: 50%;z-index: -1;}#sk-container-id-1 div.sk-parallel-item {display: flex;flex-direction: column;z-index: 1;position: relative;background-color: white;}#sk-container-id-1 div.sk-parallel-item:first-child::after {align-self: flex-end;width: 50%;}#sk-container-id-1 div.sk-parallel-item:last-child::after {align-self: flex-start;width: 50%;}#sk-container-id-1 div.sk-parallel-item:only-child::after {width: 0;}#sk-container-id-1 div.sk-dashed-wrapped {border: 1px dashed gray;margin: 0 0.4em 0.5em 0.4em;box-sizing: border-box;padding-bottom: 0.4em;background-color: white;}#sk-container-id-1 div.sk-label label {font-family: monospace;font-weight: bold;display: inline-block;line-height: 1.2em;}#sk-container-id-1 div.sk-label-container {text-align: center;}#sk-container-id-1 div.sk-container {/* jupyter's `normalize.less` sets `[hidden] { display: none; }` but bootstrap.min.css set `[hidden] { display: none !important; }` so we also need the `!important` here to be able to override the default hidden behavior on the sphinx rendered scikit-learn.org. See: https://github.com/scikit-learn/scikit-learn/issues/21755 */display: inline-block !important;position: relative;}#sk-container-id-1 div.sk-text-repr-fallback {display: none;}</style><div id=\"sk-container-id-1\" class=\"sk-top-container\"><div class=\"sk-text-repr-fallback\"><pre>LinearRegression()</pre><b>In a Jupyter environment, please rerun this cell to show the HTML representation or trust the notebook. <br />On GitHub, the HTML representation is unable to render, please try loading this page with nbviewer.org.</b></div><div class=\"sk-container\" hidden><div class=\"sk-item\"><div class=\"sk-estimator sk-toggleable\"><input class=\"sk-toggleable__control sk-hidden--visually\" id=\"sk-estimator-id-1\" type=\"checkbox\" checked><label for=\"sk-estimator-id-1\" class=\"sk-toggleable__label sk-toggleable__label-arrow\">LinearRegression</label><div class=\"sk-toggleable__content\"><pre>LinearRegression()</pre></div></div></div></div></div>"
      ],
      "text/plain": [
       "LinearRegression()"
      ]
     },
     "execution_count": 27,
     "metadata": {},
     "output_type": "execute_result"
    }
   ],
   "source": [
    "# Instancia y entrenamiento de regresión lineal\n",
    "lr = LinearRegression()\n",
    "lr.fit(x_train, y_train)"
   ]
  },
  {
   "attachments": {},
   "cell_type": "markdown",
   "metadata": {},
   "source": [
    "**Calculo de importancia de variables**"
   ]
  },
  {
   "cell_type": "code",
   "execution_count": 28,
   "metadata": {},
   "outputs": [
    {
     "data": {
      "text/html": [
       "<div>\n",
       "<style scoped>\n",
       "    .dataframe tbody tr th:only-of-type {\n",
       "        vertical-align: middle;\n",
       "    }\n",
       "\n",
       "    .dataframe tbody tr th {\n",
       "        vertical-align: top;\n",
       "    }\n",
       "\n",
       "    .dataframe thead th {\n",
       "        text-align: right;\n",
       "    }\n",
       "</style>\n",
       "<table border=\"1\" class=\"dataframe\">\n",
       "  <thead>\n",
       "    <tr style=\"text-align: right;\">\n",
       "      <th></th>\n",
       "      <th>precio</th>\n",
       "    </tr>\n",
       "  </thead>\n",
       "  <tbody>\n",
       "    <tr>\n",
       "      <th>area_total</th>\n",
       "      <td>5.827863e+06</td>\n",
       "    </tr>\n",
       "    <tr>\n",
       "      <th>parqueaderos</th>\n",
       "      <td>4.023632e+06</td>\n",
       "    </tr>\n",
       "    <tr>\n",
       "      <th>baños_familiares</th>\n",
       "      <td>3.440823e+06</td>\n",
       "    </tr>\n",
       "    <tr>\n",
       "      <th>area_bruta</th>\n",
       "      <td>3.054541e+06</td>\n",
       "    </tr>\n",
       "    <tr>\n",
       "      <th>aire_acondicionado</th>\n",
       "      <td>1.159648e+06</td>\n",
       "    </tr>\n",
       "    <tr>\n",
       "      <th>estrato</th>\n",
       "      <td>1.149384e+06</td>\n",
       "    </tr>\n",
       "    <tr>\n",
       "      <th>unidad_cerrada_conjunto</th>\n",
       "      <td>5.095780e+05</td>\n",
       "    </tr>\n",
       "    <tr>\n",
       "      <th>sauna</th>\n",
       "      <td>3.964196e+05</td>\n",
       "    </tr>\n",
       "    <tr>\n",
       "      <th>cancha_squash</th>\n",
       "      <td>3.179914e+05</td>\n",
       "    </tr>\n",
       "    <tr>\n",
       "      <th>gimnasio</th>\n",
       "      <td>2.885475e+05</td>\n",
       "    </tr>\n",
       "    <tr>\n",
       "      <th>tipo_cocina_freq</th>\n",
       "      <td>2.568807e+05</td>\n",
       "    </tr>\n",
       "    <tr>\n",
       "      <th>camaras_cctv</th>\n",
       "      <td>2.220801e+05</td>\n",
       "    </tr>\n",
       "    <tr>\n",
       "      <th>terraza</th>\n",
       "      <td>2.220745e+05</td>\n",
       "    </tr>\n",
       "    <tr>\n",
       "      <th>ascensor</th>\n",
       "      <td>2.189916e+05</td>\n",
       "    </tr>\n",
       "    <tr>\n",
       "      <th>parqueadero_visitantes</th>\n",
       "      <td>2.009334e+05</td>\n",
       "    </tr>\n",
       "    <tr>\n",
       "      <th>calentador_de_agua</th>\n",
       "      <td>1.309963e+05</td>\n",
       "    </tr>\n",
       "    <tr>\n",
       "      <th>turco</th>\n",
       "      <td>1.133958e+05</td>\n",
       "    </tr>\n",
       "    <tr>\n",
       "      <th>porteria_24_7</th>\n",
       "      <td>6.812954e+04</td>\n",
       "    </tr>\n",
       "    <tr>\n",
       "      <th>biblioteca</th>\n",
       "      <td>4.885468e+04</td>\n",
       "    </tr>\n",
       "    <tr>\n",
       "      <th>jacuzzi</th>\n",
       "      <td>3.233715e+04</td>\n",
       "    </tr>\n",
       "    <tr>\n",
       "      <th>balcon</th>\n",
       "      <td>1.339344e+04</td>\n",
       "    </tr>\n",
       "    <tr>\n",
       "      <th>closet_de_linos</th>\n",
       "      <td>-1.632999e+04</td>\n",
       "    </tr>\n",
       "    <tr>\n",
       "      <th>cancha_polideportiva</th>\n",
       "      <td>-3.359998e+04</td>\n",
       "    </tr>\n",
       "    <tr>\n",
       "      <th>piscina</th>\n",
       "      <td>-4.204208e+04</td>\n",
       "    </tr>\n",
       "    <tr>\n",
       "      <th>zonas_verdes</th>\n",
       "      <td>-7.946535e+04</td>\n",
       "    </tr>\n",
       "    <tr>\n",
       "      <th>salon_social</th>\n",
       "      <td>-8.117855e+04</td>\n",
       "    </tr>\n",
       "    <tr>\n",
       "      <th>juegos_infantiles</th>\n",
       "      <td>-9.148663e+04</td>\n",
       "    </tr>\n",
       "    <tr>\n",
       "      <th>patio</th>\n",
       "      <td>-1.358280e+05</td>\n",
       "    </tr>\n",
       "    <tr>\n",
       "      <th>red_de_Gas</th>\n",
       "      <td>-1.925479e+05</td>\n",
       "    </tr>\n",
       "    <tr>\n",
       "      <th>tipo_pisos_freq</th>\n",
       "      <td>-2.411073e+05</td>\n",
       "    </tr>\n",
       "    <tr>\n",
       "      <th>zona_ropas</th>\n",
       "      <td>-2.911733e+05</td>\n",
       "    </tr>\n",
       "    <tr>\n",
       "      <th>zona_bbq</th>\n",
       "      <td>-3.914463e+05</td>\n",
       "    </tr>\n",
       "    <tr>\n",
       "      <th>numero_niveles</th>\n",
       "      <td>-4.056593e+05</td>\n",
       "    </tr>\n",
       "    <tr>\n",
       "      <th>alarma</th>\n",
       "      <td>-6.574993e+05</td>\n",
       "    </tr>\n",
       "    <tr>\n",
       "      <th>dispositivos_automatizacion</th>\n",
       "      <td>-7.059536e+05</td>\n",
       "    </tr>\n",
       "    <tr>\n",
       "      <th>alcobas_familiares</th>\n",
       "      <td>-2.230737e+06</td>\n",
       "    </tr>\n",
       "  </tbody>\n",
       "</table>\n",
       "</div>"
      ],
      "text/plain": [
       "                                   precio\n",
       "area_total                   5.827863e+06\n",
       "parqueaderos                 4.023632e+06\n",
       "baños_familiares             3.440823e+06\n",
       "area_bruta                   3.054541e+06\n",
       "aire_acondicionado           1.159648e+06\n",
       "estrato                      1.149384e+06\n",
       "unidad_cerrada_conjunto      5.095780e+05\n",
       "sauna                        3.964196e+05\n",
       "cancha_squash                3.179914e+05\n",
       "gimnasio                     2.885475e+05\n",
       "tipo_cocina_freq             2.568807e+05\n",
       "camaras_cctv                 2.220801e+05\n",
       "terraza                      2.220745e+05\n",
       "ascensor                     2.189916e+05\n",
       "parqueadero_visitantes       2.009334e+05\n",
       "calentador_de_agua           1.309963e+05\n",
       "turco                        1.133958e+05\n",
       "porteria_24_7                6.812954e+04\n",
       "biblioteca                   4.885468e+04\n",
       "jacuzzi                      3.233715e+04\n",
       "balcon                       1.339344e+04\n",
       "closet_de_linos             -1.632999e+04\n",
       "cancha_polideportiva        -3.359998e+04\n",
       "piscina                     -4.204208e+04\n",
       "zonas_verdes                -7.946535e+04\n",
       "salon_social                -8.117855e+04\n",
       "juegos_infantiles           -9.148663e+04\n",
       "patio                       -1.358280e+05\n",
       "red_de_Gas                  -1.925479e+05\n",
       "tipo_pisos_freq             -2.411073e+05\n",
       "zona_ropas                  -2.911733e+05\n",
       "zona_bbq                    -3.914463e+05\n",
       "numero_niveles              -4.056593e+05\n",
       "alarma                      -6.574993e+05\n",
       "dispositivos_automatizacion -7.059536e+05\n",
       "alcobas_familiares          -2.230737e+06"
      ]
     },
     "metadata": {},
     "output_type": "display_data"
    }
   ],
   "source": [
    "importancia = lr.coef_\n",
    "importancia = pd.DataFrame(importancia[0], index=pred_columns, columns = ['precio'])\n",
    "importancia_ordenada = importancia.sort_values(by = ['precio'], ascending=False)\n",
    "display(importancia_ordenada)"
   ]
  },
  {
   "attachments": {},
   "cell_type": "markdown",
   "metadata": {},
   "source": [
    "Los coeficientes positivos indican que predicen una tendencia creciente y los coeficientes negativos indican que predicen una tendencia decreciente de la variable de salida del modelo."
   ]
  },
  {
   "attachments": {},
   "cell_type": "markdown",
   "metadata": {},
   "source": [
    "Visualización de la influencia de variables en el modelo"
   ]
  },
  {
   "cell_type": "code",
   "execution_count": 29,
   "metadata": {},
   "outputs": [
    {
     "data": {
      "image/png": "[encoded data removed]",
      "text/plain": [
       "<Figure size 1200x800 with 1 Axes>"
      ]
     },
     "metadata": {},
     "output_type": "display_data"
    }
   ],
   "source": [
    "imp = importancia_ordenada.values\n",
    "imp = np.squeeze(np.asarray(imp))\n",
    "\n",
    "fig = plt.figure(figsize=(12,8))\n",
    "\n",
    "sns.barplot(y = importancia_ordenada.index, x = imp.T)\n",
    "plt.xlabel(\"Coeficientes\")\n",
    "plt.ylabel(\"Características\")\n",
    "plt.show()"
   ]
  },
  {
   "attachments": {},
   "cell_type": "markdown",
   "metadata": {},
   "source": [
    "**Cálculo de metricas del modelo:**\n",
    "\n",
    "Para el calculo de las métricas del modelo se tendran en cuenta:\n",
    "- MAPE\n",
    "- R2\n",
    "- RMSE "
   ]
  },
  {
   "cell_type": "code",
   "execution_count": 30,
   "metadata": {},
   "outputs": [
    {
     "name": "stdout",
     "output_type": "stream",
     "text": [
      "El error RMSE  de test es: 1102245.720531361\n",
      "El error R2    de test es: 0.7234028359052365\n",
      "El error MAPE    de test es: 0.28756251105780767\n"
     ]
    }
   ],
   "source": [
    "predicciones = lr.predict(x_test)\n",
    "\n",
    "rmse = mean_squared_error(y_true=y_test, y_pred=predicciones, squared=False)\n",
    "mape = mean_absolute_percentage_error(y_true=y_test, y_pred  = predicciones)\n",
    "r2 = r2_score(y_true=y_test, y_pred=predicciones)\n",
    "\n",
    "print(f\"El error RMSE  de test es: {rmse}\")\n",
    "print(f\"El error R2    de test es: {r2}\")\n",
    "print(f\"El error MAPE    de test es: {mape}\")\n"
   ]
  },
  {
   "attachments": {},
   "cell_type": "markdown",
   "metadata": {},
   "source": [
    "**Contrucción de nueva base de entrenamiento sin atípicos detectados por iqr:**\n",
    "\n",
    "Esta base será utilizada en las iteraciones posteriores"
   ]
  },
  {
   "cell_type": "code",
   "execution_count": 31,
   "metadata": {},
   "outputs": [],
   "source": [
    "data_model.to_csv(\"datos_iteracion_1.csv\", index = False)"
   ]
  },
  {
   "attachments": {},
   "cell_type": "markdown",
   "metadata": {},
   "source": [
    "**Conclusiones:**\n",
    "\n",
    "- La variable precio original contiene datos atípicos que afectaban la distrubición y visualización de los datos. Al aplicar una eliminación de estos se tiene una nueva base de modelado que será usada en las próximas iteraciones.\n",
    "- Al ejecutar la regresión lineal la variable _area_bruta_ muestra una alta influencia en la predicción, esto es lógico en base al comportamiento del mercado pues una vivienda mas grande tiene a tener un precio mas alto.\n",
    "- En esta iteración se optiene un MAPE de 0.28 y un RMSE de 1102245.72, lo cual aún esta muy alejado de las expectativas del necio. Se esperará mejorar estos en las próximas iteraciones"
   ]
  }
 ],
 "metadata": {
  "kernelspec": {
   "display_name": "pyscraping",
   "language": "python",
   "name": "python3"
  },
  "language_info": {
   "codemirror_mode": {
    "name": "ipython",
    "version": 3
   },
   "file_extension": ".py",
   "mimetype": "text/x-python",
   "name": "python",
   "nbconvert_exporter": "python",
   "pygments_lexer": "ipython3",
   "version": "3.10.9"
  },
  "orig_nbformat": 4
 },
 "nbformat": 4,
 "nbformat_minor": 2
}

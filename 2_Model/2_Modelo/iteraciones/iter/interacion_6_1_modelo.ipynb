{
 "cells": [
  {
   "attachments": {},
   "cell_type": "markdown",
   "metadata": {},
   "source": [
    "# Notebook Iteracion 6 Modelado\n",
    "\n",
    "### Objetivo: Implementación de clustering como originador de una nueva variable que categoriza los precios y se usa como entrada para el modelo de predicción de precios:\n",
    "- Analisis de distribución de la variable precio\n",
    "- Analisis de variables predictoras\n",
    "- Ejecución de clustering\n",
    "- Entrenamiento de modelos\n"
   ]
  },
  {
   "cell_type": "code",
   "execution_count": 1,
   "metadata": {},
   "outputs": [],
   "source": [
    "# Funciones generales\n",
    "import sys\n",
    "sys.path.append('../')\n",
    "# A medida que avanzan las iteraciones se crearan mas funcinoes transversales\n",
    "from funciones import *\n",
    "\n",
    "# Tuneo de hiperparámetros\n",
    "from sklearn.model_selection import ParameterGrid\n",
    "\n",
    "# Libreria para manejo de balance de datos\n",
    "import smogn\n",
    "\n",
    "# Clustering\n",
    "from sklearn.cluster import KMeans\n",
    "from sklearn.metrics import silhouette_samples, silhouette_score\n",
    "\n",
    "# Grid Search Validacion cruzada\n",
    "from sklearn.model_selection import GridSearchCV\n",
    "\n",
    "# xgboost\n",
    "import xgboost as xgb\n",
    "\n",
    "# Métricas de evaluación\n",
    "from sklearn.metrics import r2_score\n",
    "from sklearn.metrics import mean_squared_error\n",
    "from sklearn.metrics import mean_absolute_percentage_error"
   ]
  },
  {
   "attachments": {},
   "cell_type": "markdown",
   "metadata": {},
   "source": [
    "**Lectura de datos**\n",
    "Dada la estabilidad que muestra el resultado de la iteracion 2 sobre las variables predictoras, se utiliza la base resultante de esta"
   ]
  },
  {
   "cell_type": "code",
   "execution_count": 2,
   "metadata": {},
   "outputs": [
    {
     "data": {
      "text/html": [
       "<div>\n",
       "<style scoped>\n",
       "    .dataframe tbody tr th:only-of-type {\n",
       "        vertical-align: middle;\n",
       "    }\n",
       "\n",
       "    .dataframe tbody tr th {\n",
       "        vertical-align: top;\n",
       "    }\n",
       "\n",
       "    .dataframe thead th {\n",
       "        text-align: right;\n",
       "    }\n",
       "</style>\n",
       "<table border=\"1\" class=\"dataframe\">\n",
       "  <thead>\n",
       "    <tr style=\"text-align: right;\">\n",
       "      <th></th>\n",
       "      <th>precio</th>\n",
       "      <th>zona</th>\n",
       "      <th>barrio_sector</th>\n",
       "      <th>baños_familiares</th>\n",
       "      <th>area_bruta</th>\n",
       "      <th>numero_niveles</th>\n",
       "      <th>parqueaderos</th>\n",
       "      <th>alcobas_familiares</th>\n",
       "      <th>estrato</th>\n",
       "      <th>area_total</th>\n",
       "      <th>...</th>\n",
       "      <th>closet_de_linos</th>\n",
       "      <th>biblioteca</th>\n",
       "      <th>parqueadero_visitantes</th>\n",
       "      <th>gimnasio</th>\n",
       "      <th>piscina</th>\n",
       "      <th>salon_social</th>\n",
       "      <th>dispositivos_automatizacion</th>\n",
       "      <th>alarma</th>\n",
       "      <th>tipo_cocina_freq</th>\n",
       "      <th>tipo_pisos_freq</th>\n",
       "    </tr>\n",
       "  </thead>\n",
       "  <tbody>\n",
       "    <tr>\n",
       "      <th>0</th>\n",
       "      <td>1100000.0</td>\n",
       "      <td>centro</td>\n",
       "      <td>castilla</td>\n",
       "      <td>1.0</td>\n",
       "      <td>95.0</td>\n",
       "      <td>1.0</td>\n",
       "      <td>0.0</td>\n",
       "      <td>3.0</td>\n",
       "      <td>0.0</td>\n",
       "      <td>95.0</td>\n",
       "      <td>...</td>\n",
       "      <td>1.0</td>\n",
       "      <td>1.0</td>\n",
       "      <td>0.0</td>\n",
       "      <td>0.0</td>\n",
       "      <td>0.0</td>\n",
       "      <td>0.0</td>\n",
       "      <td>0.0</td>\n",
       "      <td>0.0</td>\n",
       "      <td>0.861534</td>\n",
       "      <td>0.596709</td>\n",
       "    </tr>\n",
       "    <tr>\n",
       "      <th>1</th>\n",
       "      <td>950000.0</td>\n",
       "      <td>centro</td>\n",
       "      <td>el salvador</td>\n",
       "      <td>1.0</td>\n",
       "      <td>70.0</td>\n",
       "      <td>1.0</td>\n",
       "      <td>0.0</td>\n",
       "      <td>2.0</td>\n",
       "      <td>3.0</td>\n",
       "      <td>70.0</td>\n",
       "      <td>...</td>\n",
       "      <td>0.0</td>\n",
       "      <td>0.0</td>\n",
       "      <td>0.0</td>\n",
       "      <td>0.0</td>\n",
       "      <td>0.0</td>\n",
       "      <td>0.0</td>\n",
       "      <td>0.0</td>\n",
       "      <td>0.0</td>\n",
       "      <td>0.081652</td>\n",
       "      <td>0.596709</td>\n",
       "    </tr>\n",
       "    <tr>\n",
       "      <th>2</th>\n",
       "      <td>970000.0</td>\n",
       "      <td>centro</td>\n",
       "      <td>los angeles</td>\n",
       "      <td>1.0</td>\n",
       "      <td>38.0</td>\n",
       "      <td>1.0</td>\n",
       "      <td>0.0</td>\n",
       "      <td>1.0</td>\n",
       "      <td>4.0</td>\n",
       "      <td>38.0</td>\n",
       "      <td>...</td>\n",
       "      <td>1.0</td>\n",
       "      <td>0.0</td>\n",
       "      <td>0.0</td>\n",
       "      <td>0.0</td>\n",
       "      <td>0.0</td>\n",
       "      <td>0.0</td>\n",
       "      <td>0.0</td>\n",
       "      <td>0.0</td>\n",
       "      <td>0.081652</td>\n",
       "      <td>0.596709</td>\n",
       "    </tr>\n",
       "    <tr>\n",
       "      <th>3</th>\n",
       "      <td>1400000.0</td>\n",
       "      <td>centro</td>\n",
       "      <td>prado</td>\n",
       "      <td>1.0</td>\n",
       "      <td>50.0</td>\n",
       "      <td>1.0</td>\n",
       "      <td>1.0</td>\n",
       "      <td>2.0</td>\n",
       "      <td>0.0</td>\n",
       "      <td>50.0</td>\n",
       "      <td>...</td>\n",
       "      <td>1.0</td>\n",
       "      <td>1.0</td>\n",
       "      <td>1.0</td>\n",
       "      <td>0.0</td>\n",
       "      <td>0.0</td>\n",
       "      <td>0.0</td>\n",
       "      <td>0.0</td>\n",
       "      <td>0.0</td>\n",
       "      <td>0.861534</td>\n",
       "      <td>0.596709</td>\n",
       "    </tr>\n",
       "    <tr>\n",
       "      <th>4</th>\n",
       "      <td>800000.0</td>\n",
       "      <td>centro</td>\n",
       "      <td>12 de octubre</td>\n",
       "      <td>1.0</td>\n",
       "      <td>92.0</td>\n",
       "      <td>1.0</td>\n",
       "      <td>0.0</td>\n",
       "      <td>3.0</td>\n",
       "      <td>2.0</td>\n",
       "      <td>92.0</td>\n",
       "      <td>...</td>\n",
       "      <td>0.0</td>\n",
       "      <td>0.0</td>\n",
       "      <td>0.0</td>\n",
       "      <td>0.0</td>\n",
       "      <td>0.0</td>\n",
       "      <td>0.0</td>\n",
       "      <td>0.0</td>\n",
       "      <td>0.0</td>\n",
       "      <td>0.861534</td>\n",
       "      <td>0.596709</td>\n",
       "    </tr>\n",
       "  </tbody>\n",
       "</table>\n",
       "<p>5 rows × 39 columns</p>\n",
       "</div>"
      ],
      "text/plain": [
       "      precio    zona  barrio_sector  baños_familiares  area_bruta   \n",
       "0  1100000.0  centro       castilla               1.0        95.0  \\\n",
       "1   950000.0  centro    el salvador               1.0        70.0   \n",
       "2   970000.0  centro    los angeles               1.0        38.0   \n",
       "3  1400000.0  centro          prado               1.0        50.0   \n",
       "4   800000.0  centro  12 de octubre               1.0        92.0   \n",
       "\n",
       "   numero_niveles  parqueaderos  alcobas_familiares  estrato  area_total  ...   \n",
       "0             1.0           0.0                 3.0      0.0        95.0  ...  \\\n",
       "1             1.0           0.0                 2.0      3.0        70.0  ...   \n",
       "2             1.0           0.0                 1.0      4.0        38.0  ...   \n",
       "3             1.0           1.0                 2.0      0.0        50.0  ...   \n",
       "4             1.0           0.0                 3.0      2.0        92.0  ...   \n",
       "\n",
       "   closet_de_linos  biblioteca  parqueadero_visitantes  gimnasio  piscina   \n",
       "0              1.0         1.0                     0.0       0.0      0.0  \\\n",
       "1              0.0         0.0                     0.0       0.0      0.0   \n",
       "2              1.0         0.0                     0.0       0.0      0.0   \n",
       "3              1.0         1.0                     1.0       0.0      0.0   \n",
       "4              0.0         0.0                     0.0       0.0      0.0   \n",
       "\n",
       "   salon_social  dispositivos_automatizacion  alarma  tipo_cocina_freq   \n",
       "0           0.0                          0.0     0.0          0.861534  \\\n",
       "1           0.0                          0.0     0.0          0.081652   \n",
       "2           0.0                          0.0     0.0          0.081652   \n",
       "3           0.0                          0.0     0.0          0.861534   \n",
       "4           0.0                          0.0     0.0          0.861534   \n",
       "\n",
       "   tipo_pisos_freq  \n",
       "0         0.596709  \n",
       "1         0.596709  \n",
       "2         0.596709  \n",
       "3         0.596709  \n",
       "4         0.596709  \n",
       "\n",
       "[5 rows x 39 columns]"
      ]
     },
     "execution_count": 2,
     "metadata": {},
     "output_type": "execute_result"
    }
   ],
   "source": [
    "import os \n",
    "# get current directory\n",
    "path = os.getcwd()\n",
    "# parent directory\n",
    "path = os.path.abspath('../')\n",
    "data_model = pd.read_csv(path + \"/iteracion_2/datos_iteracion_2.csv\")\n",
    "data_model.head()"
   ]
  },
  {
   "attachments": {},
   "cell_type": "markdown",
   "metadata": {},
   "source": [
    "**Distribución de variable precio**"
   ]
  },
  {
   "attachments": {},
   "cell_type": "markdown",
   "metadata": {},
   "source": [
    "Variable precio en su distribución original luego de las iteraciones 1 y 3, esta será la distribución sobre la cúal se aplique el clustering"
   ]
  },
  {
   "cell_type": "code",
   "execution_count": 3,
   "metadata": {},
   "outputs": [
    {
     "data": {
      "image/png": "[encoded data removed]",
      "text/plain": [
       "<Figure size 1200x400 with 1 Axes>"
      ]
     },
     "metadata": {},
     "output_type": "display_data"
    }
   ],
   "source": [
    "graficar_distribucion_histograma(data_model, 'precio')"
   ]
  },
  {
   "cell_type": "code",
   "execution_count": 4,
   "metadata": {},
   "outputs": [
    {
     "data": {
      "image/png": "[encoded data removed]",
      "text/plain": [
       "<Figure size 1200x400 with 1 Axes>"
      ]
     },
     "metadata": {},
     "output_type": "display_data"
    }
   ],
   "source": [
    "graficar_distribucion_boxplot(data_model, 'precio')"
   ]
  },
  {
   "attachments": {},
   "cell_type": "markdown",
   "metadata": {},
   "source": [
    "**Separación de las variables**\n",
    "\n",
    "Las variables obtenidas por el proceso de scraping se dividen en tres tipos que es importante separar para hacer un analisis mas detallado, estas son:\n",
    "- Variables categóricas: Variables booleana que indican si un inmueble cuenta con una comodidad\n",
    "- Variables categoricas numéricas: Variables discretas numéricas\n",
    "- Variables numéricas: Variables continuas"
   ]
  },
  {
   "cell_type": "code",
   "execution_count": 5,
   "metadata": {},
   "outputs": [],
   "source": [
    "pred_columns = [\n",
    "    'baños_familiares',\n",
    "    'area_bruta', \n",
    "    'numero_niveles',\n",
    "    'parqueaderos', \n",
    "    'alcobas_familiares', \n",
    "    'estrato', \n",
    "    'area_total',\n",
    "    'juegos_infantiles', \n",
    "    'balcon', \n",
    "    'zona_ropas', \n",
    "    'camaras_cctv',\n",
    "    'cancha_polideportiva', \n",
    "    'ascensor', \n",
    "    'cancha_squash', \n",
    "    'zona_bbq',\n",
    "    'patio', \n",
    "    'unidad_cerrada_conjunto', \n",
    "    'zonas_verdes',\n",
    "    'aire_acondicionado', \n",
    "    'jacuzzi', \n",
    "    'red_de_Gas', \n",
    "    'turco', \n",
    "    'porteria_24_7',\n",
    "    'sauna', \n",
    "    'calentador_de_agua', \n",
    "    'terraza', \n",
    "    'closet_de_linos',\n",
    "    'biblioteca', \n",
    "    'parqueadero_visitantes', \n",
    "    'gimnasio', \n",
    "    'piscina',\n",
    "    'salon_social', \n",
    "    'dispositivos_automatizacion', \n",
    "    'alarma',\n",
    "    'tipo_cocina_freq', \n",
    "    'tipo_pisos_freq'\n",
    "]"
   ]
  },
  {
   "attachments": {},
   "cell_type": "markdown",
   "metadata": {},
   "source": [
    "**Variables predictoras**\n",
    "\n",
    "En la iteración 2 el analisis de distribución y correlaciones dió como resultado la eliminación de las variables:\n",
    "\n",
    "- columns_disc_corr\n",
    "- numero_niveles\n",
    "- zona_ropas\n",
    "- camaras_cctv\n",
    "- cancha_polideportiva\n",
    "- cancha_squash\n",
    "- zona_bbq\n",
    "- patio\n",
    "- aire_acondicionado\n",
    "- jacuzzi\n",
    "- red_de_Gas\n",
    "- terraza\n",
    "- dispositivos_automatizacion\n",
    "- alarma\n",
    "- area_total\n",
    "- porteria_24_7\n",
    "\n",
    "Se reutiliza estas variables, sin embargo, por criterio del negocio se conservan las siguientes variables dejando su eliminación para un posterior analisis de importancia de variables:\n",
    "\n",
    "- cancha_polideportiva\n"
   ]
  },
  {
   "cell_type": "code",
   "execution_count": 6,
   "metadata": {},
   "outputs": [],
   "source": [
    "columns_disc_corr = [\n",
    "    \"numero_niveles\",\n",
    "    \"zona_ropas\",\n",
    "    \"camaras_cctv\",\n",
    "    \"cancha_squash\",\n",
    "    \"zona_bbq\",\n",
    "    \"patio\",\n",
    "    \"aire_acondicionado\",\n",
    "    \"jacuzzi\",\n",
    "    \"red_de_Gas\",\n",
    "    \"terraza\",\n",
    "    \"dispositivos_automatizacion\",\n",
    "    \"alarma\",\n",
    "    \"area_total\",\n",
    "    \"porteria_24_7\"\n",
    "]"
   ]
  },
  {
   "attachments": {},
   "cell_type": "markdown",
   "metadata": {},
   "source": [
    "**Estandarización**"
   ]
  },
  {
   "cell_type": "code",
   "execution_count": 7,
   "metadata": {},
   "outputs": [],
   "source": [
    "X = data_model[pred_columns]\n",
    "Y = data_model['precio']"
   ]
  },
  {
   "cell_type": "code",
   "execution_count": 8,
   "metadata": {},
   "outputs": [],
   "source": [
    "X_est = estandarizar(X)"
   ]
  },
  {
   "attachments": {},
   "cell_type": "markdown",
   "metadata": {},
   "source": [
    "**Clustering**\n",
    "\n",
    "Se procede con la ejecucion del algoritmo de kmeans entre las variables __precio__ y __area_bruta__, esta última por ser la mas relevante en la ejecución del modelo línea base y el análisis de correlaciones"
   ]
  },
  {
   "cell_type": "code",
   "execution_count": 9,
   "metadata": {},
   "outputs": [],
   "source": [
    "X_est['precio'] = Y.values"
   ]
  },
  {
   "cell_type": "code",
   "execution_count": 10,
   "metadata": {},
   "outputs": [
    {
     "name": "stdout",
     "output_type": "stream",
     "text": [
      "silhouette_score k = 2 : 0.5584902744604046\n",
      "silhouette_score k = 3 : 0.6143361136796931\n",
      "silhouette_score k = 4 : 0.5603650463061598\n",
      "silhouette_score k = 5 : 0.5731226948655109\n"
     ]
    }
   ],
   "source": [
    "x_cluster = X_est[['estrato', 'area_bruta']].values\n",
    "for k in [2,3,4,5]:\n",
    "    kmeans = KMeans(n_clusters=k, random_state=0, n_init=\"auto\")\n",
    "    kmeans_labels = kmeans.fit_predict(x_cluster)\n",
    "    sample_silhouette_values = silhouette_samples(x_cluster, kmeans_labels)\n",
    "    print(\"silhouette_score k = {} : {}\".format(k , sample_silhouette_values.mean()))"
   ]
  },
  {
   "cell_type": "code",
   "execution_count": 11,
   "metadata": {},
   "outputs": [
    {
     "data": {
      "text/plain": [
       "array([[0.        , 0.16510319],\n",
       "       [0.5       , 0.11819887],\n",
       "       [0.66666667, 0.05816135],\n",
       "       ...,\n",
       "       [0.5       , 0.08067542],\n",
       "       [0.5       , 0.08630394],\n",
       "       [0.5       , 0.08442777]])"
      ]
     },
     "execution_count": 11,
     "metadata": {},
     "output_type": "execute_result"
    }
   ],
   "source": [
    "x_cluster"
   ]
  },
  {
   "attachments": {},
   "cell_type": "markdown",
   "metadata": {},
   "source": [
    "Segun el cálculo del coeficiente de siluetas se obtiene un mejor resultado para 3 clusters, se selecciona este valor para hacer la división de los datos"
   ]
  },
  {
   "attachments": {},
   "cell_type": "markdown",
   "metadata": {},
   "source": [
    "Entrenamiento y cálculo de las etiquetas de los clusters"
   ]
  },
  {
   "cell_type": "code",
   "execution_count": 12,
   "metadata": {},
   "outputs": [],
   "source": [
    "kmeans = KMeans(n_clusters=3, random_state=0, n_init=\"auto\")\n",
    "kmeans_labels = kmeans.fit_predict(x_cluster)"
   ]
  },
  {
   "attachments": {},
   "cell_type": "markdown",
   "metadata": {},
   "source": [
    "Se añade la etiqueta cluster como nueva variable de la base de entrenamiento"
   ]
  },
  {
   "cell_type": "code",
   "execution_count": 13,
   "metadata": {},
   "outputs": [],
   "source": [
    "X_est['cluster'] = kmeans_labels"
   ]
  },
  {
   "attachments": {},
   "cell_type": "markdown",
   "metadata": {},
   "source": [
    "Se grafica la distribución de los clusters para visualizar la distribución de los grupos"
   ]
  },
  {
   "cell_type": "code",
   "execution_count": 14,
   "metadata": {},
   "outputs": [
    {
     "data": {
      "image/png": "[encoded data removed]",
      "text/plain": [
       "<Figure size 1200x400 with 1 Axes>"
      ]
     },
     "metadata": {},
     "output_type": "display_data"
    }
   ],
   "source": [
    "graficar_distribucion_histograma(X_est, 'cluster')"
   ]
  },
  {
   "attachments": {},
   "cell_type": "markdown",
   "metadata": {},
   "source": [
    "Los rangos de precios de cada cluster son:"
   ]
  },
  {
   "cell_type": "code",
   "execution_count": 15,
   "metadata": {},
   "outputs": [
    {
     "name": "stdout",
     "output_type": "stream",
     "text": [
      "Cluster 0:  500000.0 9000000.0\n",
      "Cluster 1:  700000.0 9500000.0\n",
      "Cluster 2:  550000.0 8700000.0\n"
     ]
    }
   ],
   "source": [
    "print(\"Cluster 0: \", X_est[X_est['cluster']==0]['precio'].min(), X_est[X_est['cluster']==0]['precio'].max())\n",
    "print(\"Cluster 1: \", X_est[X_est['cluster']==1]['precio'].min(), X_est[X_est['cluster']==1]['precio'].max())\n",
    "print(\"Cluster 2: \", X_est[X_est['cluster']==2]['precio'].min(), X_est[X_est['cluster']==2]['precio'].max())"
   ]
  },
  {
   "cell_type": "code",
   "execution_count": 16,
   "metadata": {},
   "outputs": [
    {
     "data": {
      "image/png": "[encoded data removed]",
      "text/plain": [
       "<Figure size 1200x400 with 1 Axes>"
      ]
     },
     "metadata": {},
     "output_type": "display_data"
    }
   ],
   "source": [
    "graficar_distribucion_histograma( X_est[X_est['cluster']==0], 'precio')"
   ]
  },
  {
   "cell_type": "code",
   "execution_count": 17,
   "metadata": {},
   "outputs": [
    {
     "data": {
      "image/png": "[encoded data removed]",
      "text/plain": [
       "<Figure size 1200x400 with 1 Axes>"
      ]
     },
     "metadata": {},
     "output_type": "display_data"
    }
   ],
   "source": [
    "graficar_distribucion_histograma( X_est[X_est['cluster']==1], 'precio')"
   ]
  },
  {
   "cell_type": "code",
   "execution_count": 18,
   "metadata": {},
   "outputs": [
    {
     "data": {
      "image/png": "[encoded data removed]",
      "text/plain": [
       "<Figure size 1200x400 with 1 Axes>"
      ]
     },
     "metadata": {},
     "output_type": "display_data"
    }
   ],
   "source": [
    "graficar_distribucion_histograma( X_est[X_est['cluster']==2], 'precio')"
   ]
  },
  {
   "attachments": {},
   "cell_type": "markdown",
   "metadata": {},
   "source": [
    "**Modelo**\n",
    "\n",
    "La variacion de los hiperparámetros seleccionada corresponde al resultado de multiples ejecuciones observando los resultados obtenidos en los archivos csv que determinaron el aumento, disminución o eliminación de hiperparámetros"
   ]
  },
  {
   "attachments": {},
   "cell_type": "markdown",
   "metadata": {},
   "source": [
    "Se eliminan las variables de la base de modelado dado los anteriores análisis"
   ]
  },
  {
   "cell_type": "code",
   "execution_count": 19,
   "metadata": {},
   "outputs": [
    {
     "name": "stdout",
     "output_type": "stream",
     "text": [
      "Numero de muestras: 1217, Número de columnas: 38\n"
     ]
    }
   ],
   "source": [
    "X_cluster_0 = X_est[X_est['cluster'].isin([0])]\n",
    "imprimir_dimensiones(X_cluster_0)"
   ]
  },
  {
   "cell_type": "code",
   "execution_count": 20,
   "metadata": {},
   "outputs": [
    {
     "name": "stdout",
     "output_type": "stream",
     "text": [
      "Numero de muestras: 695, Número de columnas: 38\n"
     ]
    }
   ],
   "source": [
    "X_cluster_1 = X_est[X_est['cluster'].isin([1])]\n",
    "X_cluster_1 = X_cluster_1[(X_cluster_1['precio'] >= 3800000) & (X_cluster_1['precio'] <= 6900000) ]\n",
    "imprimir_dimensiones(X_cluster_1)"
   ]
  },
  {
   "cell_type": "code",
   "execution_count": 21,
   "metadata": {},
   "outputs": [
    {
     "name": "stdout",
     "output_type": "stream",
     "text": [
      "Numero de muestras: 102, Número de columnas: 38\n"
     ]
    }
   ],
   "source": [
    "X_cluster_2 = X_est[X_est['cluster'].isin([2])]\n",
    "X_cluster_2 = X_cluster_2[(X_cluster_2['precio'] >= 2000000) & (X_cluster_2['precio'] <= 6900000)]\n",
    "imprimir_dimensiones(X_cluster_2)"
   ]
  },
  {
   "cell_type": "code",
   "execution_count": 22,
   "metadata": {},
   "outputs": [],
   "source": [
    "X_concat = pd.concat([X_cluster_0, X_cluster_1, X_cluster_2])"
   ]
  },
  {
   "cell_type": "code",
   "execution_count": 23,
   "metadata": {},
   "outputs": [
    {
     "data": {
      "image/png": "[encoded data removed]",
      "text/plain": [
       "<Figure size 1200x400 with 1 Axes>"
      ]
     },
     "metadata": {},
     "output_type": "display_data"
    }
   ],
   "source": [
    "graficar_distribucion_histograma( X_concat, 'precio')"
   ]
  },
  {
   "cell_type": "code",
   "execution_count": 24,
   "metadata": {},
   "outputs": [
    {
     "data": {
      "text/plain": [
       "Index(['baños_familiares', 'area_bruta', 'numero_niveles', 'parqueaderos',\n",
       "       'alcobas_familiares', 'estrato', 'area_total', 'juegos_infantiles',\n",
       "       'balcon', 'zona_ropas', 'camaras_cctv', 'cancha_polideportiva',\n",
       "       'ascensor', 'cancha_squash', 'zona_bbq', 'patio',\n",
       "       'unidad_cerrada_conjunto', 'zonas_verdes', 'aire_acondicionado',\n",
       "       'jacuzzi', 'red_de_Gas', 'turco', 'porteria_24_7', 'sauna',\n",
       "       'calentador_de_agua', 'terraza', 'closet_de_linos', 'biblioteca',\n",
       "       'parqueadero_visitantes', 'gimnasio', 'piscina', 'salon_social',\n",
       "       'dispositivos_automatizacion', 'alarma', 'tipo_cocina_freq',\n",
       "       'tipo_pisos_freq', 'precio', 'cluster'],\n",
       "      dtype='object')"
      ]
     },
     "execution_count": 24,
     "metadata": {},
     "output_type": "execute_result"
    }
   ],
   "source": [
    "X_concat.columns"
   ]
  },
  {
   "cell_type": "code",
   "execution_count": 25,
   "metadata": {},
   "outputs": [
    {
     "name": "stdout",
     "output_type": "stream",
     "text": [
      "Numero de muestras: 2014, Número de columnas: 23\n"
     ]
    }
   ],
   "source": [
    "x_model = X_concat.drop(columns = columns_disc_corr)\n",
    "x_model = x_model.drop(columns='precio')\n",
    "y_model = X_concat['precio']\n",
    "imprimir_dimensiones(x_model)"
   ]
  },
  {
   "attachments": {},
   "cell_type": "markdown",
   "metadata": {},
   "source": [
    "**Dvisión de los datos:** Entrenamiento 75%, Test 25%"
   ]
  },
  {
   "cell_type": "code",
   "execution_count": 26,
   "metadata": {},
   "outputs": [
    {
     "name": "stdout",
     "output_type": "stream",
     "text": [
      "Tamaño de los Datos de Entrenamiento =  (1510, 23)\n",
      "Tamaño de los Datos de Validación =  (504, 23)\n",
      "Tamaño del Vector de Clases de Entrenamiento =  (1510,)\n",
      "Tamaño del Vector de Clases de Prueba =  (504,)\n"
     ]
    }
   ],
   "source": [
    "x_train, x_test, y_train, y_test = train_test_split(x_model, y_model, test_size = 0.25, train_size = 0.75, random_state = 17)\n",
    "print(\"Tamaño de los Datos de Entrenamiento = \", x_train.shape)\n",
    "print(\"Tamaño de los Datos de Validación = \", x_test.shape)\n",
    "print(\"Tamaño del Vector de Clases de Entrenamiento = \", y_train.shape)\n",
    "print(\"Tamaño del Vector de Clases de Prueba = \", y_test.shape)"
   ]
  },
  {
   "attachments": {},
   "cell_type": "markdown",
   "metadata": {},
   "source": [
    "**XGBOOST**"
   ]
  },
  {
   "cell_type": "code",
   "execution_count": 27,
   "metadata": {},
   "outputs": [],
   "source": [
    "for column in x_train.columns:\n",
    "    if column not in ['area_bruta', 'tipo_cocina_fre', 'tipo_pisos_freq']:\n",
    "        x_train[column] = x_train[column].astype('float') \n",
    "\n",
    "for column in x_test.columns:\n",
    "    if column not in ['area_bruta', 'tipo_cocina_fre', 'tipo_pisos_freq']:\n",
    "        x_test[column] = x_test[column].astype('float') "
   ]
  },
  {
   "cell_type": "code",
   "execution_count": 28,
   "metadata": {},
   "outputs": [
    {
     "name": "stdout",
     "output_type": "stream",
     "text": [
      "Modelo: {'eta': 0.01, 'learning_rate': 0.02, 'max_depth': 5, 'n_estimators': 80, 'objective': 'reg:squarederror', 'subsample': 0.2}\n",
      "Modelo: {'eta': 0.01, 'learning_rate': 0.02, 'max_depth': 5, 'n_estimators': 80, 'objective': 'reg:squarederror', 'subsample': 0.3}\n",
      "Modelo: {'eta': 0.01, 'learning_rate': 0.02, 'max_depth': 5, 'n_estimators': 80, 'objective': 'reg:squarederror', 'subsample': 0.5}\n",
      "Modelo: {'eta': 0.01, 'learning_rate': 0.02, 'max_depth': 5, 'n_estimators': 100, 'objective': 'reg:squarederror', 'subsample': 0.2}\n",
      "Modelo: {'eta': 0.01, 'learning_rate': 0.02, 'max_depth': 5, 'n_estimators': 100, 'objective': 'reg:squarederror', 'subsample': 0.3}\n",
      "Modelo: {'eta': 0.01, 'learning_rate': 0.02, 'max_depth': 5, 'n_estimators': 100, 'objective': 'reg:squarederror', 'subsample': 0.5}\n",
      "Modelo: {'eta': 0.01, 'learning_rate': 0.02, 'max_depth': 5, 'n_estimators': 120, 'objective': 'reg:squarederror', 'subsample': 0.2}\n",
      "Modelo: {'eta': 0.01, 'learning_rate': 0.02, 'max_depth': 5, 'n_estimators': 120, 'objective': 'reg:squarederror', 'subsample': 0.3}\n",
      "Modelo: {'eta': 0.01, 'learning_rate': 0.02, 'max_depth': 5, 'n_estimators': 120, 'objective': 'reg:squarederror', 'subsample': 0.5}\n",
      "Modelo: {'eta': 0.01, 'learning_rate': 0.02, 'max_depth': 5, 'n_estimators': 140, 'objective': 'reg:squarederror', 'subsample': 0.2}\n",
      "Modelo: {'eta': 0.01, 'learning_rate': 0.02, 'max_depth': 5, 'n_estimators': 140, 'objective': 'reg:squarederror', 'subsample': 0.3}\n",
      "Modelo: {'eta': 0.01, 'learning_rate': 0.02, 'max_depth': 5, 'n_estimators': 140, 'objective': 'reg:squarederror', 'subsample': 0.5}\n",
      "Modelo: {'eta': 0.01, 'learning_rate': 0.02, 'max_depth': 7, 'n_estimators': 80, 'objective': 'reg:squarederror', 'subsample': 0.2}\n",
      "Modelo: {'eta': 0.01, 'learning_rate': 0.02, 'max_depth': 7, 'n_estimators': 80, 'objective': 'reg:squarederror', 'subsample': 0.3}\n",
      "Modelo: {'eta': 0.01, 'learning_rate': 0.02, 'max_depth': 7, 'n_estimators': 80, 'objective': 'reg:squarederror', 'subsample': 0.5}\n",
      "Modelo: {'eta': 0.01, 'learning_rate': 0.02, 'max_depth': 7, 'n_estimators': 100, 'objective': 'reg:squarederror', 'subsample': 0.2}\n",
      "Modelo: {'eta': 0.01, 'learning_rate': 0.02, 'max_depth': 7, 'n_estimators': 100, 'objective': 'reg:squarederror', 'subsample': 0.3}\n",
      "Modelo: {'eta': 0.01, 'learning_rate': 0.02, 'max_depth': 7, 'n_estimators': 100, 'objective': 'reg:squarederror', 'subsample': 0.5}\n",
      "Modelo: {'eta': 0.01, 'learning_rate': 0.02, 'max_depth': 7, 'n_estimators': 120, 'objective': 'reg:squarederror', 'subsample': 0.2}\n",
      "Modelo: {'eta': 0.01, 'learning_rate': 0.02, 'max_depth': 7, 'n_estimators': 120, 'objective': 'reg:squarederror', 'subsample': 0.3}\n",
      "Modelo: {'eta': 0.01, 'learning_rate': 0.02, 'max_depth': 7, 'n_estimators': 120, 'objective': 'reg:squarederror', 'subsample': 0.5}\n",
      "Modelo: {'eta': 0.01, 'learning_rate': 0.02, 'max_depth': 7, 'n_estimators': 140, 'objective': 'reg:squarederror', 'subsample': 0.2}\n",
      "Modelo: {'eta': 0.01, 'learning_rate': 0.02, 'max_depth': 7, 'n_estimators': 140, 'objective': 'reg:squarederror', 'subsample': 0.3}\n",
      "Modelo: {'eta': 0.01, 'learning_rate': 0.02, 'max_depth': 7, 'n_estimators': 140, 'objective': 'reg:squarederror', 'subsample': 0.5}\n",
      "Modelo: {'eta': 0.01, 'learning_rate': 0.02, 'max_depth': 9, 'n_estimators': 80, 'objective': 'reg:squarederror', 'subsample': 0.2}\n",
      "Modelo: {'eta': 0.01, 'learning_rate': 0.02, 'max_depth': 9, 'n_estimators': 80, 'objective': 'reg:squarederror', 'subsample': 0.3}\n",
      "Modelo: {'eta': 0.01, 'learning_rate': 0.02, 'max_depth': 9, 'n_estimators': 80, 'objective': 'reg:squarederror', 'subsample': 0.5}\n",
      "Modelo: {'eta': 0.01, 'learning_rate': 0.02, 'max_depth': 9, 'n_estimators': 100, 'objective': 'reg:squarederror', 'subsample': 0.2}\n",
      "Modelo: {'eta': 0.01, 'learning_rate': 0.02, 'max_depth': 9, 'n_estimators': 100, 'objective': 'reg:squarederror', 'subsample': 0.3}\n",
      "Modelo: {'eta': 0.01, 'learning_rate': 0.02, 'max_depth': 9, 'n_estimators': 100, 'objective': 'reg:squarederror', 'subsample': 0.5}\n",
      "Modelo: {'eta': 0.01, 'learning_rate': 0.02, 'max_depth': 9, 'n_estimators': 120, 'objective': 'reg:squarederror', 'subsample': 0.2}\n",
      "Modelo: {'eta': 0.01, 'learning_rate': 0.02, 'max_depth': 9, 'n_estimators': 120, 'objective': 'reg:squarederror', 'subsample': 0.3}\n",
      "Modelo: {'eta': 0.01, 'learning_rate': 0.02, 'max_depth': 9, 'n_estimators': 120, 'objective': 'reg:squarederror', 'subsample': 0.5}\n",
      "Modelo: {'eta': 0.01, 'learning_rate': 0.02, 'max_depth': 9, 'n_estimators': 140, 'objective': 'reg:squarederror', 'subsample': 0.2}\n",
      "Modelo: {'eta': 0.01, 'learning_rate': 0.02, 'max_depth': 9, 'n_estimators': 140, 'objective': 'reg:squarederror', 'subsample': 0.3}\n",
      "Modelo: {'eta': 0.01, 'learning_rate': 0.02, 'max_depth': 9, 'n_estimators': 140, 'objective': 'reg:squarederror', 'subsample': 0.5}\n",
      "Modelo: {'eta': 0.01, 'learning_rate': 0.02, 'max_depth': 10, 'n_estimators': 80, 'objective': 'reg:squarederror', 'subsample': 0.2}\n",
      "Modelo: {'eta': 0.01, 'learning_rate': 0.02, 'max_depth': 10, 'n_estimators': 80, 'objective': 'reg:squarederror', 'subsample': 0.3}\n",
      "Modelo: {'eta': 0.01, 'learning_rate': 0.02, 'max_depth': 10, 'n_estimators': 80, 'objective': 'reg:squarederror', 'subsample': 0.5}\n",
      "Modelo: {'eta': 0.01, 'learning_rate': 0.02, 'max_depth': 10, 'n_estimators': 100, 'objective': 'reg:squarederror', 'subsample': 0.2}\n",
      "Modelo: {'eta': 0.01, 'learning_rate': 0.02, 'max_depth': 10, 'n_estimators': 100, 'objective': 'reg:squarederror', 'subsample': 0.3}\n",
      "Modelo: {'eta': 0.01, 'learning_rate': 0.02, 'max_depth': 10, 'n_estimators': 100, 'objective': 'reg:squarederror', 'subsample': 0.5}\n",
      "Modelo: {'eta': 0.01, 'learning_rate': 0.02, 'max_depth': 10, 'n_estimators': 120, 'objective': 'reg:squarederror', 'subsample': 0.2}\n",
      "Modelo: {'eta': 0.01, 'learning_rate': 0.02, 'max_depth': 10, 'n_estimators': 120, 'objective': 'reg:squarederror', 'subsample': 0.3}\n",
      "Modelo: {'eta': 0.01, 'learning_rate': 0.02, 'max_depth': 10, 'n_estimators': 120, 'objective': 'reg:squarederror', 'subsample': 0.5}\n",
      "Modelo: {'eta': 0.01, 'learning_rate': 0.02, 'max_depth': 10, 'n_estimators': 140, 'objective': 'reg:squarederror', 'subsample': 0.2}\n",
      "Modelo: {'eta': 0.01, 'learning_rate': 0.02, 'max_depth': 10, 'n_estimators': 140, 'objective': 'reg:squarederror', 'subsample': 0.3}\n",
      "Modelo: {'eta': 0.01, 'learning_rate': 0.02, 'max_depth': 10, 'n_estimators': 140, 'objective': 'reg:squarederror', 'subsample': 0.5}\n",
      "Modelo: {'eta': 0.01, 'learning_rate': 0.02, 'max_depth': 11, 'n_estimators': 80, 'objective': 'reg:squarederror', 'subsample': 0.2}\n",
      "Modelo: {'eta': 0.01, 'learning_rate': 0.02, 'max_depth': 11, 'n_estimators': 80, 'objective': 'reg:squarederror', 'subsample': 0.3}\n",
      "Modelo: {'eta': 0.01, 'learning_rate': 0.02, 'max_depth': 11, 'n_estimators': 80, 'objective': 'reg:squarederror', 'subsample': 0.5}\n",
      "Modelo: {'eta': 0.01, 'learning_rate': 0.02, 'max_depth': 11, 'n_estimators': 100, 'objective': 'reg:squarederror', 'subsample': 0.2}\n",
      "Modelo: {'eta': 0.01, 'learning_rate': 0.02, 'max_depth': 11, 'n_estimators': 100, 'objective': 'reg:squarederror', 'subsample': 0.3}\n",
      "Modelo: {'eta': 0.01, 'learning_rate': 0.02, 'max_depth': 11, 'n_estimators': 100, 'objective': 'reg:squarederror', 'subsample': 0.5}\n",
      "Modelo: {'eta': 0.01, 'learning_rate': 0.02, 'max_depth': 11, 'n_estimators': 120, 'objective': 'reg:squarederror', 'subsample': 0.2}\n",
      "Modelo: {'eta': 0.01, 'learning_rate': 0.02, 'max_depth': 11, 'n_estimators': 120, 'objective': 'reg:squarederror', 'subsample': 0.3}\n",
      "Modelo: {'eta': 0.01, 'learning_rate': 0.02, 'max_depth': 11, 'n_estimators': 120, 'objective': 'reg:squarederror', 'subsample': 0.5}\n",
      "Modelo: {'eta': 0.01, 'learning_rate': 0.02, 'max_depth': 11, 'n_estimators': 140, 'objective': 'reg:squarederror', 'subsample': 0.2}\n",
      "Modelo: {'eta': 0.01, 'learning_rate': 0.02, 'max_depth': 11, 'n_estimators': 140, 'objective': 'reg:squarederror', 'subsample': 0.3}\n",
      "Modelo: {'eta': 0.01, 'learning_rate': 0.02, 'max_depth': 11, 'n_estimators': 140, 'objective': 'reg:squarederror', 'subsample': 0.5}\n",
      "Modelo: {'eta': 0.01, 'learning_rate': 0.03, 'max_depth': 5, 'n_estimators': 80, 'objective': 'reg:squarederror', 'subsample': 0.2}\n",
      "Modelo: {'eta': 0.01, 'learning_rate': 0.03, 'max_depth': 5, 'n_estimators': 80, 'objective': 'reg:squarederror', 'subsample': 0.3}\n",
      "Modelo: {'eta': 0.01, 'learning_rate': 0.03, 'max_depth': 5, 'n_estimators': 80, 'objective': 'reg:squarederror', 'subsample': 0.5}\n",
      "Modelo: {'eta': 0.01, 'learning_rate': 0.03, 'max_depth': 5, 'n_estimators': 100, 'objective': 'reg:squarederror', 'subsample': 0.2}\n",
      "Modelo: {'eta': 0.01, 'learning_rate': 0.03, 'max_depth': 5, 'n_estimators': 100, 'objective': 'reg:squarederror', 'subsample': 0.3}\n",
      "Modelo: {'eta': 0.01, 'learning_rate': 0.03, 'max_depth': 5, 'n_estimators': 100, 'objective': 'reg:squarederror', 'subsample': 0.5}\n",
      "Modelo: {'eta': 0.01, 'learning_rate': 0.03, 'max_depth': 5, 'n_estimators': 120, 'objective': 'reg:squarederror', 'subsample': 0.2}\n",
      "Modelo: {'eta': 0.01, 'learning_rate': 0.03, 'max_depth': 5, 'n_estimators': 120, 'objective': 'reg:squarederror', 'subsample': 0.3}\n",
      "Modelo: {'eta': 0.01, 'learning_rate': 0.03, 'max_depth': 5, 'n_estimators': 120, 'objective': 'reg:squarederror', 'subsample': 0.5}\n",
      "Modelo: {'eta': 0.01, 'learning_rate': 0.03, 'max_depth': 5, 'n_estimators': 140, 'objective': 'reg:squarederror', 'subsample': 0.2}\n",
      "Modelo: {'eta': 0.01, 'learning_rate': 0.03, 'max_depth': 5, 'n_estimators': 140, 'objective': 'reg:squarederror', 'subsample': 0.3}\n",
      "Modelo: {'eta': 0.01, 'learning_rate': 0.03, 'max_depth': 5, 'n_estimators': 140, 'objective': 'reg:squarederror', 'subsample': 0.5}\n",
      "Modelo: {'eta': 0.01, 'learning_rate': 0.03, 'max_depth': 7, 'n_estimators': 80, 'objective': 'reg:squarederror', 'subsample': 0.2}\n",
      "Modelo: {'eta': 0.01, 'learning_rate': 0.03, 'max_depth': 7, 'n_estimators': 80, 'objective': 'reg:squarederror', 'subsample': 0.3}\n",
      "Modelo: {'eta': 0.01, 'learning_rate': 0.03, 'max_depth': 7, 'n_estimators': 80, 'objective': 'reg:squarederror', 'subsample': 0.5}\n",
      "Modelo: {'eta': 0.01, 'learning_rate': 0.03, 'max_depth': 7, 'n_estimators': 100, 'objective': 'reg:squarederror', 'subsample': 0.2}\n",
      "Modelo: {'eta': 0.01, 'learning_rate': 0.03, 'max_depth': 7, 'n_estimators': 100, 'objective': 'reg:squarederror', 'subsample': 0.3}\n",
      "Modelo: {'eta': 0.01, 'learning_rate': 0.03, 'max_depth': 7, 'n_estimators': 100, 'objective': 'reg:squarederror', 'subsample': 0.5}\n",
      "Modelo: {'eta': 0.01, 'learning_rate': 0.03, 'max_depth': 7, 'n_estimators': 120, 'objective': 'reg:squarederror', 'subsample': 0.2}\n",
      "Modelo: {'eta': 0.01, 'learning_rate': 0.03, 'max_depth': 7, 'n_estimators': 120, 'objective': 'reg:squarederror', 'subsample': 0.3}\n",
      "Modelo: {'eta': 0.01, 'learning_rate': 0.03, 'max_depth': 7, 'n_estimators': 120, 'objective': 'reg:squarederror', 'subsample': 0.5}\n",
      "Modelo: {'eta': 0.01, 'learning_rate': 0.03, 'max_depth': 7, 'n_estimators': 140, 'objective': 'reg:squarederror', 'subsample': 0.2}\n",
      "Modelo: {'eta': 0.01, 'learning_rate': 0.03, 'max_depth': 7, 'n_estimators': 140, 'objective': 'reg:squarederror', 'subsample': 0.3}\n",
      "Modelo: {'eta': 0.01, 'learning_rate': 0.03, 'max_depth': 7, 'n_estimators': 140, 'objective': 'reg:squarederror', 'subsample': 0.5}\n",
      "Modelo: {'eta': 0.01, 'learning_rate': 0.03, 'max_depth': 9, 'n_estimators': 80, 'objective': 'reg:squarederror', 'subsample': 0.2}\n",
      "Modelo: {'eta': 0.01, 'learning_rate': 0.03, 'max_depth': 9, 'n_estimators': 80, 'objective': 'reg:squarederror', 'subsample': 0.3}\n",
      "Modelo: {'eta': 0.01, 'learning_rate': 0.03, 'max_depth': 9, 'n_estimators': 80, 'objective': 'reg:squarederror', 'subsample': 0.5}\n",
      "Modelo: {'eta': 0.01, 'learning_rate': 0.03, 'max_depth': 9, 'n_estimators': 100, 'objective': 'reg:squarederror', 'subsample': 0.2}\n",
      "Modelo: {'eta': 0.01, 'learning_rate': 0.03, 'max_depth': 9, 'n_estimators': 100, 'objective': 'reg:squarederror', 'subsample': 0.3}\n",
      "Modelo: {'eta': 0.01, 'learning_rate': 0.03, 'max_depth': 9, 'n_estimators': 100, 'objective': 'reg:squarederror', 'subsample': 0.5}\n",
      "Modelo: {'eta': 0.01, 'learning_rate': 0.03, 'max_depth': 9, 'n_estimators': 120, 'objective': 'reg:squarederror', 'subsample': 0.2}\n",
      "Modelo: {'eta': 0.01, 'learning_rate': 0.03, 'max_depth': 9, 'n_estimators': 120, 'objective': 'reg:squarederror', 'subsample': 0.3}\n",
      "Modelo: {'eta': 0.01, 'learning_rate': 0.03, 'max_depth': 9, 'n_estimators': 120, 'objective': 'reg:squarederror', 'subsample': 0.5}\n",
      "Modelo: {'eta': 0.01, 'learning_rate': 0.03, 'max_depth': 9, 'n_estimators': 140, 'objective': 'reg:squarederror', 'subsample': 0.2}\n",
      "Modelo: {'eta': 0.01, 'learning_rate': 0.03, 'max_depth': 9, 'n_estimators': 140, 'objective': 'reg:squarederror', 'subsample': 0.3}\n",
      "Modelo: {'eta': 0.01, 'learning_rate': 0.03, 'max_depth': 9, 'n_estimators': 140, 'objective': 'reg:squarederror', 'subsample': 0.5}\n",
      "Modelo: {'eta': 0.01, 'learning_rate': 0.03, 'max_depth': 10, 'n_estimators': 80, 'objective': 'reg:squarederror', 'subsample': 0.2}\n",
      "Modelo: {'eta': 0.01, 'learning_rate': 0.03, 'max_depth': 10, 'n_estimators': 80, 'objective': 'reg:squarederror', 'subsample': 0.3}\n",
      "Modelo: {'eta': 0.01, 'learning_rate': 0.03, 'max_depth': 10, 'n_estimators': 80, 'objective': 'reg:squarederror', 'subsample': 0.5}\n",
      "Modelo: {'eta': 0.01, 'learning_rate': 0.03, 'max_depth': 10, 'n_estimators': 100, 'objective': 'reg:squarederror', 'subsample': 0.2}\n",
      "Modelo: {'eta': 0.01, 'learning_rate': 0.03, 'max_depth': 10, 'n_estimators': 100, 'objective': 'reg:squarederror', 'subsample': 0.3}\n",
      "Modelo: {'eta': 0.01, 'learning_rate': 0.03, 'max_depth': 10, 'n_estimators': 100, 'objective': 'reg:squarederror', 'subsample': 0.5}\n",
      "Modelo: {'eta': 0.01, 'learning_rate': 0.03, 'max_depth': 10, 'n_estimators': 120, 'objective': 'reg:squarederror', 'subsample': 0.2}\n",
      "Modelo: {'eta': 0.01, 'learning_rate': 0.03, 'max_depth': 10, 'n_estimators': 120, 'objective': 'reg:squarederror', 'subsample': 0.3}\n",
      "Modelo: {'eta': 0.01, 'learning_rate': 0.03, 'max_depth': 10, 'n_estimators': 120, 'objective': 'reg:squarederror', 'subsample': 0.5}\n",
      "Modelo: {'eta': 0.01, 'learning_rate': 0.03, 'max_depth': 10, 'n_estimators': 140, 'objective': 'reg:squarederror', 'subsample': 0.2}\n",
      "Modelo: {'eta': 0.01, 'learning_rate': 0.03, 'max_depth': 10, 'n_estimators': 140, 'objective': 'reg:squarederror', 'subsample': 0.3}\n",
      "Modelo: {'eta': 0.01, 'learning_rate': 0.03, 'max_depth': 10, 'n_estimators': 140, 'objective': 'reg:squarederror', 'subsample': 0.5}\n",
      "Modelo: {'eta': 0.01, 'learning_rate': 0.03, 'max_depth': 11, 'n_estimators': 80, 'objective': 'reg:squarederror', 'subsample': 0.2}\n",
      "Modelo: {'eta': 0.01, 'learning_rate': 0.03, 'max_depth': 11, 'n_estimators': 80, 'objective': 'reg:squarederror', 'subsample': 0.3}\n",
      "Modelo: {'eta': 0.01, 'learning_rate': 0.03, 'max_depth': 11, 'n_estimators': 80, 'objective': 'reg:squarederror', 'subsample': 0.5}\n",
      "Modelo: {'eta': 0.01, 'learning_rate': 0.03, 'max_depth': 11, 'n_estimators': 100, 'objective': 'reg:squarederror', 'subsample': 0.2}\n",
      "Modelo: {'eta': 0.01, 'learning_rate': 0.03, 'max_depth': 11, 'n_estimators': 100, 'objective': 'reg:squarederror', 'subsample': 0.3}\n",
      "Modelo: {'eta': 0.01, 'learning_rate': 0.03, 'max_depth': 11, 'n_estimators': 100, 'objective': 'reg:squarederror', 'subsample': 0.5}\n",
      "Modelo: {'eta': 0.01, 'learning_rate': 0.03, 'max_depth': 11, 'n_estimators': 120, 'objective': 'reg:squarederror', 'subsample': 0.2}\n",
      "Modelo: {'eta': 0.01, 'learning_rate': 0.03, 'max_depth': 11, 'n_estimators': 120, 'objective': 'reg:squarederror', 'subsample': 0.3}\n",
      "Modelo: {'eta': 0.01, 'learning_rate': 0.03, 'max_depth': 11, 'n_estimators': 120, 'objective': 'reg:squarederror', 'subsample': 0.5}\n",
      "Modelo: {'eta': 0.01, 'learning_rate': 0.03, 'max_depth': 11, 'n_estimators': 140, 'objective': 'reg:squarederror', 'subsample': 0.2}\n",
      "Modelo: {'eta': 0.01, 'learning_rate': 0.03, 'max_depth': 11, 'n_estimators': 140, 'objective': 'reg:squarederror', 'subsample': 0.3}\n",
      "Modelo: {'eta': 0.01, 'learning_rate': 0.03, 'max_depth': 11, 'n_estimators': 140, 'objective': 'reg:squarederror', 'subsample': 0.5}\n",
      "Modelo: {'eta': 0.01, 'learning_rate': 0.05, 'max_depth': 5, 'n_estimators': 80, 'objective': 'reg:squarederror', 'subsample': 0.2}\n",
      "Modelo: {'eta': 0.01, 'learning_rate': 0.05, 'max_depth': 5, 'n_estimators': 80, 'objective': 'reg:squarederror', 'subsample': 0.3}\n",
      "Modelo: {'eta': 0.01, 'learning_rate': 0.05, 'max_depth': 5, 'n_estimators': 80, 'objective': 'reg:squarederror', 'subsample': 0.5}\n",
      "Modelo: {'eta': 0.01, 'learning_rate': 0.05, 'max_depth': 5, 'n_estimators': 100, 'objective': 'reg:squarederror', 'subsample': 0.2}\n",
      "Modelo: {'eta': 0.01, 'learning_rate': 0.05, 'max_depth': 5, 'n_estimators': 100, 'objective': 'reg:squarederror', 'subsample': 0.3}\n",
      "Modelo: {'eta': 0.01, 'learning_rate': 0.05, 'max_depth': 5, 'n_estimators': 100, 'objective': 'reg:squarederror', 'subsample': 0.5}\n",
      "Modelo: {'eta': 0.01, 'learning_rate': 0.05, 'max_depth': 5, 'n_estimators': 120, 'objective': 'reg:squarederror', 'subsample': 0.2}\n",
      "Modelo: {'eta': 0.01, 'learning_rate': 0.05, 'max_depth': 5, 'n_estimators': 120, 'objective': 'reg:squarederror', 'subsample': 0.3}\n",
      "Modelo: {'eta': 0.01, 'learning_rate': 0.05, 'max_depth': 5, 'n_estimators': 120, 'objective': 'reg:squarederror', 'subsample': 0.5}\n",
      "Modelo: {'eta': 0.01, 'learning_rate': 0.05, 'max_depth': 5, 'n_estimators': 140, 'objective': 'reg:squarederror', 'subsample': 0.2}\n",
      "Modelo: {'eta': 0.01, 'learning_rate': 0.05, 'max_depth': 5, 'n_estimators': 140, 'objective': 'reg:squarederror', 'subsample': 0.3}\n",
      "Modelo: {'eta': 0.01, 'learning_rate': 0.05, 'max_depth': 5, 'n_estimators': 140, 'objective': 'reg:squarederror', 'subsample': 0.5}\n",
      "Modelo: {'eta': 0.01, 'learning_rate': 0.05, 'max_depth': 7, 'n_estimators': 80, 'objective': 'reg:squarederror', 'subsample': 0.2}\n",
      "Modelo: {'eta': 0.01, 'learning_rate': 0.05, 'max_depth': 7, 'n_estimators': 80, 'objective': 'reg:squarederror', 'subsample': 0.3}\n",
      "Modelo: {'eta': 0.01, 'learning_rate': 0.05, 'max_depth': 7, 'n_estimators': 80, 'objective': 'reg:squarederror', 'subsample': 0.5}\n",
      "Modelo: {'eta': 0.01, 'learning_rate': 0.05, 'max_depth': 7, 'n_estimators': 100, 'objective': 'reg:squarederror', 'subsample': 0.2}\n",
      "Modelo: {'eta': 0.01, 'learning_rate': 0.05, 'max_depth': 7, 'n_estimators': 100, 'objective': 'reg:squarederror', 'subsample': 0.3}\n",
      "Modelo: {'eta': 0.01, 'learning_rate': 0.05, 'max_depth': 7, 'n_estimators': 100, 'objective': 'reg:squarederror', 'subsample': 0.5}\n",
      "Modelo: {'eta': 0.01, 'learning_rate': 0.05, 'max_depth': 7, 'n_estimators': 120, 'objective': 'reg:squarederror', 'subsample': 0.2}\n",
      "Modelo: {'eta': 0.01, 'learning_rate': 0.05, 'max_depth': 7, 'n_estimators': 120, 'objective': 'reg:squarederror', 'subsample': 0.3}\n",
      "Modelo: {'eta': 0.01, 'learning_rate': 0.05, 'max_depth': 7, 'n_estimators': 120, 'objective': 'reg:squarederror', 'subsample': 0.5}\n",
      "Modelo: {'eta': 0.01, 'learning_rate': 0.05, 'max_depth': 7, 'n_estimators': 140, 'objective': 'reg:squarederror', 'subsample': 0.2}\n",
      "Modelo: {'eta': 0.01, 'learning_rate': 0.05, 'max_depth': 7, 'n_estimators': 140, 'objective': 'reg:squarederror', 'subsample': 0.3}\n",
      "Modelo: {'eta': 0.01, 'learning_rate': 0.05, 'max_depth': 7, 'n_estimators': 140, 'objective': 'reg:squarederror', 'subsample': 0.5}\n",
      "Modelo: {'eta': 0.01, 'learning_rate': 0.05, 'max_depth': 9, 'n_estimators': 80, 'objective': 'reg:squarederror', 'subsample': 0.2}\n",
      "Modelo: {'eta': 0.01, 'learning_rate': 0.05, 'max_depth': 9, 'n_estimators': 80, 'objective': 'reg:squarederror', 'subsample': 0.3}\n",
      "Modelo: {'eta': 0.01, 'learning_rate': 0.05, 'max_depth': 9, 'n_estimators': 80, 'objective': 'reg:squarederror', 'subsample': 0.5}\n",
      "Modelo: {'eta': 0.01, 'learning_rate': 0.05, 'max_depth': 9, 'n_estimators': 100, 'objective': 'reg:squarederror', 'subsample': 0.2}\n",
      "Modelo: {'eta': 0.01, 'learning_rate': 0.05, 'max_depth': 9, 'n_estimators': 100, 'objective': 'reg:squarederror', 'subsample': 0.3}\n",
      "Modelo: {'eta': 0.01, 'learning_rate': 0.05, 'max_depth': 9, 'n_estimators': 100, 'objective': 'reg:squarederror', 'subsample': 0.5}\n",
      "Modelo: {'eta': 0.01, 'learning_rate': 0.05, 'max_depth': 9, 'n_estimators': 120, 'objective': 'reg:squarederror', 'subsample': 0.2}\n",
      "Modelo: {'eta': 0.01, 'learning_rate': 0.05, 'max_depth': 9, 'n_estimators': 120, 'objective': 'reg:squarederror', 'subsample': 0.3}\n",
      "Modelo: {'eta': 0.01, 'learning_rate': 0.05, 'max_depth': 9, 'n_estimators': 120, 'objective': 'reg:squarederror', 'subsample': 0.5}\n",
      "Modelo: {'eta': 0.01, 'learning_rate': 0.05, 'max_depth': 9, 'n_estimators': 140, 'objective': 'reg:squarederror', 'subsample': 0.2}\n",
      "Modelo: {'eta': 0.01, 'learning_rate': 0.05, 'max_depth': 9, 'n_estimators': 140, 'objective': 'reg:squarederror', 'subsample': 0.3}\n",
      "Modelo: {'eta': 0.01, 'learning_rate': 0.05, 'max_depth': 9, 'n_estimators': 140, 'objective': 'reg:squarederror', 'subsample': 0.5}\n",
      "Modelo: {'eta': 0.01, 'learning_rate': 0.05, 'max_depth': 10, 'n_estimators': 80, 'objective': 'reg:squarederror', 'subsample': 0.2}\n",
      "Modelo: {'eta': 0.01, 'learning_rate': 0.05, 'max_depth': 10, 'n_estimators': 80, 'objective': 'reg:squarederror', 'subsample': 0.3}\n",
      "Modelo: {'eta': 0.01, 'learning_rate': 0.05, 'max_depth': 10, 'n_estimators': 80, 'objective': 'reg:squarederror', 'subsample': 0.5}\n",
      "Modelo: {'eta': 0.01, 'learning_rate': 0.05, 'max_depth': 10, 'n_estimators': 100, 'objective': 'reg:squarederror', 'subsample': 0.2}\n",
      "Modelo: {'eta': 0.01, 'learning_rate': 0.05, 'max_depth': 10, 'n_estimators': 100, 'objective': 'reg:squarederror', 'subsample': 0.3}\n",
      "Modelo: {'eta': 0.01, 'learning_rate': 0.05, 'max_depth': 10, 'n_estimators': 100, 'objective': 'reg:squarederror', 'subsample': 0.5}\n",
      "Modelo: {'eta': 0.01, 'learning_rate': 0.05, 'max_depth': 10, 'n_estimators': 120, 'objective': 'reg:squarederror', 'subsample': 0.2}\n",
      "Modelo: {'eta': 0.01, 'learning_rate': 0.05, 'max_depth': 10, 'n_estimators': 120, 'objective': 'reg:squarederror', 'subsample': 0.3}\n",
      "Modelo: {'eta': 0.01, 'learning_rate': 0.05, 'max_depth': 10, 'n_estimators': 120, 'objective': 'reg:squarederror', 'subsample': 0.5}\n",
      "Modelo: {'eta': 0.01, 'learning_rate': 0.05, 'max_depth': 10, 'n_estimators': 140, 'objective': 'reg:squarederror', 'subsample': 0.2}\n",
      "Modelo: {'eta': 0.01, 'learning_rate': 0.05, 'max_depth': 10, 'n_estimators': 140, 'objective': 'reg:squarederror', 'subsample': 0.3}\n",
      "Modelo: {'eta': 0.01, 'learning_rate': 0.05, 'max_depth': 10, 'n_estimators': 140, 'objective': 'reg:squarederror', 'subsample': 0.5}\n",
      "Modelo: {'eta': 0.01, 'learning_rate': 0.05, 'max_depth': 11, 'n_estimators': 80, 'objective': 'reg:squarederror', 'subsample': 0.2}\n",
      "Modelo: {'eta': 0.01, 'learning_rate': 0.05, 'max_depth': 11, 'n_estimators': 80, 'objective': 'reg:squarederror', 'subsample': 0.3}\n",
      "Modelo: {'eta': 0.01, 'learning_rate': 0.05, 'max_depth': 11, 'n_estimators': 80, 'objective': 'reg:squarederror', 'subsample': 0.5}\n",
      "Modelo: {'eta': 0.01, 'learning_rate': 0.05, 'max_depth': 11, 'n_estimators': 100, 'objective': 'reg:squarederror', 'subsample': 0.2}\n",
      "Modelo: {'eta': 0.01, 'learning_rate': 0.05, 'max_depth': 11, 'n_estimators': 100, 'objective': 'reg:squarederror', 'subsample': 0.3}\n",
      "Modelo: {'eta': 0.01, 'learning_rate': 0.05, 'max_depth': 11, 'n_estimators': 100, 'objective': 'reg:squarederror', 'subsample': 0.5}\n",
      "Modelo: {'eta': 0.01, 'learning_rate': 0.05, 'max_depth': 11, 'n_estimators': 120, 'objective': 'reg:squarederror', 'subsample': 0.2}\n",
      "Modelo: {'eta': 0.01, 'learning_rate': 0.05, 'max_depth': 11, 'n_estimators': 120, 'objective': 'reg:squarederror', 'subsample': 0.3}\n",
      "Modelo: {'eta': 0.01, 'learning_rate': 0.05, 'max_depth': 11, 'n_estimators': 120, 'objective': 'reg:squarederror', 'subsample': 0.5}\n",
      "Modelo: {'eta': 0.01, 'learning_rate': 0.05, 'max_depth': 11, 'n_estimators': 140, 'objective': 'reg:squarederror', 'subsample': 0.2}\n",
      "Modelo: {'eta': 0.01, 'learning_rate': 0.05, 'max_depth': 11, 'n_estimators': 140, 'objective': 'reg:squarederror', 'subsample': 0.3}\n",
      "Modelo: {'eta': 0.01, 'learning_rate': 0.05, 'max_depth': 11, 'n_estimators': 140, 'objective': 'reg:squarederror', 'subsample': 0.5}\n",
      "Modelo: {'eta': 0.05, 'learning_rate': 0.02, 'max_depth': 5, 'n_estimators': 80, 'objective': 'reg:squarederror', 'subsample': 0.2}\n",
      "Modelo: {'eta': 0.05, 'learning_rate': 0.02, 'max_depth': 5, 'n_estimators': 80, 'objective': 'reg:squarederror', 'subsample': 0.3}\n",
      "Modelo: {'eta': 0.05, 'learning_rate': 0.02, 'max_depth': 5, 'n_estimators': 80, 'objective': 'reg:squarederror', 'subsample': 0.5}\n",
      "Modelo: {'eta': 0.05, 'learning_rate': 0.02, 'max_depth': 5, 'n_estimators': 100, 'objective': 'reg:squarederror', 'subsample': 0.2}\n",
      "Modelo: {'eta': 0.05, 'learning_rate': 0.02, 'max_depth': 5, 'n_estimators': 100, 'objective': 'reg:squarederror', 'subsample': 0.3}\n",
      "Modelo: {'eta': 0.05, 'learning_rate': 0.02, 'max_depth': 5, 'n_estimators': 100, 'objective': 'reg:squarederror', 'subsample': 0.5}\n",
      "Modelo: {'eta': 0.05, 'learning_rate': 0.02, 'max_depth': 5, 'n_estimators': 120, 'objective': 'reg:squarederror', 'subsample': 0.2}\n",
      "Modelo: {'eta': 0.05, 'learning_rate': 0.02, 'max_depth': 5, 'n_estimators': 120, 'objective': 'reg:squarederror', 'subsample': 0.3}\n",
      "Modelo: {'eta': 0.05, 'learning_rate': 0.02, 'max_depth': 5, 'n_estimators': 120, 'objective': 'reg:squarederror', 'subsample': 0.5}\n",
      "Modelo: {'eta': 0.05, 'learning_rate': 0.02, 'max_depth': 5, 'n_estimators': 140, 'objective': 'reg:squarederror', 'subsample': 0.2}\n",
      "Modelo: {'eta': 0.05, 'learning_rate': 0.02, 'max_depth': 5, 'n_estimators': 140, 'objective': 'reg:squarederror', 'subsample': 0.3}\n",
      "Modelo: {'eta': 0.05, 'learning_rate': 0.02, 'max_depth': 5, 'n_estimators': 140, 'objective': 'reg:squarederror', 'subsample': 0.5}\n",
      "Modelo: {'eta': 0.05, 'learning_rate': 0.02, 'max_depth': 7, 'n_estimators': 80, 'objective': 'reg:squarederror', 'subsample': 0.2}\n",
      "Modelo: {'eta': 0.05, 'learning_rate': 0.02, 'max_depth': 7, 'n_estimators': 80, 'objective': 'reg:squarederror', 'subsample': 0.3}\n",
      "Modelo: {'eta': 0.05, 'learning_rate': 0.02, 'max_depth': 7, 'n_estimators': 80, 'objective': 'reg:squarederror', 'subsample': 0.5}\n",
      "Modelo: {'eta': 0.05, 'learning_rate': 0.02, 'max_depth': 7, 'n_estimators': 100, 'objective': 'reg:squarederror', 'subsample': 0.2}\n",
      "Modelo: {'eta': 0.05, 'learning_rate': 0.02, 'max_depth': 7, 'n_estimators': 100, 'objective': 'reg:squarederror', 'subsample': 0.3}\n",
      "Modelo: {'eta': 0.05, 'learning_rate': 0.02, 'max_depth': 7, 'n_estimators': 100, 'objective': 'reg:squarederror', 'subsample': 0.5}\n",
      "Modelo: {'eta': 0.05, 'learning_rate': 0.02, 'max_depth': 7, 'n_estimators': 120, 'objective': 'reg:squarederror', 'subsample': 0.2}\n",
      "Modelo: {'eta': 0.05, 'learning_rate': 0.02, 'max_depth': 7, 'n_estimators': 120, 'objective': 'reg:squarederror', 'subsample': 0.3}\n",
      "Modelo: {'eta': 0.05, 'learning_rate': 0.02, 'max_depth': 7, 'n_estimators': 120, 'objective': 'reg:squarederror', 'subsample': 0.5}\n",
      "Modelo: {'eta': 0.05, 'learning_rate': 0.02, 'max_depth': 7, 'n_estimators': 140, 'objective': 'reg:squarederror', 'subsample': 0.2}\n",
      "Modelo: {'eta': 0.05, 'learning_rate': 0.02, 'max_depth': 7, 'n_estimators': 140, 'objective': 'reg:squarederror', 'subsample': 0.3}\n",
      "Modelo: {'eta': 0.05, 'learning_rate': 0.02, 'max_depth': 7, 'n_estimators': 140, 'objective': 'reg:squarederror', 'subsample': 0.5}\n",
      "Modelo: {'eta': 0.05, 'learning_rate': 0.02, 'max_depth': 9, 'n_estimators': 80, 'objective': 'reg:squarederror', 'subsample': 0.2}\n",
      "Modelo: {'eta': 0.05, 'learning_rate': 0.02, 'max_depth': 9, 'n_estimators': 80, 'objective': 'reg:squarederror', 'subsample': 0.3}\n",
      "Modelo: {'eta': 0.05, 'learning_rate': 0.02, 'max_depth': 9, 'n_estimators': 80, 'objective': 'reg:squarederror', 'subsample': 0.5}\n",
      "Modelo: {'eta': 0.05, 'learning_rate': 0.02, 'max_depth': 9, 'n_estimators': 100, 'objective': 'reg:squarederror', 'subsample': 0.2}\n",
      "Modelo: {'eta': 0.05, 'learning_rate': 0.02, 'max_depth': 9, 'n_estimators': 100, 'objective': 'reg:squarederror', 'subsample': 0.3}\n",
      "Modelo: {'eta': 0.05, 'learning_rate': 0.02, 'max_depth': 9, 'n_estimators': 100, 'objective': 'reg:squarederror', 'subsample': 0.5}\n",
      "Modelo: {'eta': 0.05, 'learning_rate': 0.02, 'max_depth': 9, 'n_estimators': 120, 'objective': 'reg:squarederror', 'subsample': 0.2}\n",
      "Modelo: {'eta': 0.05, 'learning_rate': 0.02, 'max_depth': 9, 'n_estimators': 120, 'objective': 'reg:squarederror', 'subsample': 0.3}\n",
      "Modelo: {'eta': 0.05, 'learning_rate': 0.02, 'max_depth': 9, 'n_estimators': 120, 'objective': 'reg:squarederror', 'subsample': 0.5}\n",
      "Modelo: {'eta': 0.05, 'learning_rate': 0.02, 'max_depth': 9, 'n_estimators': 140, 'objective': 'reg:squarederror', 'subsample': 0.2}\n",
      "Modelo: {'eta': 0.05, 'learning_rate': 0.02, 'max_depth': 9, 'n_estimators': 140, 'objective': 'reg:squarederror', 'subsample': 0.3}\n",
      "Modelo: {'eta': 0.05, 'learning_rate': 0.02, 'max_depth': 9, 'n_estimators': 140, 'objective': 'reg:squarederror', 'subsample': 0.5}\n",
      "Modelo: {'eta': 0.05, 'learning_rate': 0.02, 'max_depth': 10, 'n_estimators': 80, 'objective': 'reg:squarederror', 'subsample': 0.2}\n",
      "Modelo: {'eta': 0.05, 'learning_rate': 0.02, 'max_depth': 10, 'n_estimators': 80, 'objective': 'reg:squarederror', 'subsample': 0.3}\n",
      "Modelo: {'eta': 0.05, 'learning_rate': 0.02, 'max_depth': 10, 'n_estimators': 80, 'objective': 'reg:squarederror', 'subsample': 0.5}\n",
      "Modelo: {'eta': 0.05, 'learning_rate': 0.02, 'max_depth': 10, 'n_estimators': 100, 'objective': 'reg:squarederror', 'subsample': 0.2}\n",
      "Modelo: {'eta': 0.05, 'learning_rate': 0.02, 'max_depth': 10, 'n_estimators': 100, 'objective': 'reg:squarederror', 'subsample': 0.3}\n",
      "Modelo: {'eta': 0.05, 'learning_rate': 0.02, 'max_depth': 10, 'n_estimators': 100, 'objective': 'reg:squarederror', 'subsample': 0.5}\n",
      "Modelo: {'eta': 0.05, 'learning_rate': 0.02, 'max_depth': 10, 'n_estimators': 120, 'objective': 'reg:squarederror', 'subsample': 0.2}\n",
      "Modelo: {'eta': 0.05, 'learning_rate': 0.02, 'max_depth': 10, 'n_estimators': 120, 'objective': 'reg:squarederror', 'subsample': 0.3}\n",
      "Modelo: {'eta': 0.05, 'learning_rate': 0.02, 'max_depth': 10, 'n_estimators': 120, 'objective': 'reg:squarederror', 'subsample': 0.5}\n",
      "Modelo: {'eta': 0.05, 'learning_rate': 0.02, 'max_depth': 10, 'n_estimators': 140, 'objective': 'reg:squarederror', 'subsample': 0.2}\n",
      "Modelo: {'eta': 0.05, 'learning_rate': 0.02, 'max_depth': 10, 'n_estimators': 140, 'objective': 'reg:squarederror', 'subsample': 0.3}\n",
      "Modelo: {'eta': 0.05, 'learning_rate': 0.02, 'max_depth': 10, 'n_estimators': 140, 'objective': 'reg:squarederror', 'subsample': 0.5}\n",
      "Modelo: {'eta': 0.05, 'learning_rate': 0.02, 'max_depth': 11, 'n_estimators': 80, 'objective': 'reg:squarederror', 'subsample': 0.2}\n",
      "Modelo: {'eta': 0.05, 'learning_rate': 0.02, 'max_depth': 11, 'n_estimators': 80, 'objective': 'reg:squarederror', 'subsample': 0.3}\n",
      "Modelo: {'eta': 0.05, 'learning_rate': 0.02, 'max_depth': 11, 'n_estimators': 80, 'objective': 'reg:squarederror', 'subsample': 0.5}\n",
      "Modelo: {'eta': 0.05, 'learning_rate': 0.02, 'max_depth': 11, 'n_estimators': 100, 'objective': 'reg:squarederror', 'subsample': 0.2}\n",
      "Modelo: {'eta': 0.05, 'learning_rate': 0.02, 'max_depth': 11, 'n_estimators': 100, 'objective': 'reg:squarederror', 'subsample': 0.3}\n",
      "Modelo: {'eta': 0.05, 'learning_rate': 0.02, 'max_depth': 11, 'n_estimators': 100, 'objective': 'reg:squarederror', 'subsample': 0.5}\n",
      "Modelo: {'eta': 0.05, 'learning_rate': 0.02, 'max_depth': 11, 'n_estimators': 120, 'objective': 'reg:squarederror', 'subsample': 0.2}\n",
      "Modelo: {'eta': 0.05, 'learning_rate': 0.02, 'max_depth': 11, 'n_estimators': 120, 'objective': 'reg:squarederror', 'subsample': 0.3}\n",
      "Modelo: {'eta': 0.05, 'learning_rate': 0.02, 'max_depth': 11, 'n_estimators': 120, 'objective': 'reg:squarederror', 'subsample': 0.5}\n",
      "Modelo: {'eta': 0.05, 'learning_rate': 0.02, 'max_depth': 11, 'n_estimators': 140, 'objective': 'reg:squarederror', 'subsample': 0.2}\n",
      "Modelo: {'eta': 0.05, 'learning_rate': 0.02, 'max_depth': 11, 'n_estimators': 140, 'objective': 'reg:squarederror', 'subsample': 0.3}\n",
      "Modelo: {'eta': 0.05, 'learning_rate': 0.02, 'max_depth': 11, 'n_estimators': 140, 'objective': 'reg:squarederror', 'subsample': 0.5}\n",
      "Modelo: {'eta': 0.05, 'learning_rate': 0.03, 'max_depth': 5, 'n_estimators': 80, 'objective': 'reg:squarederror', 'subsample': 0.2}\n",
      "Modelo: {'eta': 0.05, 'learning_rate': 0.03, 'max_depth': 5, 'n_estimators': 80, 'objective': 'reg:squarederror', 'subsample': 0.3}\n",
      "Modelo: {'eta': 0.05, 'learning_rate': 0.03, 'max_depth': 5, 'n_estimators': 80, 'objective': 'reg:squarederror', 'subsample': 0.5}\n",
      "Modelo: {'eta': 0.05, 'learning_rate': 0.03, 'max_depth': 5, 'n_estimators': 100, 'objective': 'reg:squarederror', 'subsample': 0.2}\n",
      "Modelo: {'eta': 0.05, 'learning_rate': 0.03, 'max_depth': 5, 'n_estimators': 100, 'objective': 'reg:squarederror', 'subsample': 0.3}\n",
      "Modelo: {'eta': 0.05, 'learning_rate': 0.03, 'max_depth': 5, 'n_estimators': 100, 'objective': 'reg:squarederror', 'subsample': 0.5}\n",
      "Modelo: {'eta': 0.05, 'learning_rate': 0.03, 'max_depth': 5, 'n_estimators': 120, 'objective': 'reg:squarederror', 'subsample': 0.2}\n",
      "Modelo: {'eta': 0.05, 'learning_rate': 0.03, 'max_depth': 5, 'n_estimators': 120, 'objective': 'reg:squarederror', 'subsample': 0.3}\n",
      "Modelo: {'eta': 0.05, 'learning_rate': 0.03, 'max_depth': 5, 'n_estimators': 120, 'objective': 'reg:squarederror', 'subsample': 0.5}\n",
      "Modelo: {'eta': 0.05, 'learning_rate': 0.03, 'max_depth': 5, 'n_estimators': 140, 'objective': 'reg:squarederror', 'subsample': 0.2}\n",
      "Modelo: {'eta': 0.05, 'learning_rate': 0.03, 'max_depth': 5, 'n_estimators': 140, 'objective': 'reg:squarederror', 'subsample': 0.3}\n",
      "Modelo: {'eta': 0.05, 'learning_rate': 0.03, 'max_depth': 5, 'n_estimators': 140, 'objective': 'reg:squarederror', 'subsample': 0.5}\n",
      "Modelo: {'eta': 0.05, 'learning_rate': 0.03, 'max_depth': 7, 'n_estimators': 80, 'objective': 'reg:squarederror', 'subsample': 0.2}\n",
      "Modelo: {'eta': 0.05, 'learning_rate': 0.03, 'max_depth': 7, 'n_estimators': 80, 'objective': 'reg:squarederror', 'subsample': 0.3}\n",
      "Modelo: {'eta': 0.05, 'learning_rate': 0.03, 'max_depth': 7, 'n_estimators': 80, 'objective': 'reg:squarederror', 'subsample': 0.5}\n",
      "Modelo: {'eta': 0.05, 'learning_rate': 0.03, 'max_depth': 7, 'n_estimators': 100, 'objective': 'reg:squarederror', 'subsample': 0.2}\n",
      "Modelo: {'eta': 0.05, 'learning_rate': 0.03, 'max_depth': 7, 'n_estimators': 100, 'objective': 'reg:squarederror', 'subsample': 0.3}\n",
      "Modelo: {'eta': 0.05, 'learning_rate': 0.03, 'max_depth': 7, 'n_estimators': 100, 'objective': 'reg:squarederror', 'subsample': 0.5}\n",
      "Modelo: {'eta': 0.05, 'learning_rate': 0.03, 'max_depth': 7, 'n_estimators': 120, 'objective': 'reg:squarederror', 'subsample': 0.2}\n",
      "Modelo: {'eta': 0.05, 'learning_rate': 0.03, 'max_depth': 7, 'n_estimators': 120, 'objective': 'reg:squarederror', 'subsample': 0.3}\n",
      "Modelo: {'eta': 0.05, 'learning_rate': 0.03, 'max_depth': 7, 'n_estimators': 120, 'objective': 'reg:squarederror', 'subsample': 0.5}\n",
      "Modelo: {'eta': 0.05, 'learning_rate': 0.03, 'max_depth': 7, 'n_estimators': 140, 'objective': 'reg:squarederror', 'subsample': 0.2}\n",
      "Modelo: {'eta': 0.05, 'learning_rate': 0.03, 'max_depth': 7, 'n_estimators': 140, 'objective': 'reg:squarederror', 'subsample': 0.3}\n",
      "Modelo: {'eta': 0.05, 'learning_rate': 0.03, 'max_depth': 7, 'n_estimators': 140, 'objective': 'reg:squarederror', 'subsample': 0.5}\n",
      "Modelo: {'eta': 0.05, 'learning_rate': 0.03, 'max_depth': 9, 'n_estimators': 80, 'objective': 'reg:squarederror', 'subsample': 0.2}\n",
      "Modelo: {'eta': 0.05, 'learning_rate': 0.03, 'max_depth': 9, 'n_estimators': 80, 'objective': 'reg:squarederror', 'subsample': 0.3}\n",
      "Modelo: {'eta': 0.05, 'learning_rate': 0.03, 'max_depth': 9, 'n_estimators': 80, 'objective': 'reg:squarederror', 'subsample': 0.5}\n",
      "Modelo: {'eta': 0.05, 'learning_rate': 0.03, 'max_depth': 9, 'n_estimators': 100, 'objective': 'reg:squarederror', 'subsample': 0.2}\n",
      "Modelo: {'eta': 0.05, 'learning_rate': 0.03, 'max_depth': 9, 'n_estimators': 100, 'objective': 'reg:squarederror', 'subsample': 0.3}\n",
      "Modelo: {'eta': 0.05, 'learning_rate': 0.03, 'max_depth': 9, 'n_estimators': 100, 'objective': 'reg:squarederror', 'subsample': 0.5}\n",
      "Modelo: {'eta': 0.05, 'learning_rate': 0.03, 'max_depth': 9, 'n_estimators': 120, 'objective': 'reg:squarederror', 'subsample': 0.2}\n",
      "Modelo: {'eta': 0.05, 'learning_rate': 0.03, 'max_depth': 9, 'n_estimators': 120, 'objective': 'reg:squarederror', 'subsample': 0.3}\n",
      "Modelo: {'eta': 0.05, 'learning_rate': 0.03, 'max_depth': 9, 'n_estimators': 120, 'objective': 'reg:squarederror', 'subsample': 0.5}\n",
      "Modelo: {'eta': 0.05, 'learning_rate': 0.03, 'max_depth': 9, 'n_estimators': 140, 'objective': 'reg:squarederror', 'subsample': 0.2}\n",
      "Modelo: {'eta': 0.05, 'learning_rate': 0.03, 'max_depth': 9, 'n_estimators': 140, 'objective': 'reg:squarederror', 'subsample': 0.3}\n",
      "Modelo: {'eta': 0.05, 'learning_rate': 0.03, 'max_depth': 9, 'n_estimators': 140, 'objective': 'reg:squarederror', 'subsample': 0.5}\n",
      "Modelo: {'eta': 0.05, 'learning_rate': 0.03, 'max_depth': 10, 'n_estimators': 80, 'objective': 'reg:squarederror', 'subsample': 0.2}\n",
      "Modelo: {'eta': 0.05, 'learning_rate': 0.03, 'max_depth': 10, 'n_estimators': 80, 'objective': 'reg:squarederror', 'subsample': 0.3}\n",
      "Modelo: {'eta': 0.05, 'learning_rate': 0.03, 'max_depth': 10, 'n_estimators': 80, 'objective': 'reg:squarederror', 'subsample': 0.5}\n",
      "Modelo: {'eta': 0.05, 'learning_rate': 0.03, 'max_depth': 10, 'n_estimators': 100, 'objective': 'reg:squarederror', 'subsample': 0.2}\n",
      "Modelo: {'eta': 0.05, 'learning_rate': 0.03, 'max_depth': 10, 'n_estimators': 100, 'objective': 'reg:squarederror', 'subsample': 0.3}\n",
      "Modelo: {'eta': 0.05, 'learning_rate': 0.03, 'max_depth': 10, 'n_estimators': 100, 'objective': 'reg:squarederror', 'subsample': 0.5}\n",
      "Modelo: {'eta': 0.05, 'learning_rate': 0.03, 'max_depth': 10, 'n_estimators': 120, 'objective': 'reg:squarederror', 'subsample': 0.2}\n",
      "Modelo: {'eta': 0.05, 'learning_rate': 0.03, 'max_depth': 10, 'n_estimators': 120, 'objective': 'reg:squarederror', 'subsample': 0.3}\n",
      "Modelo: {'eta': 0.05, 'learning_rate': 0.03, 'max_depth': 10, 'n_estimators': 120, 'objective': 'reg:squarederror', 'subsample': 0.5}\n",
      "Modelo: {'eta': 0.05, 'learning_rate': 0.03, 'max_depth': 10, 'n_estimators': 140, 'objective': 'reg:squarederror', 'subsample': 0.2}\n",
      "Modelo: {'eta': 0.05, 'learning_rate': 0.03, 'max_depth': 10, 'n_estimators': 140, 'objective': 'reg:squarederror', 'subsample': 0.3}\n",
      "Modelo: {'eta': 0.05, 'learning_rate': 0.03, 'max_depth': 10, 'n_estimators': 140, 'objective': 'reg:squarederror', 'subsample': 0.5}\n",
      "Modelo: {'eta': 0.05, 'learning_rate': 0.03, 'max_depth': 11, 'n_estimators': 80, 'objective': 'reg:squarederror', 'subsample': 0.2}\n",
      "Modelo: {'eta': 0.05, 'learning_rate': 0.03, 'max_depth': 11, 'n_estimators': 80, 'objective': 'reg:squarederror', 'subsample': 0.3}\n",
      "Modelo: {'eta': 0.05, 'learning_rate': 0.03, 'max_depth': 11, 'n_estimators': 80, 'objective': 'reg:squarederror', 'subsample': 0.5}\n",
      "Modelo: {'eta': 0.05, 'learning_rate': 0.03, 'max_depth': 11, 'n_estimators': 100, 'objective': 'reg:squarederror', 'subsample': 0.2}\n",
      "Modelo: {'eta': 0.05, 'learning_rate': 0.03, 'max_depth': 11, 'n_estimators': 100, 'objective': 'reg:squarederror', 'subsample': 0.3}\n",
      "Modelo: {'eta': 0.05, 'learning_rate': 0.03, 'max_depth': 11, 'n_estimators': 100, 'objective': 'reg:squarederror', 'subsample': 0.5}\n",
      "Modelo: {'eta': 0.05, 'learning_rate': 0.03, 'max_depth': 11, 'n_estimators': 120, 'objective': 'reg:squarederror', 'subsample': 0.2}\n",
      "Modelo: {'eta': 0.05, 'learning_rate': 0.03, 'max_depth': 11, 'n_estimators': 120, 'objective': 'reg:squarederror', 'subsample': 0.3}\n",
      "Modelo: {'eta': 0.05, 'learning_rate': 0.03, 'max_depth': 11, 'n_estimators': 120, 'objective': 'reg:squarederror', 'subsample': 0.5}\n",
      "Modelo: {'eta': 0.05, 'learning_rate': 0.03, 'max_depth': 11, 'n_estimators': 140, 'objective': 'reg:squarederror', 'subsample': 0.2}\n",
      "Modelo: {'eta': 0.05, 'learning_rate': 0.03, 'max_depth': 11, 'n_estimators': 140, 'objective': 'reg:squarederror', 'subsample': 0.3}\n",
      "Modelo: {'eta': 0.05, 'learning_rate': 0.03, 'max_depth': 11, 'n_estimators': 140, 'objective': 'reg:squarederror', 'subsample': 0.5}\n",
      "Modelo: {'eta': 0.05, 'learning_rate': 0.05, 'max_depth': 5, 'n_estimators': 80, 'objective': 'reg:squarederror', 'subsample': 0.2}\n",
      "Modelo: {'eta': 0.05, 'learning_rate': 0.05, 'max_depth': 5, 'n_estimators': 80, 'objective': 'reg:squarederror', 'subsample': 0.3}\n",
      "Modelo: {'eta': 0.05, 'learning_rate': 0.05, 'max_depth': 5, 'n_estimators': 80, 'objective': 'reg:squarederror', 'subsample': 0.5}\n",
      "Modelo: {'eta': 0.05, 'learning_rate': 0.05, 'max_depth': 5, 'n_estimators': 100, 'objective': 'reg:squarederror', 'subsample': 0.2}\n",
      "Modelo: {'eta': 0.05, 'learning_rate': 0.05, 'max_depth': 5, 'n_estimators': 100, 'objective': 'reg:squarederror', 'subsample': 0.3}\n",
      "Modelo: {'eta': 0.05, 'learning_rate': 0.05, 'max_depth': 5, 'n_estimators': 100, 'objective': 'reg:squarederror', 'subsample': 0.5}\n",
      "Modelo: {'eta': 0.05, 'learning_rate': 0.05, 'max_depth': 5, 'n_estimators': 120, 'objective': 'reg:squarederror', 'subsample': 0.2}\n",
      "Modelo: {'eta': 0.05, 'learning_rate': 0.05, 'max_depth': 5, 'n_estimators': 120, 'objective': 'reg:squarederror', 'subsample': 0.3}\n",
      "Modelo: {'eta': 0.05, 'learning_rate': 0.05, 'max_depth': 5, 'n_estimators': 120, 'objective': 'reg:squarederror', 'subsample': 0.5}\n",
      "Modelo: {'eta': 0.05, 'learning_rate': 0.05, 'max_depth': 5, 'n_estimators': 140, 'objective': 'reg:squarederror', 'subsample': 0.2}\n",
      "Modelo: {'eta': 0.05, 'learning_rate': 0.05, 'max_depth': 5, 'n_estimators': 140, 'objective': 'reg:squarederror', 'subsample': 0.3}\n",
      "Modelo: {'eta': 0.05, 'learning_rate': 0.05, 'max_depth': 5, 'n_estimators': 140, 'objective': 'reg:squarederror', 'subsample': 0.5}\n",
      "Modelo: {'eta': 0.05, 'learning_rate': 0.05, 'max_depth': 7, 'n_estimators': 80, 'objective': 'reg:squarederror', 'subsample': 0.2}\n",
      "Modelo: {'eta': 0.05, 'learning_rate': 0.05, 'max_depth': 7, 'n_estimators': 80, 'objective': 'reg:squarederror', 'subsample': 0.3}\n",
      "Modelo: {'eta': 0.05, 'learning_rate': 0.05, 'max_depth': 7, 'n_estimators': 80, 'objective': 'reg:squarederror', 'subsample': 0.5}\n",
      "Modelo: {'eta': 0.05, 'learning_rate': 0.05, 'max_depth': 7, 'n_estimators': 100, 'objective': 'reg:squarederror', 'subsample': 0.2}\n",
      "Modelo: {'eta': 0.05, 'learning_rate': 0.05, 'max_depth': 7, 'n_estimators': 100, 'objective': 'reg:squarederror', 'subsample': 0.3}\n",
      "Modelo: {'eta': 0.05, 'learning_rate': 0.05, 'max_depth': 7, 'n_estimators': 100, 'objective': 'reg:squarederror', 'subsample': 0.5}\n",
      "Modelo: {'eta': 0.05, 'learning_rate': 0.05, 'max_depth': 7, 'n_estimators': 120, 'objective': 'reg:squarederror', 'subsample': 0.2}\n",
      "Modelo: {'eta': 0.05, 'learning_rate': 0.05, 'max_depth': 7, 'n_estimators': 120, 'objective': 'reg:squarederror', 'subsample': 0.3}\n",
      "Modelo: {'eta': 0.05, 'learning_rate': 0.05, 'max_depth': 7, 'n_estimators': 120, 'objective': 'reg:squarederror', 'subsample': 0.5}\n",
      "Modelo: {'eta': 0.05, 'learning_rate': 0.05, 'max_depth': 7, 'n_estimators': 140, 'objective': 'reg:squarederror', 'subsample': 0.2}\n",
      "Modelo: {'eta': 0.05, 'learning_rate': 0.05, 'max_depth': 7, 'n_estimators': 140, 'objective': 'reg:squarederror', 'subsample': 0.3}\n",
      "Modelo: {'eta': 0.05, 'learning_rate': 0.05, 'max_depth': 7, 'n_estimators': 140, 'objective': 'reg:squarederror', 'subsample': 0.5}\n",
      "Modelo: {'eta': 0.05, 'learning_rate': 0.05, 'max_depth': 9, 'n_estimators': 80, 'objective': 'reg:squarederror', 'subsample': 0.2}\n",
      "Modelo: {'eta': 0.05, 'learning_rate': 0.05, 'max_depth': 9, 'n_estimators': 80, 'objective': 'reg:squarederror', 'subsample': 0.3}\n",
      "Modelo: {'eta': 0.05, 'learning_rate': 0.05, 'max_depth': 9, 'n_estimators': 80, 'objective': 'reg:squarederror', 'subsample': 0.5}\n",
      "Modelo: {'eta': 0.05, 'learning_rate': 0.05, 'max_depth': 9, 'n_estimators': 100, 'objective': 'reg:squarederror', 'subsample': 0.2}\n",
      "Modelo: {'eta': 0.05, 'learning_rate': 0.05, 'max_depth': 9, 'n_estimators': 100, 'objective': 'reg:squarederror', 'subsample': 0.3}\n",
      "Modelo: {'eta': 0.05, 'learning_rate': 0.05, 'max_depth': 9, 'n_estimators': 100, 'objective': 'reg:squarederror', 'subsample': 0.5}\n",
      "Modelo: {'eta': 0.05, 'learning_rate': 0.05, 'max_depth': 9, 'n_estimators': 120, 'objective': 'reg:squarederror', 'subsample': 0.2}\n",
      "Modelo: {'eta': 0.05, 'learning_rate': 0.05, 'max_depth': 9, 'n_estimators': 120, 'objective': 'reg:squarederror', 'subsample': 0.3}\n",
      "Modelo: {'eta': 0.05, 'learning_rate': 0.05, 'max_depth': 9, 'n_estimators': 120, 'objective': 'reg:squarederror', 'subsample': 0.5}\n",
      "Modelo: {'eta': 0.05, 'learning_rate': 0.05, 'max_depth': 9, 'n_estimators': 140, 'objective': 'reg:squarederror', 'subsample': 0.2}\n",
      "Modelo: {'eta': 0.05, 'learning_rate': 0.05, 'max_depth': 9, 'n_estimators': 140, 'objective': 'reg:squarederror', 'subsample': 0.3}\n",
      "Modelo: {'eta': 0.05, 'learning_rate': 0.05, 'max_depth': 9, 'n_estimators': 140, 'objective': 'reg:squarederror', 'subsample': 0.5}\n",
      "Modelo: {'eta': 0.05, 'learning_rate': 0.05, 'max_depth': 10, 'n_estimators': 80, 'objective': 'reg:squarederror', 'subsample': 0.2}\n",
      "Modelo: {'eta': 0.05, 'learning_rate': 0.05, 'max_depth': 10, 'n_estimators': 80, 'objective': 'reg:squarederror', 'subsample': 0.3}\n",
      "Modelo: {'eta': 0.05, 'learning_rate': 0.05, 'max_depth': 10, 'n_estimators': 80, 'objective': 'reg:squarederror', 'subsample': 0.5}\n",
      "Modelo: {'eta': 0.05, 'learning_rate': 0.05, 'max_depth': 10, 'n_estimators': 100, 'objective': 'reg:squarederror', 'subsample': 0.2}\n",
      "Modelo: {'eta': 0.05, 'learning_rate': 0.05, 'max_depth': 10, 'n_estimators': 100, 'objective': 'reg:squarederror', 'subsample': 0.3}\n",
      "Modelo: {'eta': 0.05, 'learning_rate': 0.05, 'max_depth': 10, 'n_estimators': 100, 'objective': 'reg:squarederror', 'subsample': 0.5}\n",
      "Modelo: {'eta': 0.05, 'learning_rate': 0.05, 'max_depth': 10, 'n_estimators': 120, 'objective': 'reg:squarederror', 'subsample': 0.2}\n",
      "Modelo: {'eta': 0.05, 'learning_rate': 0.05, 'max_depth': 10, 'n_estimators': 120, 'objective': 'reg:squarederror', 'subsample': 0.3}\n",
      "Modelo: {'eta': 0.05, 'learning_rate': 0.05, 'max_depth': 10, 'n_estimators': 120, 'objective': 'reg:squarederror', 'subsample': 0.5}\n",
      "Modelo: {'eta': 0.05, 'learning_rate': 0.05, 'max_depth': 10, 'n_estimators': 140, 'objective': 'reg:squarederror', 'subsample': 0.2}\n",
      "Modelo: {'eta': 0.05, 'learning_rate': 0.05, 'max_depth': 10, 'n_estimators': 140, 'objective': 'reg:squarederror', 'subsample': 0.3}\n",
      "Modelo: {'eta': 0.05, 'learning_rate': 0.05, 'max_depth': 10, 'n_estimators': 140, 'objective': 'reg:squarederror', 'subsample': 0.5}\n",
      "Modelo: {'eta': 0.05, 'learning_rate': 0.05, 'max_depth': 11, 'n_estimators': 80, 'objective': 'reg:squarederror', 'subsample': 0.2}\n",
      "Modelo: {'eta': 0.05, 'learning_rate': 0.05, 'max_depth': 11, 'n_estimators': 80, 'objective': 'reg:squarederror', 'subsample': 0.3}\n",
      "Modelo: {'eta': 0.05, 'learning_rate': 0.05, 'max_depth': 11, 'n_estimators': 80, 'objective': 'reg:squarederror', 'subsample': 0.5}\n",
      "Modelo: {'eta': 0.05, 'learning_rate': 0.05, 'max_depth': 11, 'n_estimators': 100, 'objective': 'reg:squarederror', 'subsample': 0.2}\n",
      "Modelo: {'eta': 0.05, 'learning_rate': 0.05, 'max_depth': 11, 'n_estimators': 100, 'objective': 'reg:squarederror', 'subsample': 0.3}\n",
      "Modelo: {'eta': 0.05, 'learning_rate': 0.05, 'max_depth': 11, 'n_estimators': 100, 'objective': 'reg:squarederror', 'subsample': 0.5}\n",
      "Modelo: {'eta': 0.05, 'learning_rate': 0.05, 'max_depth': 11, 'n_estimators': 120, 'objective': 'reg:squarederror', 'subsample': 0.2}\n",
      "Modelo: {'eta': 0.05, 'learning_rate': 0.05, 'max_depth': 11, 'n_estimators': 120, 'objective': 'reg:squarederror', 'subsample': 0.3}\n",
      "Modelo: {'eta': 0.05, 'learning_rate': 0.05, 'max_depth': 11, 'n_estimators': 120, 'objective': 'reg:squarederror', 'subsample': 0.5}\n",
      "Modelo: {'eta': 0.05, 'learning_rate': 0.05, 'max_depth': 11, 'n_estimators': 140, 'objective': 'reg:squarederror', 'subsample': 0.2}\n",
      "Modelo: {'eta': 0.05, 'learning_rate': 0.05, 'max_depth': 11, 'n_estimators': 140, 'objective': 'reg:squarederror', 'subsample': 0.3}\n",
      "Modelo: {'eta': 0.05, 'learning_rate': 0.05, 'max_depth': 11, 'n_estimators': 140, 'objective': 'reg:squarederror', 'subsample': 0.5}\n",
      "Modelo: {'eta': 0.07, 'learning_rate': 0.02, 'max_depth': 5, 'n_estimators': 80, 'objective': 'reg:squarederror', 'subsample': 0.2}\n",
      "Modelo: {'eta': 0.07, 'learning_rate': 0.02, 'max_depth': 5, 'n_estimators': 80, 'objective': 'reg:squarederror', 'subsample': 0.3}\n",
      "Modelo: {'eta': 0.07, 'learning_rate': 0.02, 'max_depth': 5, 'n_estimators': 80, 'objective': 'reg:squarederror', 'subsample': 0.5}\n",
      "Modelo: {'eta': 0.07, 'learning_rate': 0.02, 'max_depth': 5, 'n_estimators': 100, 'objective': 'reg:squarederror', 'subsample': 0.2}\n",
      "Modelo: {'eta': 0.07, 'learning_rate': 0.02, 'max_depth': 5, 'n_estimators': 100, 'objective': 'reg:squarederror', 'subsample': 0.3}\n",
      "Modelo: {'eta': 0.07, 'learning_rate': 0.02, 'max_depth': 5, 'n_estimators': 100, 'objective': 'reg:squarederror', 'subsample': 0.5}\n",
      "Modelo: {'eta': 0.07, 'learning_rate': 0.02, 'max_depth': 5, 'n_estimators': 120, 'objective': 'reg:squarederror', 'subsample': 0.2}\n",
      "Modelo: {'eta': 0.07, 'learning_rate': 0.02, 'max_depth': 5, 'n_estimators': 120, 'objective': 'reg:squarederror', 'subsample': 0.3}\n",
      "Modelo: {'eta': 0.07, 'learning_rate': 0.02, 'max_depth': 5, 'n_estimators': 120, 'objective': 'reg:squarederror', 'subsample': 0.5}\n",
      "Modelo: {'eta': 0.07, 'learning_rate': 0.02, 'max_depth': 5, 'n_estimators': 140, 'objective': 'reg:squarederror', 'subsample': 0.2}\n",
      "Modelo: {'eta': 0.07, 'learning_rate': 0.02, 'max_depth': 5, 'n_estimators': 140, 'objective': 'reg:squarederror', 'subsample': 0.3}\n",
      "Modelo: {'eta': 0.07, 'learning_rate': 0.02, 'max_depth': 5, 'n_estimators': 140, 'objective': 'reg:squarederror', 'subsample': 0.5}\n",
      "Modelo: {'eta': 0.07, 'learning_rate': 0.02, 'max_depth': 7, 'n_estimators': 80, 'objective': 'reg:squarederror', 'subsample': 0.2}\n",
      "Modelo: {'eta': 0.07, 'learning_rate': 0.02, 'max_depth': 7, 'n_estimators': 80, 'objective': 'reg:squarederror', 'subsample': 0.3}\n",
      "Modelo: {'eta': 0.07, 'learning_rate': 0.02, 'max_depth': 7, 'n_estimators': 80, 'objective': 'reg:squarederror', 'subsample': 0.5}\n",
      "Modelo: {'eta': 0.07, 'learning_rate': 0.02, 'max_depth': 7, 'n_estimators': 100, 'objective': 'reg:squarederror', 'subsample': 0.2}\n",
      "Modelo: {'eta': 0.07, 'learning_rate': 0.02, 'max_depth': 7, 'n_estimators': 100, 'objective': 'reg:squarederror', 'subsample': 0.3}\n",
      "Modelo: {'eta': 0.07, 'learning_rate': 0.02, 'max_depth': 7, 'n_estimators': 100, 'objective': 'reg:squarederror', 'subsample': 0.5}\n",
      "Modelo: {'eta': 0.07, 'learning_rate': 0.02, 'max_depth': 7, 'n_estimators': 120, 'objective': 'reg:squarederror', 'subsample': 0.2}\n",
      "Modelo: {'eta': 0.07, 'learning_rate': 0.02, 'max_depth': 7, 'n_estimators': 120, 'objective': 'reg:squarederror', 'subsample': 0.3}\n",
      "Modelo: {'eta': 0.07, 'learning_rate': 0.02, 'max_depth': 7, 'n_estimators': 120, 'objective': 'reg:squarederror', 'subsample': 0.5}\n",
      "Modelo: {'eta': 0.07, 'learning_rate': 0.02, 'max_depth': 7, 'n_estimators': 140, 'objective': 'reg:squarederror', 'subsample': 0.2}\n",
      "Modelo: {'eta': 0.07, 'learning_rate': 0.02, 'max_depth': 7, 'n_estimators': 140, 'objective': 'reg:squarederror', 'subsample': 0.3}\n",
      "Modelo: {'eta': 0.07, 'learning_rate': 0.02, 'max_depth': 7, 'n_estimators': 140, 'objective': 'reg:squarederror', 'subsample': 0.5}\n",
      "Modelo: {'eta': 0.07, 'learning_rate': 0.02, 'max_depth': 9, 'n_estimators': 80, 'objective': 'reg:squarederror', 'subsample': 0.2}\n",
      "Modelo: {'eta': 0.07, 'learning_rate': 0.02, 'max_depth': 9, 'n_estimators': 80, 'objective': 'reg:squarederror', 'subsample': 0.3}\n",
      "Modelo: {'eta': 0.07, 'learning_rate': 0.02, 'max_depth': 9, 'n_estimators': 80, 'objective': 'reg:squarederror', 'subsample': 0.5}\n",
      "Modelo: {'eta': 0.07, 'learning_rate': 0.02, 'max_depth': 9, 'n_estimators': 100, 'objective': 'reg:squarederror', 'subsample': 0.2}\n",
      "Modelo: {'eta': 0.07, 'learning_rate': 0.02, 'max_depth': 9, 'n_estimators': 100, 'objective': 'reg:squarederror', 'subsample': 0.3}\n",
      "Modelo: {'eta': 0.07, 'learning_rate': 0.02, 'max_depth': 9, 'n_estimators': 100, 'objective': 'reg:squarederror', 'subsample': 0.5}\n",
      "Modelo: {'eta': 0.07, 'learning_rate': 0.02, 'max_depth': 9, 'n_estimators': 120, 'objective': 'reg:squarederror', 'subsample': 0.2}\n",
      "Modelo: {'eta': 0.07, 'learning_rate': 0.02, 'max_depth': 9, 'n_estimators': 120, 'objective': 'reg:squarederror', 'subsample': 0.3}\n",
      "Modelo: {'eta': 0.07, 'learning_rate': 0.02, 'max_depth': 9, 'n_estimators': 120, 'objective': 'reg:squarederror', 'subsample': 0.5}\n",
      "Modelo: {'eta': 0.07, 'learning_rate': 0.02, 'max_depth': 9, 'n_estimators': 140, 'objective': 'reg:squarederror', 'subsample': 0.2}\n",
      "Modelo: {'eta': 0.07, 'learning_rate': 0.02, 'max_depth': 9, 'n_estimators': 140, 'objective': 'reg:squarederror', 'subsample': 0.3}\n",
      "Modelo: {'eta': 0.07, 'learning_rate': 0.02, 'max_depth': 9, 'n_estimators': 140, 'objective': 'reg:squarederror', 'subsample': 0.5}\n",
      "Modelo: {'eta': 0.07, 'learning_rate': 0.02, 'max_depth': 10, 'n_estimators': 80, 'objective': 'reg:squarederror', 'subsample': 0.2}\n",
      "Modelo: {'eta': 0.07, 'learning_rate': 0.02, 'max_depth': 10, 'n_estimators': 80, 'objective': 'reg:squarederror', 'subsample': 0.3}\n",
      "Modelo: {'eta': 0.07, 'learning_rate': 0.02, 'max_depth': 10, 'n_estimators': 80, 'objective': 'reg:squarederror', 'subsample': 0.5}\n",
      "Modelo: {'eta': 0.07, 'learning_rate': 0.02, 'max_depth': 10, 'n_estimators': 100, 'objective': 'reg:squarederror', 'subsample': 0.2}\n",
      "Modelo: {'eta': 0.07, 'learning_rate': 0.02, 'max_depth': 10, 'n_estimators': 100, 'objective': 'reg:squarederror', 'subsample': 0.3}\n",
      "Modelo: {'eta': 0.07, 'learning_rate': 0.02, 'max_depth': 10, 'n_estimators': 100, 'objective': 'reg:squarederror', 'subsample': 0.5}\n",
      "Modelo: {'eta': 0.07, 'learning_rate': 0.02, 'max_depth': 10, 'n_estimators': 120, 'objective': 'reg:squarederror', 'subsample': 0.2}\n",
      "Modelo: {'eta': 0.07, 'learning_rate': 0.02, 'max_depth': 10, 'n_estimators': 120, 'objective': 'reg:squarederror', 'subsample': 0.3}\n",
      "Modelo: {'eta': 0.07, 'learning_rate': 0.02, 'max_depth': 10, 'n_estimators': 120, 'objective': 'reg:squarederror', 'subsample': 0.5}\n",
      "Modelo: {'eta': 0.07, 'learning_rate': 0.02, 'max_depth': 10, 'n_estimators': 140, 'objective': 'reg:squarederror', 'subsample': 0.2}\n",
      "Modelo: {'eta': 0.07, 'learning_rate': 0.02, 'max_depth': 10, 'n_estimators': 140, 'objective': 'reg:squarederror', 'subsample': 0.3}\n",
      "Modelo: {'eta': 0.07, 'learning_rate': 0.02, 'max_depth': 10, 'n_estimators': 140, 'objective': 'reg:squarederror', 'subsample': 0.5}\n",
      "Modelo: {'eta': 0.07, 'learning_rate': 0.02, 'max_depth': 11, 'n_estimators': 80, 'objective': 'reg:squarederror', 'subsample': 0.2}\n",
      "Modelo: {'eta': 0.07, 'learning_rate': 0.02, 'max_depth': 11, 'n_estimators': 80, 'objective': 'reg:squarederror', 'subsample': 0.3}\n",
      "Modelo: {'eta': 0.07, 'learning_rate': 0.02, 'max_depth': 11, 'n_estimators': 80, 'objective': 'reg:squarederror', 'subsample': 0.5}\n",
      "Modelo: {'eta': 0.07, 'learning_rate': 0.02, 'max_depth': 11, 'n_estimators': 100, 'objective': 'reg:squarederror', 'subsample': 0.2}\n",
      "Modelo: {'eta': 0.07, 'learning_rate': 0.02, 'max_depth': 11, 'n_estimators': 100, 'objective': 'reg:squarederror', 'subsample': 0.3}\n",
      "Modelo: {'eta': 0.07, 'learning_rate': 0.02, 'max_depth': 11, 'n_estimators': 100, 'objective': 'reg:squarederror', 'subsample': 0.5}\n",
      "Modelo: {'eta': 0.07, 'learning_rate': 0.02, 'max_depth': 11, 'n_estimators': 120, 'objective': 'reg:squarederror', 'subsample': 0.2}\n",
      "Modelo: {'eta': 0.07, 'learning_rate': 0.02, 'max_depth': 11, 'n_estimators': 120, 'objective': 'reg:squarederror', 'subsample': 0.3}\n",
      "Modelo: {'eta': 0.07, 'learning_rate': 0.02, 'max_depth': 11, 'n_estimators': 120, 'objective': 'reg:squarederror', 'subsample': 0.5}\n",
      "Modelo: {'eta': 0.07, 'learning_rate': 0.02, 'max_depth': 11, 'n_estimators': 140, 'objective': 'reg:squarederror', 'subsample': 0.2}\n",
      "Modelo: {'eta': 0.07, 'learning_rate': 0.02, 'max_depth': 11, 'n_estimators': 140, 'objective': 'reg:squarederror', 'subsample': 0.3}\n",
      "Modelo: {'eta': 0.07, 'learning_rate': 0.02, 'max_depth': 11, 'n_estimators': 140, 'objective': 'reg:squarederror', 'subsample': 0.5}\n",
      "Modelo: {'eta': 0.07, 'learning_rate': 0.03, 'max_depth': 5, 'n_estimators': 80, 'objective': 'reg:squarederror', 'subsample': 0.2}\n",
      "Modelo: {'eta': 0.07, 'learning_rate': 0.03, 'max_depth': 5, 'n_estimators': 80, 'objective': 'reg:squarederror', 'subsample': 0.3}\n",
      "Modelo: {'eta': 0.07, 'learning_rate': 0.03, 'max_depth': 5, 'n_estimators': 80, 'objective': 'reg:squarederror', 'subsample': 0.5}\n",
      "Modelo: {'eta': 0.07, 'learning_rate': 0.03, 'max_depth': 5, 'n_estimators': 100, 'objective': 'reg:squarederror', 'subsample': 0.2}\n",
      "Modelo: {'eta': 0.07, 'learning_rate': 0.03, 'max_depth': 5, 'n_estimators': 100, 'objective': 'reg:squarederror', 'subsample': 0.3}\n",
      "Modelo: {'eta': 0.07, 'learning_rate': 0.03, 'max_depth': 5, 'n_estimators': 100, 'objective': 'reg:squarederror', 'subsample': 0.5}\n",
      "Modelo: {'eta': 0.07, 'learning_rate': 0.03, 'max_depth': 5, 'n_estimators': 120, 'objective': 'reg:squarederror', 'subsample': 0.2}\n",
      "Modelo: {'eta': 0.07, 'learning_rate': 0.03, 'max_depth': 5, 'n_estimators': 120, 'objective': 'reg:squarederror', 'subsample': 0.3}\n",
      "Modelo: {'eta': 0.07, 'learning_rate': 0.03, 'max_depth': 5, 'n_estimators': 120, 'objective': 'reg:squarederror', 'subsample': 0.5}\n",
      "Modelo: {'eta': 0.07, 'learning_rate': 0.03, 'max_depth': 5, 'n_estimators': 140, 'objective': 'reg:squarederror', 'subsample': 0.2}\n",
      "Modelo: {'eta': 0.07, 'learning_rate': 0.03, 'max_depth': 5, 'n_estimators': 140, 'objective': 'reg:squarederror', 'subsample': 0.3}\n",
      "Modelo: {'eta': 0.07, 'learning_rate': 0.03, 'max_depth': 5, 'n_estimators': 140, 'objective': 'reg:squarederror', 'subsample': 0.5}\n",
      "Modelo: {'eta': 0.07, 'learning_rate': 0.03, 'max_depth': 7, 'n_estimators': 80, 'objective': 'reg:squarederror', 'subsample': 0.2}\n",
      "Modelo: {'eta': 0.07, 'learning_rate': 0.03, 'max_depth': 7, 'n_estimators': 80, 'objective': 'reg:squarederror', 'subsample': 0.3}\n",
      "Modelo: {'eta': 0.07, 'learning_rate': 0.03, 'max_depth': 7, 'n_estimators': 80, 'objective': 'reg:squarederror', 'subsample': 0.5}\n",
      "Modelo: {'eta': 0.07, 'learning_rate': 0.03, 'max_depth': 7, 'n_estimators': 100, 'objective': 'reg:squarederror', 'subsample': 0.2}\n",
      "Modelo: {'eta': 0.07, 'learning_rate': 0.03, 'max_depth': 7, 'n_estimators': 100, 'objective': 'reg:squarederror', 'subsample': 0.3}\n",
      "Modelo: {'eta': 0.07, 'learning_rate': 0.03, 'max_depth': 7, 'n_estimators': 100, 'objective': 'reg:squarederror', 'subsample': 0.5}\n",
      "Modelo: {'eta': 0.07, 'learning_rate': 0.03, 'max_depth': 7, 'n_estimators': 120, 'objective': 'reg:squarederror', 'subsample': 0.2}\n",
      "Modelo: {'eta': 0.07, 'learning_rate': 0.03, 'max_depth': 7, 'n_estimators': 120, 'objective': 'reg:squarederror', 'subsample': 0.3}\n",
      "Modelo: {'eta': 0.07, 'learning_rate': 0.03, 'max_depth': 7, 'n_estimators': 120, 'objective': 'reg:squarederror', 'subsample': 0.5}\n",
      "Modelo: {'eta': 0.07, 'learning_rate': 0.03, 'max_depth': 7, 'n_estimators': 140, 'objective': 'reg:squarederror', 'subsample': 0.2}\n",
      "Modelo: {'eta': 0.07, 'learning_rate': 0.03, 'max_depth': 7, 'n_estimators': 140, 'objective': 'reg:squarederror', 'subsample': 0.3}\n",
      "Modelo: {'eta': 0.07, 'learning_rate': 0.03, 'max_depth': 7, 'n_estimators': 140, 'objective': 'reg:squarederror', 'subsample': 0.5}\n",
      "Modelo: {'eta': 0.07, 'learning_rate': 0.03, 'max_depth': 9, 'n_estimators': 80, 'objective': 'reg:squarederror', 'subsample': 0.2}\n",
      "Modelo: {'eta': 0.07, 'learning_rate': 0.03, 'max_depth': 9, 'n_estimators': 80, 'objective': 'reg:squarederror', 'subsample': 0.3}\n",
      "Modelo: {'eta': 0.07, 'learning_rate': 0.03, 'max_depth': 9, 'n_estimators': 80, 'objective': 'reg:squarederror', 'subsample': 0.5}\n",
      "Modelo: {'eta': 0.07, 'learning_rate': 0.03, 'max_depth': 9, 'n_estimators': 100, 'objective': 'reg:squarederror', 'subsample': 0.2}\n",
      "Modelo: {'eta': 0.07, 'learning_rate': 0.03, 'max_depth': 9, 'n_estimators': 100, 'objective': 'reg:squarederror', 'subsample': 0.3}\n",
      "Modelo: {'eta': 0.07, 'learning_rate': 0.03, 'max_depth': 9, 'n_estimators': 100, 'objective': 'reg:squarederror', 'subsample': 0.5}\n",
      "Modelo: {'eta': 0.07, 'learning_rate': 0.03, 'max_depth': 9, 'n_estimators': 120, 'objective': 'reg:squarederror', 'subsample': 0.2}\n",
      "Modelo: {'eta': 0.07, 'learning_rate': 0.03, 'max_depth': 9, 'n_estimators': 120, 'objective': 'reg:squarederror', 'subsample': 0.3}\n",
      "Modelo: {'eta': 0.07, 'learning_rate': 0.03, 'max_depth': 9, 'n_estimators': 120, 'objective': 'reg:squarederror', 'subsample': 0.5}\n",
      "Modelo: {'eta': 0.07, 'learning_rate': 0.03, 'max_depth': 9, 'n_estimators': 140, 'objective': 'reg:squarederror', 'subsample': 0.2}\n",
      "Modelo: {'eta': 0.07, 'learning_rate': 0.03, 'max_depth': 9, 'n_estimators': 140, 'objective': 'reg:squarederror', 'subsample': 0.3}\n",
      "Modelo: {'eta': 0.07, 'learning_rate': 0.03, 'max_depth': 9, 'n_estimators': 140, 'objective': 'reg:squarederror', 'subsample': 0.5}\n",
      "Modelo: {'eta': 0.07, 'learning_rate': 0.03, 'max_depth': 10, 'n_estimators': 80, 'objective': 'reg:squarederror', 'subsample': 0.2}\n",
      "Modelo: {'eta': 0.07, 'learning_rate': 0.03, 'max_depth': 10, 'n_estimators': 80, 'objective': 'reg:squarederror', 'subsample': 0.3}\n",
      "Modelo: {'eta': 0.07, 'learning_rate': 0.03, 'max_depth': 10, 'n_estimators': 80, 'objective': 'reg:squarederror', 'subsample': 0.5}\n",
      "Modelo: {'eta': 0.07, 'learning_rate': 0.03, 'max_depth': 10, 'n_estimators': 100, 'objective': 'reg:squarederror', 'subsample': 0.2}\n",
      "Modelo: {'eta': 0.07, 'learning_rate': 0.03, 'max_depth': 10, 'n_estimators': 100, 'objective': 'reg:squarederror', 'subsample': 0.3}\n",
      "Modelo: {'eta': 0.07, 'learning_rate': 0.03, 'max_depth': 10, 'n_estimators': 100, 'objective': 'reg:squarederror', 'subsample': 0.5}\n",
      "Modelo: {'eta': 0.07, 'learning_rate': 0.03, 'max_depth': 10, 'n_estimators': 120, 'objective': 'reg:squarederror', 'subsample': 0.2}\n",
      "Modelo: {'eta': 0.07, 'learning_rate': 0.03, 'max_depth': 10, 'n_estimators': 120, 'objective': 'reg:squarederror', 'subsample': 0.3}\n",
      "Modelo: {'eta': 0.07, 'learning_rate': 0.03, 'max_depth': 10, 'n_estimators': 120, 'objective': 'reg:squarederror', 'subsample': 0.5}\n",
      "Modelo: {'eta': 0.07, 'learning_rate': 0.03, 'max_depth': 10, 'n_estimators': 140, 'objective': 'reg:squarederror', 'subsample': 0.2}\n",
      "Modelo: {'eta': 0.07, 'learning_rate': 0.03, 'max_depth': 10, 'n_estimators': 140, 'objective': 'reg:squarederror', 'subsample': 0.3}\n",
      "Modelo: {'eta': 0.07, 'learning_rate': 0.03, 'max_depth': 10, 'n_estimators': 140, 'objective': 'reg:squarederror', 'subsample': 0.5}\n",
      "Modelo: {'eta': 0.07, 'learning_rate': 0.03, 'max_depth': 11, 'n_estimators': 80, 'objective': 'reg:squarederror', 'subsample': 0.2}\n",
      "Modelo: {'eta': 0.07, 'learning_rate': 0.03, 'max_depth': 11, 'n_estimators': 80, 'objective': 'reg:squarederror', 'subsample': 0.3}\n",
      "Modelo: {'eta': 0.07, 'learning_rate': 0.03, 'max_depth': 11, 'n_estimators': 80, 'objective': 'reg:squarederror', 'subsample': 0.5}\n",
      "Modelo: {'eta': 0.07, 'learning_rate': 0.03, 'max_depth': 11, 'n_estimators': 100, 'objective': 'reg:squarederror', 'subsample': 0.2}\n",
      "Modelo: {'eta': 0.07, 'learning_rate': 0.03, 'max_depth': 11, 'n_estimators': 100, 'objective': 'reg:squarederror', 'subsample': 0.3}\n",
      "Modelo: {'eta': 0.07, 'learning_rate': 0.03, 'max_depth': 11, 'n_estimators': 100, 'objective': 'reg:squarederror', 'subsample': 0.5}\n",
      "Modelo: {'eta': 0.07, 'learning_rate': 0.03, 'max_depth': 11, 'n_estimators': 120, 'objective': 'reg:squarederror', 'subsample': 0.2}\n",
      "Modelo: {'eta': 0.07, 'learning_rate': 0.03, 'max_depth': 11, 'n_estimators': 120, 'objective': 'reg:squarederror', 'subsample': 0.3}\n",
      "Modelo: {'eta': 0.07, 'learning_rate': 0.03, 'max_depth': 11, 'n_estimators': 120, 'objective': 'reg:squarederror', 'subsample': 0.5}\n",
      "Modelo: {'eta': 0.07, 'learning_rate': 0.03, 'max_depth': 11, 'n_estimators': 140, 'objective': 'reg:squarederror', 'subsample': 0.2}\n",
      "Modelo: {'eta': 0.07, 'learning_rate': 0.03, 'max_depth': 11, 'n_estimators': 140, 'objective': 'reg:squarederror', 'subsample': 0.3}\n",
      "Modelo: {'eta': 0.07, 'learning_rate': 0.03, 'max_depth': 11, 'n_estimators': 140, 'objective': 'reg:squarederror', 'subsample': 0.5}\n",
      "Modelo: {'eta': 0.07, 'learning_rate': 0.05, 'max_depth': 5, 'n_estimators': 80, 'objective': 'reg:squarederror', 'subsample': 0.2}\n",
      "Modelo: {'eta': 0.07, 'learning_rate': 0.05, 'max_depth': 5, 'n_estimators': 80, 'objective': 'reg:squarederror', 'subsample': 0.3}\n",
      "Modelo: {'eta': 0.07, 'learning_rate': 0.05, 'max_depth': 5, 'n_estimators': 80, 'objective': 'reg:squarederror', 'subsample': 0.5}\n",
      "Modelo: {'eta': 0.07, 'learning_rate': 0.05, 'max_depth': 5, 'n_estimators': 100, 'objective': 'reg:squarederror', 'subsample': 0.2}\n",
      "Modelo: {'eta': 0.07, 'learning_rate': 0.05, 'max_depth': 5, 'n_estimators': 100, 'objective': 'reg:squarederror', 'subsample': 0.3}\n",
      "Modelo: {'eta': 0.07, 'learning_rate': 0.05, 'max_depth': 5, 'n_estimators': 100, 'objective': 'reg:squarederror', 'subsample': 0.5}\n",
      "Modelo: {'eta': 0.07, 'learning_rate': 0.05, 'max_depth': 5, 'n_estimators': 120, 'objective': 'reg:squarederror', 'subsample': 0.2}\n",
      "Modelo: {'eta': 0.07, 'learning_rate': 0.05, 'max_depth': 5, 'n_estimators': 120, 'objective': 'reg:squarederror', 'subsample': 0.3}\n",
      "Modelo: {'eta': 0.07, 'learning_rate': 0.05, 'max_depth': 5, 'n_estimators': 120, 'objective': 'reg:squarederror', 'subsample': 0.5}\n",
      "Modelo: {'eta': 0.07, 'learning_rate': 0.05, 'max_depth': 5, 'n_estimators': 140, 'objective': 'reg:squarederror', 'subsample': 0.2}\n",
      "Modelo: {'eta': 0.07, 'learning_rate': 0.05, 'max_depth': 5, 'n_estimators': 140, 'objective': 'reg:squarederror', 'subsample': 0.3}\n",
      "Modelo: {'eta': 0.07, 'learning_rate': 0.05, 'max_depth': 5, 'n_estimators': 140, 'objective': 'reg:squarederror', 'subsample': 0.5}\n",
      "Modelo: {'eta': 0.07, 'learning_rate': 0.05, 'max_depth': 7, 'n_estimators': 80, 'objective': 'reg:squarederror', 'subsample': 0.2}\n",
      "Modelo: {'eta': 0.07, 'learning_rate': 0.05, 'max_depth': 7, 'n_estimators': 80, 'objective': 'reg:squarederror', 'subsample': 0.3}\n",
      "Modelo: {'eta': 0.07, 'learning_rate': 0.05, 'max_depth': 7, 'n_estimators': 80, 'objective': 'reg:squarederror', 'subsample': 0.5}\n",
      "Modelo: {'eta': 0.07, 'learning_rate': 0.05, 'max_depth': 7, 'n_estimators': 100, 'objective': 'reg:squarederror', 'subsample': 0.2}\n",
      "Modelo: {'eta': 0.07, 'learning_rate': 0.05, 'max_depth': 7, 'n_estimators': 100, 'objective': 'reg:squarederror', 'subsample': 0.3}\n",
      "Modelo: {'eta': 0.07, 'learning_rate': 0.05, 'max_depth': 7, 'n_estimators': 100, 'objective': 'reg:squarederror', 'subsample': 0.5}\n",
      "Modelo: {'eta': 0.07, 'learning_rate': 0.05, 'max_depth': 7, 'n_estimators': 120, 'objective': 'reg:squarederror', 'subsample': 0.2}\n",
      "Modelo: {'eta': 0.07, 'learning_rate': 0.05, 'max_depth': 7, 'n_estimators': 120, 'objective': 'reg:squarederror', 'subsample': 0.3}\n",
      "Modelo: {'eta': 0.07, 'learning_rate': 0.05, 'max_depth': 7, 'n_estimators': 120, 'objective': 'reg:squarederror', 'subsample': 0.5}\n",
      "Modelo: {'eta': 0.07, 'learning_rate': 0.05, 'max_depth': 7, 'n_estimators': 140, 'objective': 'reg:squarederror', 'subsample': 0.2}\n",
      "Modelo: {'eta': 0.07, 'learning_rate': 0.05, 'max_depth': 7, 'n_estimators': 140, 'objective': 'reg:squarederror', 'subsample': 0.3}\n",
      "Modelo: {'eta': 0.07, 'learning_rate': 0.05, 'max_depth': 7, 'n_estimators': 140, 'objective': 'reg:squarederror', 'subsample': 0.5}\n",
      "Modelo: {'eta': 0.07, 'learning_rate': 0.05, 'max_depth': 9, 'n_estimators': 80, 'objective': 'reg:squarederror', 'subsample': 0.2}\n",
      "Modelo: {'eta': 0.07, 'learning_rate': 0.05, 'max_depth': 9, 'n_estimators': 80, 'objective': 'reg:squarederror', 'subsample': 0.3}\n",
      "Modelo: {'eta': 0.07, 'learning_rate': 0.05, 'max_depth': 9, 'n_estimators': 80, 'objective': 'reg:squarederror', 'subsample': 0.5}\n",
      "Modelo: {'eta': 0.07, 'learning_rate': 0.05, 'max_depth': 9, 'n_estimators': 100, 'objective': 'reg:squarederror', 'subsample': 0.2}\n",
      "Modelo: {'eta': 0.07, 'learning_rate': 0.05, 'max_depth': 9, 'n_estimators': 100, 'objective': 'reg:squarederror', 'subsample': 0.3}\n",
      "Modelo: {'eta': 0.07, 'learning_rate': 0.05, 'max_depth': 9, 'n_estimators': 100, 'objective': 'reg:squarederror', 'subsample': 0.5}\n",
      "Modelo: {'eta': 0.07, 'learning_rate': 0.05, 'max_depth': 9, 'n_estimators': 120, 'objective': 'reg:squarederror', 'subsample': 0.2}\n",
      "Modelo: {'eta': 0.07, 'learning_rate': 0.05, 'max_depth': 9, 'n_estimators': 120, 'objective': 'reg:squarederror', 'subsample': 0.3}\n",
      "Modelo: {'eta': 0.07, 'learning_rate': 0.05, 'max_depth': 9, 'n_estimators': 120, 'objective': 'reg:squarederror', 'subsample': 0.5}\n",
      "Modelo: {'eta': 0.07, 'learning_rate': 0.05, 'max_depth': 9, 'n_estimators': 140, 'objective': 'reg:squarederror', 'subsample': 0.2}\n",
      "Modelo: {'eta': 0.07, 'learning_rate': 0.05, 'max_depth': 9, 'n_estimators': 140, 'objective': 'reg:squarederror', 'subsample': 0.3}\n",
      "Modelo: {'eta': 0.07, 'learning_rate': 0.05, 'max_depth': 9, 'n_estimators': 140, 'objective': 'reg:squarederror', 'subsample': 0.5}\n",
      "Modelo: {'eta': 0.07, 'learning_rate': 0.05, 'max_depth': 10, 'n_estimators': 80, 'objective': 'reg:squarederror', 'subsample': 0.2}\n",
      "Modelo: {'eta': 0.07, 'learning_rate': 0.05, 'max_depth': 10, 'n_estimators': 80, 'objective': 'reg:squarederror', 'subsample': 0.3}\n",
      "Modelo: {'eta': 0.07, 'learning_rate': 0.05, 'max_depth': 10, 'n_estimators': 80, 'objective': 'reg:squarederror', 'subsample': 0.5}\n",
      "Modelo: {'eta': 0.07, 'learning_rate': 0.05, 'max_depth': 10, 'n_estimators': 100, 'objective': 'reg:squarederror', 'subsample': 0.2}\n",
      "Modelo: {'eta': 0.07, 'learning_rate': 0.05, 'max_depth': 10, 'n_estimators': 100, 'objective': 'reg:squarederror', 'subsample': 0.3}\n",
      "Modelo: {'eta': 0.07, 'learning_rate': 0.05, 'max_depth': 10, 'n_estimators': 100, 'objective': 'reg:squarederror', 'subsample': 0.5}\n",
      "Modelo: {'eta': 0.07, 'learning_rate': 0.05, 'max_depth': 10, 'n_estimators': 120, 'objective': 'reg:squarederror', 'subsample': 0.2}\n",
      "Modelo: {'eta': 0.07, 'learning_rate': 0.05, 'max_depth': 10, 'n_estimators': 120, 'objective': 'reg:squarederror', 'subsample': 0.3}\n",
      "Modelo: {'eta': 0.07, 'learning_rate': 0.05, 'max_depth': 10, 'n_estimators': 120, 'objective': 'reg:squarederror', 'subsample': 0.5}\n",
      "Modelo: {'eta': 0.07, 'learning_rate': 0.05, 'max_depth': 10, 'n_estimators': 140, 'objective': 'reg:squarederror', 'subsample': 0.2}\n",
      "Modelo: {'eta': 0.07, 'learning_rate': 0.05, 'max_depth': 10, 'n_estimators': 140, 'objective': 'reg:squarederror', 'subsample': 0.3}\n",
      "Modelo: {'eta': 0.07, 'learning_rate': 0.05, 'max_depth': 10, 'n_estimators': 140, 'objective': 'reg:squarederror', 'subsample': 0.5}\n",
      "Modelo: {'eta': 0.07, 'learning_rate': 0.05, 'max_depth': 11, 'n_estimators': 80, 'objective': 'reg:squarederror', 'subsample': 0.2}\n",
      "Modelo: {'eta': 0.07, 'learning_rate': 0.05, 'max_depth': 11, 'n_estimators': 80, 'objective': 'reg:squarederror', 'subsample': 0.3}\n",
      "Modelo: {'eta': 0.07, 'learning_rate': 0.05, 'max_depth': 11, 'n_estimators': 80, 'objective': 'reg:squarederror', 'subsample': 0.5}\n",
      "Modelo: {'eta': 0.07, 'learning_rate': 0.05, 'max_depth': 11, 'n_estimators': 100, 'objective': 'reg:squarederror', 'subsample': 0.2}\n",
      "Modelo: {'eta': 0.07, 'learning_rate': 0.05, 'max_depth': 11, 'n_estimators': 100, 'objective': 'reg:squarederror', 'subsample': 0.3}\n",
      "Modelo: {'eta': 0.07, 'learning_rate': 0.05, 'max_depth': 11, 'n_estimators': 100, 'objective': 'reg:squarederror', 'subsample': 0.5}\n",
      "Modelo: {'eta': 0.07, 'learning_rate': 0.05, 'max_depth': 11, 'n_estimators': 120, 'objective': 'reg:squarederror', 'subsample': 0.2}\n",
      "Modelo: {'eta': 0.07, 'learning_rate': 0.05, 'max_depth': 11, 'n_estimators': 120, 'objective': 'reg:squarederror', 'subsample': 0.3}\n",
      "Modelo: {'eta': 0.07, 'learning_rate': 0.05, 'max_depth': 11, 'n_estimators': 120, 'objective': 'reg:squarederror', 'subsample': 0.5}\n",
      "Modelo: {'eta': 0.07, 'learning_rate': 0.05, 'max_depth': 11, 'n_estimators': 140, 'objective': 'reg:squarederror', 'subsample': 0.2}\n",
      "Modelo: {'eta': 0.07, 'learning_rate': 0.05, 'max_depth': 11, 'n_estimators': 140, 'objective': 'reg:squarederror', 'subsample': 0.3}\n",
      "Modelo: {'eta': 0.07, 'learning_rate': 0.05, 'max_depth': 11, 'n_estimators': 140, 'objective': 'reg:squarederror', 'subsample': 0.5}\n"
     ]
    }
   ],
   "source": [
    "param_grid_xgb = ParameterGrid({\n",
    "    'n_estimators' : [80, 100, 120, 140],\n",
    "    'max_depth' : [5, 7, 9, 10, 11],\n",
    "    'learning_rate' : [.02,.03, .05],\n",
    "    'objective' : ['reg:squarederror'],\n",
    "    'subsample' : [0.2, 0.3, 0.5],\n",
    "    'eta' : [.01, .05, .07],\n",
    "})\n",
    "# Ejecuciones del modelo\n",
    "ejecutar_modelo(model = \"XGBRegressor\", \n",
    "                x_train=x_train, \n",
    "                y_train=y_train, \n",
    "                x_test=x_test, \n",
    "                y_test=y_test, \n",
    "                params=param_grid_xgb, \n",
    "                filename='XGBRegressor')"
   ]
  },
  {
   "cell_type": "code",
   "execution_count": 29,
   "metadata": {},
   "outputs": [
    {
     "data": {
      "text/html": [
       "<style>#sk-container-id-1 {color: black;background-color: white;}#sk-container-id-1 pre{padding: 0;}#sk-container-id-1 div.sk-toggleable {background-color: white;}#sk-container-id-1 label.sk-toggleable__label {cursor: pointer;display: block;width: 100%;margin-bottom: 0;padding: 0.3em;box-sizing: border-box;text-align: center;}#sk-container-id-1 label.sk-toggleable__label-arrow:before {content: \"▸\";float: left;margin-right: 0.25em;color: #696969;}#sk-container-id-1 label.sk-toggleable__label-arrow:hover:before {color: black;}#sk-container-id-1 div.sk-estimator:hover label.sk-toggleable__label-arrow:before {color: black;}#sk-container-id-1 div.sk-toggleable__content {max-height: 0;max-width: 0;overflow: hidden;text-align: left;background-color: #f0f8ff;}#sk-container-id-1 div.sk-toggleable__content pre {margin: 0.2em;color: black;border-radius: 0.25em;background-color: #f0f8ff;}#sk-container-id-1 input.sk-toggleable__control:checked~div.sk-toggleable__content {max-height: 200px;max-width: 100%;overflow: auto;}#sk-container-id-1 input.sk-toggleable__control:checked~label.sk-toggleable__label-arrow:before {content: \"▾\";}#sk-container-id-1 div.sk-estimator input.sk-toggleable__control:checked~label.sk-toggleable__label {background-color: #d4ebff;}#sk-container-id-1 div.sk-label input.sk-toggleable__control:checked~label.sk-toggleable__label {background-color: #d4ebff;}#sk-container-id-1 input.sk-hidden--visually {border: 0;clip: rect(1px 1px 1px 1px);clip: rect(1px, 1px, 1px, 1px);height: 1px;margin: -1px;overflow: hidden;padding: 0;position: absolute;width: 1px;}#sk-container-id-1 div.sk-estimator {font-family: monospace;background-color: #f0f8ff;border: 1px dotted black;border-radius: 0.25em;box-sizing: border-box;margin-bottom: 0.5em;}#sk-container-id-1 div.sk-estimator:hover {background-color: #d4ebff;}#sk-container-id-1 div.sk-parallel-item::after {content: \"\";width: 100%;border-bottom: 1px solid gray;flex-grow: 1;}#sk-container-id-1 div.sk-label:hover label.sk-toggleable__label {background-color: #d4ebff;}#sk-container-id-1 div.sk-serial::before {content: \"\";position: absolute;border-left: 1px solid gray;box-sizing: border-box;top: 0;bottom: 0;left: 50%;z-index: 0;}#sk-container-id-1 div.sk-serial {display: flex;flex-direction: column;align-items: center;background-color: white;padding-right: 0.2em;padding-left: 0.2em;position: relative;}#sk-container-id-1 div.sk-item {position: relative;z-index: 1;}#sk-container-id-1 div.sk-parallel {display: flex;align-items: stretch;justify-content: center;background-color: white;position: relative;}#sk-container-id-1 div.sk-item::before, #sk-container-id-1 div.sk-parallel-item::before {content: \"\";position: absolute;border-left: 1px solid gray;box-sizing: border-box;top: 0;bottom: 0;left: 50%;z-index: -1;}#sk-container-id-1 div.sk-parallel-item {display: flex;flex-direction: column;z-index: 1;position: relative;background-color: white;}#sk-container-id-1 div.sk-parallel-item:first-child::after {align-self: flex-end;width: 50%;}#sk-container-id-1 div.sk-parallel-item:last-child::after {align-self: flex-start;width: 50%;}#sk-container-id-1 div.sk-parallel-item:only-child::after {width: 0;}#sk-container-id-1 div.sk-dashed-wrapped {border: 1px dashed gray;margin: 0 0.4em 0.5em 0.4em;box-sizing: border-box;padding-bottom: 0.4em;background-color: white;}#sk-container-id-1 div.sk-label label {font-family: monospace;font-weight: bold;display: inline-block;line-height: 1.2em;}#sk-container-id-1 div.sk-label-container {text-align: center;}#sk-container-id-1 div.sk-container {/* jupyter's `normalize.less` sets `[hidden] { display: none; }` but bootstrap.min.css set `[hidden] { display: none !important; }` so we also need the `!important` here to be able to override the default hidden behavior on the sphinx rendered scikit-learn.org. See: https://github.com/scikit-learn/scikit-learn/issues/21755 */display: inline-block !important;position: relative;}#sk-container-id-1 div.sk-text-repr-fallback {display: none;}</style><div id=\"sk-container-id-1\" class=\"sk-top-container\"><div class=\"sk-text-repr-fallback\"><pre>GridSearchCV(cv=5,\n",
       "             estimator=XGBRegressor(base_score=None, booster=None,\n",
       "                                    callbacks=None, colsample_bylevel=None,\n",
       "                                    colsample_bynode=None,\n",
       "                                    colsample_bytree=None,\n",
       "                                    early_stopping_rounds=None,\n",
       "                                    enable_categorical=False, eval_metric=None,\n",
       "                                    feature_types=None, gamma=None, gpu_id=None,\n",
       "                                    grow_policy=None, importance_type=None,\n",
       "                                    interaction_constraints=None,\n",
       "                                    learning_rate=None, m...\n",
       "                                    min_child_weight=None, missing=nan,\n",
       "                                    monotone_constraints=None, n_estimators=100,\n",
       "                                    n_jobs=None, num_parallel_tree=None,\n",
       "                                    predictor=None, random_state=123, ...),\n",
       "             n_jobs=-1,\n",
       "             param_grid={&#x27;eta&#x27;: [0.01, 0.05, 0.07], &#x27;learning_rate&#x27;: [0.03],\n",
       "                         &#x27;max_depth&#x27;: [10], &#x27;n_estimators&#x27;: [100, 120],\n",
       "                         &#x27;objective&#x27;: [&#x27;reg:squarederror&#x27;],\n",
       "                         &#x27;subsample&#x27;: [0.2, 0.3]},\n",
       "             return_train_score=True, scoring=&#x27;r2&#x27;)</pre><b>In a Jupyter environment, please rerun this cell to show the HTML representation or trust the notebook. <br />On GitHub, the HTML representation is unable to render, please try loading this page with nbviewer.org.</b></div><div class=\"sk-container\" hidden><div class=\"sk-item sk-dashed-wrapped\"><div class=\"sk-label-container\"><div class=\"sk-label sk-toggleable\"><input class=\"sk-toggleable__control sk-hidden--visually\" id=\"sk-estimator-id-1\" type=\"checkbox\" ><label for=\"sk-estimator-id-1\" class=\"sk-toggleable__label sk-toggleable__label-arrow\">GridSearchCV</label><div class=\"sk-toggleable__content\"><pre>GridSearchCV(cv=5,\n",
       "             estimator=XGBRegressor(base_score=None, booster=None,\n",
       "                                    callbacks=None, colsample_bylevel=None,\n",
       "                                    colsample_bynode=None,\n",
       "                                    colsample_bytree=None,\n",
       "                                    early_stopping_rounds=None,\n",
       "                                    enable_categorical=False, eval_metric=None,\n",
       "                                    feature_types=None, gamma=None, gpu_id=None,\n",
       "                                    grow_policy=None, importance_type=None,\n",
       "                                    interaction_constraints=None,\n",
       "                                    learning_rate=None, m...\n",
       "                                    min_child_weight=None, missing=nan,\n",
       "                                    monotone_constraints=None, n_estimators=100,\n",
       "                                    n_jobs=None, num_parallel_tree=None,\n",
       "                                    predictor=None, random_state=123, ...),\n",
       "             n_jobs=-1,\n",
       "             param_grid={&#x27;eta&#x27;: [0.01, 0.05, 0.07], &#x27;learning_rate&#x27;: [0.03],\n",
       "                         &#x27;max_depth&#x27;: [10], &#x27;n_estimators&#x27;: [100, 120],\n",
       "                         &#x27;objective&#x27;: [&#x27;reg:squarederror&#x27;],\n",
       "                         &#x27;subsample&#x27;: [0.2, 0.3]},\n",
       "             return_train_score=True, scoring=&#x27;r2&#x27;)</pre></div></div></div><div class=\"sk-parallel\"><div class=\"sk-parallel-item\"><div class=\"sk-item\"><div class=\"sk-label-container\"><div class=\"sk-label sk-toggleable\"><input class=\"sk-toggleable__control sk-hidden--visually\" id=\"sk-estimator-id-2\" type=\"checkbox\" ><label for=\"sk-estimator-id-2\" class=\"sk-toggleable__label sk-toggleable__label-arrow\">estimator: XGBRegressor</label><div class=\"sk-toggleable__content\"><pre>XGBRegressor(base_score=None, booster=None, callbacks=None,\n",
       "             colsample_bylevel=None, colsample_bynode=None,\n",
       "             colsample_bytree=None, early_stopping_rounds=None,\n",
       "             enable_categorical=False, eval_metric=None, feature_types=None,\n",
       "             gamma=None, gpu_id=None, grow_policy=None, importance_type=None,\n",
       "             interaction_constraints=None, learning_rate=None, max_bin=None,\n",
       "             max_cat_threshold=None, max_cat_to_onehot=None,\n",
       "             max_delta_step=None, max_depth=None, max_leaves=None,\n",
       "             min_child_weight=None, missing=nan, monotone_constraints=None,\n",
       "             n_estimators=100, n_jobs=None, num_parallel_tree=None,\n",
       "             predictor=None, random_state=123, ...)</pre></div></div></div><div class=\"sk-serial\"><div class=\"sk-item\"><div class=\"sk-estimator sk-toggleable\"><input class=\"sk-toggleable__control sk-hidden--visually\" id=\"sk-estimator-id-3\" type=\"checkbox\" ><label for=\"sk-estimator-id-3\" class=\"sk-toggleable__label sk-toggleable__label-arrow\">XGBRegressor</label><div class=\"sk-toggleable__content\"><pre>XGBRegressor(base_score=None, booster=None, callbacks=None,\n",
       "             colsample_bylevel=None, colsample_bynode=None,\n",
       "             colsample_bytree=None, early_stopping_rounds=None,\n",
       "             enable_categorical=False, eval_metric=None, feature_types=None,\n",
       "             gamma=None, gpu_id=None, grow_policy=None, importance_type=None,\n",
       "             interaction_constraints=None, learning_rate=None, max_bin=None,\n",
       "             max_cat_threshold=None, max_cat_to_onehot=None,\n",
       "             max_delta_step=None, max_depth=None, max_leaves=None,\n",
       "             min_child_weight=None, missing=nan, monotone_constraints=None,\n",
       "             n_estimators=100, n_jobs=None, num_parallel_tree=None,\n",
       "             predictor=None, random_state=123, ...)</pre></div></div></div></div></div></div></div></div></div></div>"
      ],
      "text/plain": [
       "GridSearchCV(cv=5,\n",
       "             estimator=XGBRegressor(base_score=None, booster=None,\n",
       "                                    callbacks=None, colsample_bylevel=None,\n",
       "                                    colsample_bynode=None,\n",
       "                                    colsample_bytree=None,\n",
       "                                    early_stopping_rounds=None,\n",
       "                                    enable_categorical=False, eval_metric=None,\n",
       "                                    feature_types=None, gamma=None, gpu_id=None,\n",
       "                                    grow_policy=None, importance_type=None,\n",
       "                                    interaction_constraints=None,\n",
       "                                    learning_rate=None, m...\n",
       "                                    min_child_weight=None, missing=nan,\n",
       "                                    monotone_constraints=None, n_estimators=100,\n",
       "                                    n_jobs=None, num_parallel_tree=None,\n",
       "                                    predictor=None, random_state=123, ...),\n",
       "             n_jobs=-1,\n",
       "             param_grid={'eta': [0.01, 0.05, 0.07], 'learning_rate': [0.03],\n",
       "                         'max_depth': [10], 'n_estimators': [100, 120],\n",
       "                         'objective': ['reg:squarederror'],\n",
       "                         'subsample': [0.2, 0.3]},\n",
       "             return_train_score=True, scoring='r2')"
      ]
     },
     "execution_count": 29,
     "metadata": {},
     "output_type": "execute_result"
    }
   ],
   "source": [
    "param_grid_xgb = {\n",
    "    'n_estimators' : [100, 120],\n",
    "    'max_depth' : [10],\n",
    "    'learning_rate' : [.03],\n",
    "    'objective' : ['reg:squarederror'],\n",
    "    'subsample' : [0.2,0.3],\n",
    "    'eta' : [.01,.05, .07],\n",
    "}\n",
    "\n",
    "grid = GridSearchCV(\n",
    "        estimator  = xgb.XGBRegressor(random_state=123),\n",
    "        param_grid = param_grid_xgb,\n",
    "        scoring    = 'r2',\n",
    "        n_jobs     = - 1,\n",
    "        cv         = 5, \n",
    "        refit      = True,\n",
    "        verbose    = 0,\n",
    "        return_train_score = True\n",
    "       )\n",
    "\n",
    "grid.fit(X=x_train, y= y_train)"
   ]
  },
  {
   "cell_type": "code",
   "execution_count": 30,
   "metadata": {},
   "outputs": [
    {
     "data": {
      "text/plain": [
       "{'eta': 0.01,\n",
       " 'learning_rate': 0.03,\n",
       " 'max_depth': 10,\n",
       " 'n_estimators': 120,\n",
       " 'objective': 'reg:squarederror',\n",
       " 'subsample': 0.3}"
      ]
     },
     "execution_count": 30,
     "metadata": {},
     "output_type": "execute_result"
    }
   ],
   "source": [
    "grid.best_params_"
   ]
  },
  {
   "cell_type": "code",
   "execution_count": 31,
   "metadata": {},
   "outputs": [],
   "source": [
    "xgb_final = grid.best_estimator_"
   ]
  },
  {
   "cell_type": "code",
   "execution_count": 32,
   "metadata": {},
   "outputs": [
    {
     "data": {
      "text/html": [
       "<div>\n",
       "<style scoped>\n",
       "    .dataframe tbody tr th:only-of-type {\n",
       "        vertical-align: middle;\n",
       "    }\n",
       "\n",
       "    .dataframe tbody tr th {\n",
       "        vertical-align: top;\n",
       "    }\n",
       "\n",
       "    .dataframe thead th {\n",
       "        text-align: right;\n",
       "    }\n",
       "</style>\n",
       "<table border=\"1\" class=\"dataframe\">\n",
       "  <thead>\n",
       "    <tr style=\"text-align: right;\">\n",
       "      <th></th>\n",
       "      <th>param_eta</th>\n",
       "      <th>param_learning_rate</th>\n",
       "      <th>param_max_depth</th>\n",
       "      <th>param_n_estimators</th>\n",
       "      <th>param_objective</th>\n",
       "      <th>param_subsample</th>\n",
       "      <th>mean_test_score</th>\n",
       "      <th>std_test_score</th>\n",
       "      <th>mean_train_score</th>\n",
       "      <th>std_train_score</th>\n",
       "    </tr>\n",
       "  </thead>\n",
       "  <tbody>\n",
       "    <tr>\n",
       "      <th>3</th>\n",
       "      <td>0.01</td>\n",
       "      <td>0.03</td>\n",
       "      <td>10</td>\n",
       "      <td>120</td>\n",
       "      <td>reg:squarederror</td>\n",
       "      <td>0.3</td>\n",
       "      <td>0.844070</td>\n",
       "      <td>0.017791</td>\n",
       "      <td>0.927780</td>\n",
       "      <td>0.002464</td>\n",
       "    </tr>\n",
       "    <tr>\n",
       "      <th>7</th>\n",
       "      <td>0.05</td>\n",
       "      <td>0.03</td>\n",
       "      <td>10</td>\n",
       "      <td>120</td>\n",
       "      <td>reg:squarederror</td>\n",
       "      <td>0.3</td>\n",
       "      <td>0.844070</td>\n",
       "      <td>0.017791</td>\n",
       "      <td>0.927780</td>\n",
       "      <td>0.002464</td>\n",
       "    </tr>\n",
       "    <tr>\n",
       "      <th>11</th>\n",
       "      <td>0.07</td>\n",
       "      <td>0.03</td>\n",
       "      <td>10</td>\n",
       "      <td>120</td>\n",
       "      <td>reg:squarederror</td>\n",
       "      <td>0.3</td>\n",
       "      <td>0.844070</td>\n",
       "      <td>0.017791</td>\n",
       "      <td>0.927780</td>\n",
       "      <td>0.002464</td>\n",
       "    </tr>\n",
       "    <tr>\n",
       "      <th>2</th>\n",
       "      <td>0.01</td>\n",
       "      <td>0.03</td>\n",
       "      <td>10</td>\n",
       "      <td>120</td>\n",
       "      <td>reg:squarederror</td>\n",
       "      <td>0.2</td>\n",
       "      <td>0.842295</td>\n",
       "      <td>0.018816</td>\n",
       "      <td>0.908783</td>\n",
       "      <td>0.002313</td>\n",
       "    </tr>\n",
       "    <tr>\n",
       "      <th>6</th>\n",
       "      <td>0.05</td>\n",
       "      <td>0.03</td>\n",
       "      <td>10</td>\n",
       "      <td>120</td>\n",
       "      <td>reg:squarederror</td>\n",
       "      <td>0.2</td>\n",
       "      <td>0.842295</td>\n",
       "      <td>0.018816</td>\n",
       "      <td>0.908783</td>\n",
       "      <td>0.002313</td>\n",
       "    </tr>\n",
       "    <tr>\n",
       "      <th>10</th>\n",
       "      <td>0.07</td>\n",
       "      <td>0.03</td>\n",
       "      <td>10</td>\n",
       "      <td>120</td>\n",
       "      <td>reg:squarederror</td>\n",
       "      <td>0.2</td>\n",
       "      <td>0.842295</td>\n",
       "      <td>0.018816</td>\n",
       "      <td>0.908783</td>\n",
       "      <td>0.002313</td>\n",
       "    </tr>\n",
       "    <tr>\n",
       "      <th>1</th>\n",
       "      <td>0.01</td>\n",
       "      <td>0.03</td>\n",
       "      <td>10</td>\n",
       "      <td>100</td>\n",
       "      <td>reg:squarederror</td>\n",
       "      <td>0.3</td>\n",
       "      <td>0.831210</td>\n",
       "      <td>0.017192</td>\n",
       "      <td>0.904143</td>\n",
       "      <td>0.002953</td>\n",
       "    </tr>\n",
       "    <tr>\n",
       "      <th>5</th>\n",
       "      <td>0.05</td>\n",
       "      <td>0.03</td>\n",
       "      <td>10</td>\n",
       "      <td>100</td>\n",
       "      <td>reg:squarederror</td>\n",
       "      <td>0.3</td>\n",
       "      <td>0.831210</td>\n",
       "      <td>0.017192</td>\n",
       "      <td>0.904143</td>\n",
       "      <td>0.002953</td>\n",
       "    </tr>\n",
       "    <tr>\n",
       "      <th>9</th>\n",
       "      <td>0.07</td>\n",
       "      <td>0.03</td>\n",
       "      <td>10</td>\n",
       "      <td>100</td>\n",
       "      <td>reg:squarederror</td>\n",
       "      <td>0.3</td>\n",
       "      <td>0.831210</td>\n",
       "      <td>0.017192</td>\n",
       "      <td>0.904143</td>\n",
       "      <td>0.002953</td>\n",
       "    </tr>\n",
       "    <tr>\n",
       "      <th>0</th>\n",
       "      <td>0.01</td>\n",
       "      <td>0.03</td>\n",
       "      <td>10</td>\n",
       "      <td>100</td>\n",
       "      <td>reg:squarederror</td>\n",
       "      <td>0.2</td>\n",
       "      <td>0.828643</td>\n",
       "      <td>0.018897</td>\n",
       "      <td>0.886474</td>\n",
       "      <td>0.002165</td>\n",
       "    </tr>\n",
       "  </tbody>\n",
       "</table>\n",
       "</div>"
      ],
      "text/plain": [
       "   param_eta param_learning_rate param_max_depth param_n_estimators   \n",
       "3       0.01                0.03              10                120  \\\n",
       "7       0.05                0.03              10                120   \n",
       "11      0.07                0.03              10                120   \n",
       "2       0.01                0.03              10                120   \n",
       "6       0.05                0.03              10                120   \n",
       "10      0.07                0.03              10                120   \n",
       "1       0.01                0.03              10                100   \n",
       "5       0.05                0.03              10                100   \n",
       "9       0.07                0.03              10                100   \n",
       "0       0.01                0.03              10                100   \n",
       "\n",
       "     param_objective param_subsample  mean_test_score  std_test_score   \n",
       "3   reg:squarederror             0.3         0.844070        0.017791  \\\n",
       "7   reg:squarederror             0.3         0.844070        0.017791   \n",
       "11  reg:squarederror             0.3         0.844070        0.017791   \n",
       "2   reg:squarederror             0.2         0.842295        0.018816   \n",
       "6   reg:squarederror             0.2         0.842295        0.018816   \n",
       "10  reg:squarederror             0.2         0.842295        0.018816   \n",
       "1   reg:squarederror             0.3         0.831210        0.017192   \n",
       "5   reg:squarederror             0.3         0.831210        0.017192   \n",
       "9   reg:squarederror             0.3         0.831210        0.017192   \n",
       "0   reg:squarederror             0.2         0.828643        0.018897   \n",
       "\n",
       "    mean_train_score  std_train_score  \n",
       "3           0.927780         0.002464  \n",
       "7           0.927780         0.002464  \n",
       "11          0.927780         0.002464  \n",
       "2           0.908783         0.002313  \n",
       "6           0.908783         0.002313  \n",
       "10          0.908783         0.002313  \n",
       "1           0.904143         0.002953  \n",
       "5           0.904143         0.002953  \n",
       "9           0.904143         0.002953  \n",
       "0           0.886474         0.002165  "
      ]
     },
     "execution_count": 32,
     "metadata": {},
     "output_type": "execute_result"
    }
   ],
   "source": [
    "resultados_cv = pd.DataFrame(grid.cv_results_)\n",
    "resultados_cv.filter(regex = '(param*|mean_t|std_t)') \\\n",
    "    .drop(columns = 'params') \\\n",
    "    .sort_values('mean_test_score', ascending = False) \\\n",
    "    .head(10)"
   ]
  },
  {
   "cell_type": "code",
   "execution_count": 34,
   "metadata": {},
   "outputs": [
    {
     "data": {
      "text/plain": [
       "0.11047002388753722"
      ]
     },
     "execution_count": 34,
     "metadata": {},
     "output_type": "execute_result"
    }
   ],
   "source": [
    "mean_absolute_percentage_error(y_true=y_train, y_pred  = xgb_final.predict(x_train))"
   ]
  },
  {
   "cell_type": "code",
   "execution_count": 35,
   "metadata": {},
   "outputs": [
    {
     "data": {
      "text/plain": [
       "0.15738790267019095"
      ]
     },
     "execution_count": 35,
     "metadata": {},
     "output_type": "execute_result"
    }
   ],
   "source": [
    "mean_absolute_percentage_error(y_true=y_test, y_pred  = xgb_final.predict(x_test))"
   ]
  },
  {
   "cell_type": "code",
   "execution_count": 37,
   "metadata": {},
   "outputs": [],
   "source": [
    "X_est['zona'] = data_model['zona']"
   ]
  },
  {
   "cell_type": "code",
   "execution_count": 38,
   "metadata": {},
   "outputs": [
    {
     "data": {
      "image/png": "[encoded data removed]",
      "text/plain": [
       "<Figure size 1200x400 with 1 Axes>"
      ]
     },
     "metadata": {},
     "output_type": "display_data"
    }
   ],
   "source": [
    "graficar_distribucion_histograma( X_est, 'zona')"
   ]
  },
  {
   "cell_type": "code",
   "execution_count": 39,
   "metadata": {},
   "outputs": [
    {
     "data": {
      "image/png": "[encoded data removed]",
      "text/plain": [
       "<Figure size 1200x400 with 1 Axes>"
      ]
     },
     "metadata": {},
     "output_type": "display_data"
    }
   ],
   "source": [
    "graficar_distribucion_histograma( X_est, 'cluster')"
   ]
  },
  {
   "cell_type": "code",
   "execution_count": 40,
   "metadata": {},
   "outputs": [
    {
     "data": {
      "text/plain": [
       "['baños_familiares',\n",
       " 'area_bruta',\n",
       " 'parqueaderos',\n",
       " 'alcobas_familiares',\n",
       " 'estrato',\n",
       " 'juegos_infantiles',\n",
       " 'balcon',\n",
       " 'cancha_polideportiva',\n",
       " 'ascensor',\n",
       " 'unidad_cerrada_conjunto',\n",
       " 'zonas_verdes',\n",
       " 'turco',\n",
       " 'sauna',\n",
       " 'calentador_de_agua',\n",
       " 'closet_de_linos',\n",
       " 'biblioteca',\n",
       " 'parqueadero_visitantes',\n",
       " 'gimnasio',\n",
       " 'piscina',\n",
       " 'salon_social',\n",
       " 'tipo_cocina_freq',\n",
       " 'tipo_pisos_freq',\n",
       " 'cluster',\n",
       " 'zona',\n",
       " 'precio']"
      ]
     },
     "execution_count": 40,
     "metadata": {},
     "output_type": "execute_result"
    }
   ],
   "source": [
    "columns_test_zones = list(x_train.columns)\n",
    "columns_test_zones.extend(['zona', 'precio'])\n",
    "columns_test_zones"
   ]
  },
  {
   "cell_type": "code",
   "execution_count": 67,
   "metadata": {},
   "outputs": [],
   "source": [
    "data_zonas = X_est[columns_test_zones]"
   ]
  },
  {
   "cell_type": "code",
   "execution_count": 68,
   "metadata": {},
   "outputs": [
    {
     "data": {
      "text/plain": [
       "array(['centro', 'poblado', 'laureles', 'belen', 'sa_prado'], dtype=object)"
      ]
     },
     "execution_count": 68,
     "metadata": {},
     "output_type": "execute_result"
    }
   ],
   "source": [
    "data_model[\"zona\"].unique()"
   ]
  },
  {
   "cell_type": "code",
   "execution_count": 69,
   "metadata": {},
   "outputs": [],
   "source": [
    "data_centro = data_zonas[data_zonas['zona'] == 'centro']\n",
    "data_poblado = data_zonas[data_zonas['zona'] == 'poblado']\n",
    "data_laureles = data_zonas[data_zonas['zona'] == 'laureles']\n",
    "data_belen = data_zonas[data_zonas['zona'] == 'belen']\n",
    "data_sa_prado = data_zonas[data_zonas['zona'] == 'sa_prado']"
   ]
  },
  {
   "cell_type": "code",
   "execution_count": 70,
   "metadata": {},
   "outputs": [
    {
     "name": "stdout",
     "output_type": "stream",
     "text": [
      "MAPE centro:  0.2549462056362487\n",
      "MAPE poblado:  0.23624572581579895\n",
      "MAPE laureles:  0.33182004664330256\n",
      "MAPE belen:  0.3512421248729886\n",
      "MAPE sa_prado:  0.4490736614407065\n"
     ]
    }
   ],
   "source": [
    "print('MAPE centro: ', mean_absolute_percentage_error(y_true=data_centro['precio'], y_pred  = xgb_final.predict(data_centro[x_train.columns])))\n",
    "print('MAPE poblado: ', mean_absolute_percentage_error(y_true=data_poblado['precio'], y_pred  = xgb_final.predict(data_poblado[x_train.columns])))\n",
    "print('MAPE laureles: ', mean_absolute_percentage_error(y_true=data_laureles['precio'], y_pred  = xgb_final.predict(data_laureles[x_train.columns])))\n",
    "print('MAPE belen: ', mean_absolute_percentage_error(y_true=data_belen['precio'], y_pred  = xgb_final.predict(data_belen[x_train.columns])))\n",
    "print('MAPE sa_prado: ', mean_absolute_percentage_error(y_true=data_sa_prado['precio'], y_pred  = xgb_final.predict(data_sa_prado[x_train.columns])))"
   ]
  },
  {
   "cell_type": "code",
   "execution_count": 71,
   "metadata": {},
   "outputs": [],
   "source": [
    "data_cluster_0 = data_zonas[data_zonas['cluster'] == 0] \n",
    "data_cluster_1 = data_zonas[data_zonas['cluster'] == 1] \n",
    "data_cluster_2 = data_zonas[data_zonas['cluster'] == 2] "
   ]
  },
  {
   "cell_type": "code",
   "execution_count": 72,
   "metadata": {},
   "outputs": [
    {
     "name": "stdout",
     "output_type": "stream",
     "text": [
      "MAPE cluster_0:  0.13605567833382864\n",
      "MAPE cluster_1:  0.34518257975520206\n",
      "MAPE cluster_2:  0.7820902829504309\n"
     ]
    }
   ],
   "source": [
    "print('MAPE cluster_0: ', mean_absolute_percentage_error(y_true=data_cluster_0['precio'], y_pred  = xgb_final.predict(data_cluster_0[x_train.columns])))\n",
    "print('MAPE cluster_1: ', mean_absolute_percentage_error(y_true=data_cluster_1['precio'], y_pred  = xgb_final.predict(data_cluster_1[x_train.columns])))\n",
    "print('MAPE cluster_2: ', mean_absolute_percentage_error(y_true=data_cluster_2['precio'], y_pred  = xgb_final.predict(data_cluster_2[x_train.columns])))"
   ]
  },
  {
   "cell_type": "code",
   "execution_count": 73,
   "metadata": {},
   "outputs": [
    {
     "data": {
      "image/png": "[encoded data removed]",
      "text/plain": [
       "<Figure size 1200x400 with 1 Axes>"
      ]
     },
     "metadata": {},
     "output_type": "display_data"
    }
   ],
   "source": [
    "graficar_distribucion_histograma( data_cluster_0, 'zona')"
   ]
  },
  {
   "cell_type": "code",
   "execution_count": 74,
   "metadata": {},
   "outputs": [
    {
     "data": {
      "image/png": "[encoded data removed]",
      "text/plain": [
       "<Figure size 1200x400 with 1 Axes>"
      ]
     },
     "metadata": {},
     "output_type": "display_data"
    }
   ],
   "source": [
    "graficar_distribucion_histograma( data_cluster_0, 'precio')"
   ]
  },
  {
   "cell_type": "code",
   "execution_count": 76,
   "metadata": {},
   "outputs": [
    {
     "data": {
      "image/png": "[encoded data removed]",
      "text/plain": [
       "<Figure size 1200x400 with 1 Axes>"
      ]
     },
     "metadata": {},
     "output_type": "display_data"
    }
   ],
   "source": [
    "graficar_distribucion_histograma( data_cluster_0, 'estrato')"
   ]
  },
  {
   "cell_type": "code",
   "execution_count": 90,
   "metadata": {},
   "outputs": [
    {
     "data": {
      "image/png": "[encoded data removed]",
      "text/plain": [
       "<Figure size 640x480 with 1 Axes>"
      ]
     },
     "metadata": {},
     "output_type": "display_data"
    },
    {
     "data": {
      "text/plain": [
       "<Figure size 1600x1600 with 0 Axes>"
      ]
     },
     "metadata": {},
     "output_type": "display_data"
    }
   ],
   "source": [
    "xgb.plot_importance(xgb_final)\n",
    "plt.figure(figsize = (16, 16))\n",
    "plt.show()"
   ]
  },
  {
   "cell_type": "code",
   "execution_count": 111,
   "metadata": {},
   "outputs": [
    {
     "data": {
      "image/png": "[encoded data removed]",
      "text/plain": [
       "<Figure size 1200x400 with 1 Axes>"
      ]
     },
     "metadata": {},
     "output_type": "display_data"
    }
   ],
   "source": [
    "graficar_distribucion_histograma( data_zonas, 'area_bruta')"
   ]
  },
  {
   "cell_type": "code",
   "execution_count": 112,
   "metadata": {},
   "outputs": [
    {
     "data": {
      "text/html": [
       "<div>\n",
       "<style scoped>\n",
       "    .dataframe tbody tr th:only-of-type {\n",
       "        vertical-align: middle;\n",
       "    }\n",
       "\n",
       "    .dataframe tbody tr th {\n",
       "        vertical-align: top;\n",
       "    }\n",
       "\n",
       "    .dataframe thead th {\n",
       "        text-align: right;\n",
       "    }\n",
       "</style>\n",
       "<table border=\"1\" class=\"dataframe\">\n",
       "  <thead>\n",
       "    <tr style=\"text-align: right;\">\n",
       "      <th></th>\n",
       "      <th>baños_familiares</th>\n",
       "      <th>area_bruta</th>\n",
       "      <th>parqueaderos</th>\n",
       "      <th>alcobas_familiares</th>\n",
       "      <th>estrato</th>\n",
       "      <th>juegos_infantiles</th>\n",
       "      <th>balcon</th>\n",
       "      <th>cancha_polideportiva</th>\n",
       "      <th>ascensor</th>\n",
       "      <th>unidad_cerrada_conjunto</th>\n",
       "      <th>...</th>\n",
       "      <th>biblioteca</th>\n",
       "      <th>parqueadero_visitantes</th>\n",
       "      <th>gimnasio</th>\n",
       "      <th>piscina</th>\n",
       "      <th>salon_social</th>\n",
       "      <th>tipo_cocina_freq</th>\n",
       "      <th>tipo_pisos_freq</th>\n",
       "      <th>cluster</th>\n",
       "      <th>zona</th>\n",
       "      <th>precio</th>\n",
       "    </tr>\n",
       "  </thead>\n",
       "  <tbody>\n",
       "    <tr>\n",
       "      <th>1</th>\n",
       "      <td>0.2</td>\n",
       "      <td>0.118199</td>\n",
       "      <td>0.0</td>\n",
       "      <td>0.4</td>\n",
       "      <td>0.500000</td>\n",
       "      <td>0.0</td>\n",
       "      <td>0.0</td>\n",
       "      <td>0.0</td>\n",
       "      <td>0.0</td>\n",
       "      <td>0.0</td>\n",
       "      <td>...</td>\n",
       "      <td>0.0</td>\n",
       "      <td>0.0</td>\n",
       "      <td>0.0</td>\n",
       "      <td>0.0</td>\n",
       "      <td>0.0</td>\n",
       "      <td>0.092158</td>\n",
       "      <td>1.000000</td>\n",
       "      <td>0</td>\n",
       "      <td>centro</td>\n",
       "      <td>950000.0</td>\n",
       "    </tr>\n",
       "    <tr>\n",
       "      <th>2</th>\n",
       "      <td>0.2</td>\n",
       "      <td>0.058161</td>\n",
       "      <td>0.0</td>\n",
       "      <td>0.2</td>\n",
       "      <td>0.666667</td>\n",
       "      <td>0.0</td>\n",
       "      <td>0.0</td>\n",
       "      <td>0.0</td>\n",
       "      <td>0.0</td>\n",
       "      <td>0.0</td>\n",
       "      <td>...</td>\n",
       "      <td>0.0</td>\n",
       "      <td>0.0</td>\n",
       "      <td>0.0</td>\n",
       "      <td>0.0</td>\n",
       "      <td>0.0</td>\n",
       "      <td>0.092158</td>\n",
       "      <td>1.000000</td>\n",
       "      <td>0</td>\n",
       "      <td>centro</td>\n",
       "      <td>970000.0</td>\n",
       "    </tr>\n",
       "    <tr>\n",
       "      <th>4</th>\n",
       "      <td>0.2</td>\n",
       "      <td>0.159475</td>\n",
       "      <td>0.0</td>\n",
       "      <td>0.6</td>\n",
       "      <td>0.333333</td>\n",
       "      <td>0.0</td>\n",
       "      <td>1.0</td>\n",
       "      <td>0.0</td>\n",
       "      <td>0.0</td>\n",
       "      <td>0.0</td>\n",
       "      <td>...</td>\n",
       "      <td>0.0</td>\n",
       "      <td>0.0</td>\n",
       "      <td>0.0</td>\n",
       "      <td>0.0</td>\n",
       "      <td>0.0</td>\n",
       "      <td>1.000000</td>\n",
       "      <td>1.000000</td>\n",
       "      <td>0</td>\n",
       "      <td>centro</td>\n",
       "      <td>800000.0</td>\n",
       "    </tr>\n",
       "    <tr>\n",
       "      <th>5</th>\n",
       "      <td>0.4</td>\n",
       "      <td>0.090056</td>\n",
       "      <td>0.0</td>\n",
       "      <td>0.6</td>\n",
       "      <td>0.500000</td>\n",
       "      <td>1.0</td>\n",
       "      <td>1.0</td>\n",
       "      <td>0.0</td>\n",
       "      <td>1.0</td>\n",
       "      <td>1.0</td>\n",
       "      <td>...</td>\n",
       "      <td>0.0</td>\n",
       "      <td>0.0</td>\n",
       "      <td>0.0</td>\n",
       "      <td>1.0</td>\n",
       "      <td>1.0</td>\n",
       "      <td>1.000000</td>\n",
       "      <td>1.000000</td>\n",
       "      <td>0</td>\n",
       "      <td>centro</td>\n",
       "      <td>1200000.0</td>\n",
       "    </tr>\n",
       "    <tr>\n",
       "      <th>6</th>\n",
       "      <td>0.4</td>\n",
       "      <td>0.099437</td>\n",
       "      <td>0.0</td>\n",
       "      <td>0.6</td>\n",
       "      <td>0.500000</td>\n",
       "      <td>0.0</td>\n",
       "      <td>1.0</td>\n",
       "      <td>0.0</td>\n",
       "      <td>0.0</td>\n",
       "      <td>0.0</td>\n",
       "      <td>...</td>\n",
       "      <td>0.0</td>\n",
       "      <td>0.0</td>\n",
       "      <td>0.0</td>\n",
       "      <td>0.0</td>\n",
       "      <td>0.0</td>\n",
       "      <td>0.092158</td>\n",
       "      <td>0.062988</td>\n",
       "      <td>0</td>\n",
       "      <td>centro</td>\n",
       "      <td>1150000.0</td>\n",
       "    </tr>\n",
       "  </tbody>\n",
       "</table>\n",
       "<p>5 rows × 25 columns</p>\n",
       "</div>"
      ],
      "text/plain": [
       "   baños_familiares  area_bruta  parqueaderos  alcobas_familiares   estrato   \n",
       "1               0.2    0.118199           0.0                 0.4  0.500000  \\\n",
       "2               0.2    0.058161           0.0                 0.2  0.666667   \n",
       "4               0.2    0.159475           0.0                 0.6  0.333333   \n",
       "5               0.4    0.090056           0.0                 0.6  0.500000   \n",
       "6               0.4    0.099437           0.0                 0.6  0.500000   \n",
       "\n",
       "   juegos_infantiles  balcon  cancha_polideportiva  ascensor   \n",
       "1                0.0     0.0                   0.0       0.0  \\\n",
       "2                0.0     0.0                   0.0       0.0   \n",
       "4                0.0     1.0                   0.0       0.0   \n",
       "5                1.0     1.0                   0.0       1.0   \n",
       "6                0.0     1.0                   0.0       0.0   \n",
       "\n",
       "   unidad_cerrada_conjunto  ...  biblioteca  parqueadero_visitantes  gimnasio   \n",
       "1                      0.0  ...         0.0                     0.0       0.0  \\\n",
       "2                      0.0  ...         0.0                     0.0       0.0   \n",
       "4                      0.0  ...         0.0                     0.0       0.0   \n",
       "5                      1.0  ...         0.0                     0.0       0.0   \n",
       "6                      0.0  ...         0.0                     0.0       0.0   \n",
       "\n",
       "   piscina  salon_social  tipo_cocina_freq  tipo_pisos_freq  cluster    zona   \n",
       "1      0.0           0.0          0.092158         1.000000        0  centro  \\\n",
       "2      0.0           0.0          0.092158         1.000000        0  centro   \n",
       "4      0.0           0.0          1.000000         1.000000        0  centro   \n",
       "5      1.0           1.0          1.000000         1.000000        0  centro   \n",
       "6      0.0           0.0          0.092158         0.062988        0  centro   \n",
       "\n",
       "      precio  \n",
       "1   950000.0  \n",
       "2   970000.0  \n",
       "4   800000.0  \n",
       "5  1200000.0  \n",
       "6  1150000.0  \n",
       "\n",
       "[5 rows x 25 columns]"
      ]
     },
     "execution_count": 112,
     "metadata": {},
     "output_type": "execute_result"
    }
   ],
   "source": [
    "data_cluster_0.head()"
   ]
  },
  {
   "cell_type": "code",
   "execution_count": 133,
   "metadata": {},
   "outputs": [
    {
     "data": {
      "text/html": [
       "<div>\n",
       "<style scoped>\n",
       "    .dataframe tbody tr th:only-of-type {\n",
       "        vertical-align: middle;\n",
       "    }\n",
       "\n",
       "    .dataframe tbody tr th {\n",
       "        vertical-align: top;\n",
       "    }\n",
       "\n",
       "    .dataframe thead th {\n",
       "        text-align: right;\n",
       "    }\n",
       "</style>\n",
       "<table border=\"1\" class=\"dataframe\">\n",
       "  <thead>\n",
       "    <tr style=\"text-align: right;\">\n",
       "      <th></th>\n",
       "      <th>baños_familiares</th>\n",
       "      <th>area_bruta</th>\n",
       "      <th>parqueaderos</th>\n",
       "      <th>alcobas_familiares</th>\n",
       "      <th>estrato</th>\n",
       "      <th>juegos_infantiles</th>\n",
       "      <th>balcon</th>\n",
       "      <th>cancha_polideportiva</th>\n",
       "      <th>ascensor</th>\n",
       "      <th>unidad_cerrada_conjunto</th>\n",
       "      <th>...</th>\n",
       "      <th>biblioteca</th>\n",
       "      <th>parqueadero_visitantes</th>\n",
       "      <th>gimnasio</th>\n",
       "      <th>piscina</th>\n",
       "      <th>salon_social</th>\n",
       "      <th>tipo_cocina_freq</th>\n",
       "      <th>tipo_pisos_freq</th>\n",
       "      <th>cluster</th>\n",
       "      <th>zona</th>\n",
       "      <th>precio</th>\n",
       "    </tr>\n",
       "  </thead>\n",
       "  <tbody>\n",
       "    <tr>\n",
       "      <th>25</th>\n",
       "      <td>0.4</td>\n",
       "      <td>0.249531</td>\n",
       "      <td>0.0</td>\n",
       "      <td>0.8</td>\n",
       "      <td>0.5</td>\n",
       "      <td>0.0</td>\n",
       "      <td>0.0</td>\n",
       "      <td>0.0</td>\n",
       "      <td>0.0</td>\n",
       "      <td>0.0</td>\n",
       "      <td>...</td>\n",
       "      <td>0.0</td>\n",
       "      <td>0.0</td>\n",
       "      <td>0.0</td>\n",
       "      <td>0.0</td>\n",
       "      <td>0.0</td>\n",
       "      <td>0.092158</td>\n",
       "      <td>0.062988</td>\n",
       "      <td>0</td>\n",
       "      <td>centro</td>\n",
       "      <td>2100000.0</td>\n",
       "    </tr>\n",
       "    <tr>\n",
       "      <th>32</th>\n",
       "      <td>0.4</td>\n",
       "      <td>0.202627</td>\n",
       "      <td>0.0</td>\n",
       "      <td>0.6</td>\n",
       "      <td>0.5</td>\n",
       "      <td>0.0</td>\n",
       "      <td>1.0</td>\n",
       "      <td>0.0</td>\n",
       "      <td>0.0</td>\n",
       "      <td>0.0</td>\n",
       "      <td>...</td>\n",
       "      <td>0.0</td>\n",
       "      <td>0.0</td>\n",
       "      <td>0.0</td>\n",
       "      <td>0.0</td>\n",
       "      <td>0.0</td>\n",
       "      <td>1.000000</td>\n",
       "      <td>0.062988</td>\n",
       "      <td>0</td>\n",
       "      <td>centro</td>\n",
       "      <td>1800000.0</td>\n",
       "    </tr>\n",
       "    <tr>\n",
       "      <th>33</th>\n",
       "      <td>0.4</td>\n",
       "      <td>0.202627</td>\n",
       "      <td>0.0</td>\n",
       "      <td>0.6</td>\n",
       "      <td>0.5</td>\n",
       "      <td>0.0</td>\n",
       "      <td>0.0</td>\n",
       "      <td>0.0</td>\n",
       "      <td>0.0</td>\n",
       "      <td>0.0</td>\n",
       "      <td>...</td>\n",
       "      <td>0.0</td>\n",
       "      <td>0.0</td>\n",
       "      <td>0.0</td>\n",
       "      <td>0.0</td>\n",
       "      <td>0.0</td>\n",
       "      <td>1.000000</td>\n",
       "      <td>0.062988</td>\n",
       "      <td>0</td>\n",
       "      <td>centro</td>\n",
       "      <td>1800000.0</td>\n",
       "    </tr>\n",
       "    <tr>\n",
       "      <th>35</th>\n",
       "      <td>0.4</td>\n",
       "      <td>0.202627</td>\n",
       "      <td>0.0</td>\n",
       "      <td>0.6</td>\n",
       "      <td>0.5</td>\n",
       "      <td>0.0</td>\n",
       "      <td>0.0</td>\n",
       "      <td>0.0</td>\n",
       "      <td>0.0</td>\n",
       "      <td>0.0</td>\n",
       "      <td>...</td>\n",
       "      <td>0.0</td>\n",
       "      <td>0.0</td>\n",
       "      <td>0.0</td>\n",
       "      <td>0.0</td>\n",
       "      <td>0.0</td>\n",
       "      <td>1.000000</td>\n",
       "      <td>0.062988</td>\n",
       "      <td>0</td>\n",
       "      <td>centro</td>\n",
       "      <td>1800000.0</td>\n",
       "    </tr>\n",
       "    <tr>\n",
       "      <th>40</th>\n",
       "      <td>0.4</td>\n",
       "      <td>0.212008</td>\n",
       "      <td>0.0</td>\n",
       "      <td>0.8</td>\n",
       "      <td>0.5</td>\n",
       "      <td>0.0</td>\n",
       "      <td>1.0</td>\n",
       "      <td>0.0</td>\n",
       "      <td>0.0</td>\n",
       "      <td>0.0</td>\n",
       "      <td>...</td>\n",
       "      <td>0.0</td>\n",
       "      <td>0.0</td>\n",
       "      <td>0.0</td>\n",
       "      <td>0.0</td>\n",
       "      <td>0.0</td>\n",
       "      <td>1.000000</td>\n",
       "      <td>1.000000</td>\n",
       "      <td>0</td>\n",
       "      <td>centro</td>\n",
       "      <td>1800000.0</td>\n",
       "    </tr>\n",
       "  </tbody>\n",
       "</table>\n",
       "<p>5 rows × 25 columns</p>\n",
       "</div>"
      ],
      "text/plain": [
       "    baños_familiares  area_bruta  parqueaderos  alcobas_familiares  estrato   \n",
       "25               0.4    0.249531           0.0                 0.8      0.5  \\\n",
       "32               0.4    0.202627           0.0                 0.6      0.5   \n",
       "33               0.4    0.202627           0.0                 0.6      0.5   \n",
       "35               0.4    0.202627           0.0                 0.6      0.5   \n",
       "40               0.4    0.212008           0.0                 0.8      0.5   \n",
       "\n",
       "    juegos_infantiles  balcon  cancha_polideportiva  ascensor   \n",
       "25                0.0     0.0                   0.0       0.0  \\\n",
       "32                0.0     1.0                   0.0       0.0   \n",
       "33                0.0     0.0                   0.0       0.0   \n",
       "35                0.0     0.0                   0.0       0.0   \n",
       "40                0.0     1.0                   0.0       0.0   \n",
       "\n",
       "    unidad_cerrada_conjunto  ...  biblioteca  parqueadero_visitantes   \n",
       "25                      0.0  ...         0.0                     0.0  \\\n",
       "32                      0.0  ...         0.0                     0.0   \n",
       "33                      0.0  ...         0.0                     0.0   \n",
       "35                      0.0  ...         0.0                     0.0   \n",
       "40                      0.0  ...         0.0                     0.0   \n",
       "\n",
       "    gimnasio  piscina  salon_social  tipo_cocina_freq  tipo_pisos_freq   \n",
       "25       0.0      0.0           0.0          0.092158         0.062988  \\\n",
       "32       0.0      0.0           0.0          1.000000         0.062988   \n",
       "33       0.0      0.0           0.0          1.000000         0.062988   \n",
       "35       0.0      0.0           0.0          1.000000         0.062988   \n",
       "40       0.0      0.0           0.0          1.000000         1.000000   \n",
       "\n",
       "    cluster    zona     precio  \n",
       "25        0  centro  2100000.0  \n",
       "32        0  centro  1800000.0  \n",
       "33        0  centro  1800000.0  \n",
       "35        0  centro  1800000.0  \n",
       "40        0  centro  1800000.0  \n",
       "\n",
       "[5 rows x 25 columns]"
      ]
     },
     "execution_count": 133,
     "metadata": {},
     "output_type": "execute_result"
    }
   ],
   "source": [
    "data_test = data_zonas[(data_zonas['area_bruta'] >= 0.2) & (data_zonas['area_bruta'] <= 0.3) & (data_zonas['estrato'] == 0.5)]\n",
    "data_test."
   ]
  },
  {
   "cell_type": "code",
   "execution_count": 134,
   "metadata": {},
   "outputs": [
    {
     "name": "stdout",
     "output_type": "stream",
     "text": [
      "MAPE:  0.10174351031428924\n"
     ]
    }
   ],
   "source": [
    "print('MAPE: ', mean_absolute_percentage_error(y_true=data_test['precio'].values, y_pred  = xgb_final.predict(data_test[x_train.columns])))"
   ]
  },
  {
   "cell_type": "code",
   "execution_count": 135,
   "metadata": {},
   "outputs": [
    {
     "data": {
      "text/plain": [
       "25      2100000.0\n",
       "32      1800000.0\n",
       "33      1800000.0\n",
       "35      1800000.0\n",
       "40      1800000.0\n",
       "41      1950000.0\n",
       "52      2000000.0\n",
       "129     2300000.0\n",
       "1663    3000000.0\n",
       "1666    1850000.0\n",
       "1699    2300000.0\n",
       "1706    1990000.0\n",
       "1776    2500000.0\n",
       "1846    2250000.0\n",
       "2279    2000000.0\n",
       "2615    2300000.0\n",
       "2618    2200000.0\n",
       "2633    2500000.0\n",
       "2663    3550000.0\n",
       "2666    3550000.0\n",
       "2702    2500000.0\n",
       "2828    1400000.0\n",
       "Name: precio, dtype: float64"
      ]
     },
     "execution_count": 135,
     "metadata": {},
     "output_type": "execute_result"
    }
   ],
   "source": [
    "data_test['precio']"
   ]
  },
  {
   "cell_type": "code",
   "execution_count": 132,
   "metadata": {},
   "outputs": [
    {
     "data": {
      "text/plain": [
       "array([2075640.9, 1781855.2, 1814516.9, 1814516.9, 1867534.9, 2368415.8,\n",
       "       2290522. , 1621200.6, 1936703.6, 4826112. , 4844866.5, 5228081.5,\n",
       "       5117190.5, 4598484.5, 4600309. , 3568054.5, 4572127. , 5284517.5,\n",
       "       5684859. , 4827291.5, 4860981. , 5500422.5, 4005975.5, 5305056.5,\n",
       "       4315304.5, 4470482.5, 4682888. , 4962214. , 4712099.5, 5623848. ,\n",
       "       4676666. , 4185481. , 5139855. , 4566547. , 4989595. , 5438045.5,\n",
       "       5697715.5, 5769192. , 4873843.5, 4362221.5, 4616922. , 5084799.5,\n",
       "       4695960.5, 4924348. , 5296095.5, 4841990. , 4621385.5, 5018100. ,\n",
       "       4739859.5, 3741544.2, 5381866.5, 4295085. , 4873795.5, 4704695.5,\n",
       "       4696050.5, 5017948.5, 5526385.5, 5061419.5, 4818825.5, 4188768.2,\n",
       "       4984491. , 5691792.5, 4660964.5, 5400976. , 5852466.5, 4484804.5,\n",
       "       4736217. , 4930735.5, 4751329.5, 4787791.5, 5038024.5, 4996763.5,\n",
       "       4733667.5, 3709520. , 5015185.5, 5409594. , 5301206.5, 5186347. ,\n",
       "       4549939. , 5161098.5, 4654986.5, 4689972. , 5423699. , 4862060. ,\n",
       "       4969452.5, 5861425. , 5328186.5, 4941047.5, 4472600. , 4480699. ,\n",
       "       5083837.5, 5340119.5, 5338101.5, 5417894.5, 4707496.5, 4869773.5,\n",
       "       5439135.5, 4668970.5, 4441099. , 5237201.5, 4762411. , 5222160. ,\n",
       "       4708799. , 4976887. , 4703814.5, 5652081.5, 4750629. , 4987371.5,\n",
       "       5394901.5, 4557723. , 5395647.5, 5426788. , 4751142.5, 5603809. ,\n",
       "       5331874.5, 5128883.5, 5336417.5, 5011623. , 5681272. , 5129855.5,\n",
       "       4285126. , 4555770. , 5157136. , 4858544.5, 4784791. , 4487067.5,\n",
       "       5182591.5, 5169985. , 4753269.5, 5091534. , 5669690. , 5171994.5,\n",
       "       5104941. , 5375703.5, 5677521. , 4536366. , 4936435.5, 5482050.5,\n",
       "       5725138. , 4307746.5, 5569970.5, 4718606.5, 5150518.5, 5330785.5,\n",
       "       3971125.8, 5800609.5, 4479613.5, 4689215.5, 4863189.5, 4849159. ,\n",
       "       5075610.5, 5104426.5, 4841784. , 3414575.8, 4234519.5, 4777110. ,\n",
       "       5048227. , 4834712.5, 4926602.5, 5403996. , 4624730. , 5053264. ,\n",
       "       5481381. , 4746240. , 4746240. , 4815016. , 5505996. , 4846496.5,\n",
       "       5052046.5, 5353003.5, 5267082. , 4834206.5, 4292523.5, 4547827.5,\n",
       "       5046729.5, 4310612.5, 4209617. , 4866424.5, 4871770.5, 4936233. ,\n",
       "       4687963. , 4144189.5, 4987212. , 4414344.5, 4343562.5, 4588924. ,\n",
       "       4804853. , 4987088.5, 5375793.5, 5250843.5, 4810620. , 4673612.5,\n",
       "       4858693.5, 4501465. , 4202786.5, 4364639. , 4761374. , 4481163. ,\n",
       "       4955208.5, 4562138.5, 4485639.5, 4466298.5, 4223148.5, 4101921.2,\n",
       "       4224334.5, 4680966. , 4654267.5, 4935814.5, 4884484.5, 4417655. ,\n",
       "       4591809. , 4591809. , 4533524.5, 5148974.5, 4791067. , 4447874.5,\n",
       "       4521793.5, 4986207.5, 4755761. , 4438515. , 4740092.5, 3863326. ,\n",
       "       4550795.5, 4734747. , 4674863.5, 4272707.5, 4748251.5, 4126632.8,\n",
       "       4561382.5, 4568391.5, 4707721.5, 4110843.8, 4436612. , 4182278. ,\n",
       "       4901399.5, 4770266. , 5035170.5, 4572533. , 4612599.5, 3643832.8,\n",
       "       3945928.8, 5139136. , 4219603.5, 4693962.5, 4685679.5, 4586427.5,\n",
       "       4111516.8, 4562190. , 4826088. , 4487386.5, 4252585. , 4510307.5,\n",
       "       4751646.5, 4468146. , 4392818. , 4463349.5, 4632904. , 4372305.5,\n",
       "       4606841. , 4734556. , 4403650. , 4380335. , 4577573. , 4104827.8,\n",
       "       4432048. , 4343159.5, 4063147. , 4678164. , 4757231.5, 4231832.5,\n",
       "       4360003.5, 4257138.5, 4572241. , 4189196.2, 4720113. , 4436082. ,\n",
       "       4550391. , 4040984.5, 4120209. , 4221308.5, 4782167.5, 4223778.5,\n",
       "       4448062.5, 4359298. , 4614922. , 4500089.5, 4330858.5, 4256451. ,\n",
       "       4540250. , 4555529. , 4427546.5, 4383619.5, 4600093. , 4373151.5,\n",
       "       4397739.5, 4375454. , 4652622.5, 4723416.5, 4820714. , 4005038.8,\n",
       "       4476115.5, 4514894. , 4014488. , 4559131. , 4162657.8, 4313694.5,\n",
       "       4663131.5, 4629681. , 4376020. , 4350235.5, 4496338. , 4222727.5,\n",
       "       4397784.5, 4366450. , 4487573. , 4772274.5, 2752261.8, 4423930. ,\n",
       "       4176244.2, 4334986. , 4680676. , 3117365.5, 4513603.5, 2933447.8,\n",
       "       2519077.2, 4517235. , 4334986. , 2058706.5, 2909168.2, 2784176.8,\n",
       "       2678741.5, 4803849.5, 4473279.5, 3906779.5, 4675011. , 2728417. ,\n",
       "       4802429. , 1868916.8, 3053494. , 4119746.2, 3848206.8, 2140343.2,\n",
       "       2974876.5, 1868916.8, 2794797.2, 4408751.5, 4680676. , 2655970. ,\n",
       "       2655970. , 4757154. , 5214318.5, 3469714.5, 2349558.5, 3915768.8,\n",
       "       3627968.8, 2961357.5, 4047938.2, 2614974.2, 4532164.5, 2990857.8,\n",
       "       2905234.5, 4871228.5, 4619659. , 4884087.5, 2131949. , 4660516.5,\n",
       "       3635281.8, 3608340.2, 4730481. , 4107456. , 4884471. , 4322621. ,\n",
       "       4290600.5, 4470969.5, 2996269.2, 1139547.1, 2130137.5, 2529434. ,\n",
       "       4009231.2, 4126803. , 2819703.8, 1948634.9, 4728452. , 5425319.5,\n",
       "       4263271. , 4126803. , 2638152.8, 3122805.5, 4192131.5, 4592370.5,\n",
       "       4737143.5, 4337923. , 2903422.8, 2936975. , 2124053. , 4172708.8,\n",
       "       4639475.5, 3225464.8, 2967347.5, 4252626. , 4136056.5, 3554101.8,\n",
       "       3236411.5, 3076839. , 3154129.5, 2836095.2, 2467807. , 2127871.5,\n",
       "       3127148.2, 2416008.8, 4160070.2, 2530922.5, 2831723.8, 2900133.2,\n",
       "       4541834. , 2796169.8, 2583107.2, 4271541.5, 4548240. , 3001486.2,\n",
       "       2769399.2, 4411832.5, 2565848.2, 2879609. , 3180020. , 3339355.2,\n",
       "       3373302.5, 3563465. , 2662815.8, 2976295.2, 4048517.5, 2160356.2],\n",
       "      dtype=float32)"
      ]
     },
     "execution_count": 132,
     "metadata": {},
     "output_type": "execute_result"
    }
   ],
   "source": [
    "xgb_final.predict(data_test[x_train.columns])"
   ]
  },
  {
   "cell_type": "code",
   "execution_count": null,
   "metadata": {},
   "outputs": [],
   "source": []
  }
 ],
 "metadata": {
  "kernelspec": {
   "display_name": "pyscraping",
   "language": "python",
   "name": "python3"
  },
  "language_info": {
   "codemirror_mode": {
    "name": "ipython",
    "version": 3
   },
   "file_extension": ".py",
   "mimetype": "text/x-python",
   "name": "python",
   "nbconvert_exporter": "python",
   "pygments_lexer": "ipython3",
   "version": "3.10.9"
  },
  "orig_nbformat": 4
 },
 "nbformat": 4,
 "nbformat_minor": 2
}

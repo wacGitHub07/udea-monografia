{
 "cells": [
  {
   "attachments": {},
   "cell_type": "markdown",
   "metadata": {},
   "source": [
    "# Notebook Iteracion final Modelado\n",
    "\n",
    "### Objetivo: Crear el modelo final implementando validación cruzada e importancia de vbariables\n"
   ]
  },
  {
   "cell_type": "code",
   "execution_count": 116,
   "metadata": {},
   "outputs": [],
   "source": [
    "# Funciones generales\n",
    "import sys\n",
    "sys.path.append('../')\n",
    "# A medida que avanzan las iteraciones se crearan mas funcinoes transversales\n",
    "from funciones import *\n",
    "\n",
    "# Tuneo de hiperparámetros\n",
    "from sklearn.model_selection import ParameterGrid\n",
    "\n",
    "# Libreria para manejo de balance de datos\n",
    "import smogn\n",
    "\n",
    "# Clustering\n",
    "from sklearn.cluster import KMeans\n",
    "from sklearn.metrics import silhouette_samples, silhouette_score\n",
    "\n",
    "# Serializacion\n",
    "import pickle\n",
    "\n",
    "# Grid Search Validacion cruzada\n",
    "from sklearn.model_selection import GridSearchCV\n",
    "\n",
    "# xgboost\n",
    "import xgboost as xgb\n",
    "\n",
    "# Métricas de evaluación\n",
    "from sklearn.metrics import r2_score\n",
    "from sklearn.metrics import mean_squared_error\n",
    "from sklearn.metrics import mean_absolute_percentage_error"
   ]
  },
  {
   "attachments": {},
   "cell_type": "markdown",
   "metadata": {},
   "source": [
    "**Lectura de datos**\n",
    "Dada la estabilidad que muestra el resultado de la iteracion 2 sobre las variables predictoras, se utiliza la base resultante de esta"
   ]
  },
  {
   "cell_type": "code",
   "execution_count": 95,
   "metadata": {},
   "outputs": [
    {
     "data": {
      "text/html": [
       "<div>\n",
       "<style scoped>\n",
       "    .dataframe tbody tr th:only-of-type {\n",
       "        vertical-align: middle;\n",
       "    }\n",
       "\n",
       "    .dataframe tbody tr th {\n",
       "        vertical-align: top;\n",
       "    }\n",
       "\n",
       "    .dataframe thead th {\n",
       "        text-align: right;\n",
       "    }\n",
       "</style>\n",
       "<table border=\"1\" class=\"dataframe\">\n",
       "  <thead>\n",
       "    <tr style=\"text-align: right;\">\n",
       "      <th></th>\n",
       "      <th>precio</th>\n",
       "      <th>zona</th>\n",
       "      <th>barrio_sector</th>\n",
       "      <th>baños_familiares</th>\n",
       "      <th>area_bruta</th>\n",
       "      <th>numero_niveles</th>\n",
       "      <th>parqueaderos</th>\n",
       "      <th>alcobas_familiares</th>\n",
       "      <th>estrato</th>\n",
       "      <th>area_total</th>\n",
       "      <th>...</th>\n",
       "      <th>closet_de_linos</th>\n",
       "      <th>biblioteca</th>\n",
       "      <th>parqueadero_visitantes</th>\n",
       "      <th>gimnasio</th>\n",
       "      <th>piscina</th>\n",
       "      <th>salon_social</th>\n",
       "      <th>dispositivos_automatizacion</th>\n",
       "      <th>alarma</th>\n",
       "      <th>tipo_cocina_freq</th>\n",
       "      <th>tipo_pisos_freq</th>\n",
       "    </tr>\n",
       "  </thead>\n",
       "  <tbody>\n",
       "    <tr>\n",
       "      <th>0</th>\n",
       "      <td>1100000.0</td>\n",
       "      <td>centro</td>\n",
       "      <td>castilla</td>\n",
       "      <td>1.0</td>\n",
       "      <td>95.0</td>\n",
       "      <td>1.0</td>\n",
       "      <td>0.0</td>\n",
       "      <td>3.0</td>\n",
       "      <td>0.0</td>\n",
       "      <td>95.0</td>\n",
       "      <td>...</td>\n",
       "      <td>1.0</td>\n",
       "      <td>1.0</td>\n",
       "      <td>0.0</td>\n",
       "      <td>0.0</td>\n",
       "      <td>0.0</td>\n",
       "      <td>0.0</td>\n",
       "      <td>0.0</td>\n",
       "      <td>0.0</td>\n",
       "      <td>0.861534</td>\n",
       "      <td>0.596709</td>\n",
       "    </tr>\n",
       "    <tr>\n",
       "      <th>1</th>\n",
       "      <td>950000.0</td>\n",
       "      <td>centro</td>\n",
       "      <td>el salvador</td>\n",
       "      <td>1.0</td>\n",
       "      <td>70.0</td>\n",
       "      <td>1.0</td>\n",
       "      <td>0.0</td>\n",
       "      <td>2.0</td>\n",
       "      <td>3.0</td>\n",
       "      <td>70.0</td>\n",
       "      <td>...</td>\n",
       "      <td>0.0</td>\n",
       "      <td>0.0</td>\n",
       "      <td>0.0</td>\n",
       "      <td>0.0</td>\n",
       "      <td>0.0</td>\n",
       "      <td>0.0</td>\n",
       "      <td>0.0</td>\n",
       "      <td>0.0</td>\n",
       "      <td>0.081652</td>\n",
       "      <td>0.596709</td>\n",
       "    </tr>\n",
       "    <tr>\n",
       "      <th>2</th>\n",
       "      <td>970000.0</td>\n",
       "      <td>centro</td>\n",
       "      <td>los angeles</td>\n",
       "      <td>1.0</td>\n",
       "      <td>38.0</td>\n",
       "      <td>1.0</td>\n",
       "      <td>0.0</td>\n",
       "      <td>1.0</td>\n",
       "      <td>4.0</td>\n",
       "      <td>38.0</td>\n",
       "      <td>...</td>\n",
       "      <td>1.0</td>\n",
       "      <td>0.0</td>\n",
       "      <td>0.0</td>\n",
       "      <td>0.0</td>\n",
       "      <td>0.0</td>\n",
       "      <td>0.0</td>\n",
       "      <td>0.0</td>\n",
       "      <td>0.0</td>\n",
       "      <td>0.081652</td>\n",
       "      <td>0.596709</td>\n",
       "    </tr>\n",
       "    <tr>\n",
       "      <th>3</th>\n",
       "      <td>1400000.0</td>\n",
       "      <td>centro</td>\n",
       "      <td>prado</td>\n",
       "      <td>1.0</td>\n",
       "      <td>50.0</td>\n",
       "      <td>1.0</td>\n",
       "      <td>1.0</td>\n",
       "      <td>2.0</td>\n",
       "      <td>0.0</td>\n",
       "      <td>50.0</td>\n",
       "      <td>...</td>\n",
       "      <td>1.0</td>\n",
       "      <td>1.0</td>\n",
       "      <td>1.0</td>\n",
       "      <td>0.0</td>\n",
       "      <td>0.0</td>\n",
       "      <td>0.0</td>\n",
       "      <td>0.0</td>\n",
       "      <td>0.0</td>\n",
       "      <td>0.861534</td>\n",
       "      <td>0.596709</td>\n",
       "    </tr>\n",
       "    <tr>\n",
       "      <th>4</th>\n",
       "      <td>800000.0</td>\n",
       "      <td>centro</td>\n",
       "      <td>12 de octubre</td>\n",
       "      <td>1.0</td>\n",
       "      <td>92.0</td>\n",
       "      <td>1.0</td>\n",
       "      <td>0.0</td>\n",
       "      <td>3.0</td>\n",
       "      <td>2.0</td>\n",
       "      <td>92.0</td>\n",
       "      <td>...</td>\n",
       "      <td>0.0</td>\n",
       "      <td>0.0</td>\n",
       "      <td>0.0</td>\n",
       "      <td>0.0</td>\n",
       "      <td>0.0</td>\n",
       "      <td>0.0</td>\n",
       "      <td>0.0</td>\n",
       "      <td>0.0</td>\n",
       "      <td>0.861534</td>\n",
       "      <td>0.596709</td>\n",
       "    </tr>\n",
       "  </tbody>\n",
       "</table>\n",
       "<p>5 rows × 39 columns</p>\n",
       "</div>"
      ],
      "text/plain": [
       "      precio    zona  barrio_sector  baños_familiares  area_bruta   \n",
       "0  1100000.0  centro       castilla               1.0        95.0  \\\n",
       "1   950000.0  centro    el salvador               1.0        70.0   \n",
       "2   970000.0  centro    los angeles               1.0        38.0   \n",
       "3  1400000.0  centro          prado               1.0        50.0   \n",
       "4   800000.0  centro  12 de octubre               1.0        92.0   \n",
       "\n",
       "   numero_niveles  parqueaderos  alcobas_familiares  estrato  area_total  ...   \n",
       "0             1.0           0.0                 3.0      0.0        95.0  ...  \\\n",
       "1             1.0           0.0                 2.0      3.0        70.0  ...   \n",
       "2             1.0           0.0                 1.0      4.0        38.0  ...   \n",
       "3             1.0           1.0                 2.0      0.0        50.0  ...   \n",
       "4             1.0           0.0                 3.0      2.0        92.0  ...   \n",
       "\n",
       "   closet_de_linos  biblioteca  parqueadero_visitantes  gimnasio  piscina   \n",
       "0              1.0         1.0                     0.0       0.0      0.0  \\\n",
       "1              0.0         0.0                     0.0       0.0      0.0   \n",
       "2              1.0         0.0                     0.0       0.0      0.0   \n",
       "3              1.0         1.0                     1.0       0.0      0.0   \n",
       "4              0.0         0.0                     0.0       0.0      0.0   \n",
       "\n",
       "   salon_social  dispositivos_automatizacion  alarma  tipo_cocina_freq   \n",
       "0           0.0                          0.0     0.0          0.861534  \\\n",
       "1           0.0                          0.0     0.0          0.081652   \n",
       "2           0.0                          0.0     0.0          0.081652   \n",
       "3           0.0                          0.0     0.0          0.861534   \n",
       "4           0.0                          0.0     0.0          0.861534   \n",
       "\n",
       "   tipo_pisos_freq  \n",
       "0         0.596709  \n",
       "1         0.596709  \n",
       "2         0.596709  \n",
       "3         0.596709  \n",
       "4         0.596709  \n",
       "\n",
       "[5 rows x 39 columns]"
      ]
     },
     "execution_count": 95,
     "metadata": {},
     "output_type": "execute_result"
    }
   ],
   "source": [
    "import os \n",
    "# get current directory\n",
    "path = os.getcwd()\n",
    "# parent directory\n",
    "path = os.path.abspath('../')\n",
    "data_model = pd.read_csv(path + \"/iteracion_2/datos_iteracion_2.csv\")\n",
    "data_model.head()"
   ]
  },
  {
   "attachments": {},
   "cell_type": "markdown",
   "metadata": {},
   "source": [
    "**Variables predictoras**"
   ]
  },
  {
   "cell_type": "code",
   "execution_count": 96,
   "metadata": {},
   "outputs": [],
   "source": [
    "pred_columns = [\n",
    "    'baños_familiares',\n",
    "    'area_bruta', \n",
    "    'numero_niveles',\n",
    "    'parqueaderos', \n",
    "    'alcobas_familiares', \n",
    "    'estrato', \n",
    "    'area_total',\n",
    "    'juegos_infantiles', \n",
    "    'balcon', \n",
    "    'zona_ropas', \n",
    "    'camaras_cctv',\n",
    "    'cancha_polideportiva', \n",
    "    'ascensor', \n",
    "    'cancha_squash', \n",
    "    'zona_bbq',\n",
    "    'patio', \n",
    "    'unidad_cerrada_conjunto', \n",
    "    'zonas_verdes',\n",
    "    'aire_acondicionado', \n",
    "    'jacuzzi', \n",
    "    'red_de_Gas', \n",
    "    'turco', \n",
    "    'porteria_24_7',\n",
    "    'sauna', \n",
    "    'calentador_de_agua', \n",
    "    'terraza', \n",
    "    'closet_de_linos',\n",
    "    'biblioteca', \n",
    "    'parqueadero_visitantes', \n",
    "    'gimnasio', \n",
    "    'piscina',\n",
    "    'salon_social', \n",
    "    'dispositivos_automatizacion', \n",
    "    'alarma',\n",
    "    'tipo_cocina_freq', \n",
    "    'tipo_pisos_freq'\n",
    "]"
   ]
  },
  {
   "attachments": {},
   "cell_type": "markdown",
   "metadata": {},
   "source": [
    "**Variables predictoras**\n",
    "\n",
    "En la iteración 2 el analisis de distribución y correlaciones dió como resultado la eliminación de las variables:\n",
    "\n",
    "- columns_disc_corr\n",
    "- numero_niveles\n",
    "- zona_ropas\n",
    "- camaras_cctv\n",
    "- cancha_polideportiva\n",
    "- cancha_squash\n",
    "- zona_bbq\n",
    "- patio\n",
    "- aire_acondicionado\n",
    "- jacuzzi\n",
    "- red_de_Gas\n",
    "- terraza\n",
    "- dispositivos_automatizacion\n",
    "- alarma\n",
    "- area_total\n",
    "- porteria_24_7\n",
    "\n",
    "Se reutiliza estas variables, sin embargo por criterio del negocio se conservan las siguientes variables dejando su eliminación para un posterior analisis de importancia de variables:\n",
    "\n",
    "- cancha_polideportiva\n"
   ]
  },
  {
   "cell_type": "code",
   "execution_count": 97,
   "metadata": {},
   "outputs": [],
   "source": [
    "columns_disc_corr = [\n",
    "    \"numero_niveles\",\n",
    "    \"zona_ropas\",\n",
    "    \"camaras_cctv\",\n",
    "    \"cancha_squash\",\n",
    "    \"zona_bbq\",\n",
    "    \"patio\",\n",
    "    \"aire_acondicionado\",\n",
    "    \"jacuzzi\",\n",
    "    \"red_de_Gas\",\n",
    "    \"terraza\",\n",
    "    \"dispositivos_automatizacion\",\n",
    "    \"alarma\",\n",
    "    \"area_total\",\n",
    "    \"porteria_24_7\"\n",
    "]"
   ]
  },
  {
   "attachments": {},
   "cell_type": "markdown",
   "metadata": {},
   "source": [
    "**Estandarización**"
   ]
  },
  {
   "cell_type": "code",
   "execution_count": 98,
   "metadata": {},
   "outputs": [],
   "source": [
    "X = data_model[pred_columns]\n",
    "Y = data_model['precio']"
   ]
  },
  {
   "cell_type": "code",
   "execution_count": 99,
   "metadata": {},
   "outputs": [],
   "source": [
    "X_est = estandarizar(X)"
   ]
  },
  {
   "attachments": {},
   "cell_type": "markdown",
   "metadata": {},
   "source": [
    "**Clustering**\n",
    "\n",
    "Se procede con la ejecucion del algoritmo de kmeans entre las variables __precio__ y __area_bruta__, esta última por ser la mas relevante en la ejecución del modelo línea base y el análisis de correlaciones"
   ]
  },
  {
   "cell_type": "code",
   "execution_count": 100,
   "metadata": {},
   "outputs": [],
   "source": [
    "X_est['precio'] = Y.values"
   ]
  },
  {
   "cell_type": "code",
   "execution_count": 101,
   "metadata": {},
   "outputs": [
    {
     "name": "stdout",
     "output_type": "stream",
     "text": [
      "silhouette_score k = 2 : 0.5965131713561477\n",
      "silhouette_score k = 3 : 0.6348158925476787\n",
      "silhouette_score k = 4 : 0.6058642604255898\n",
      "silhouette_score k = 5 : 0.5952737314776967\n"
     ]
    }
   ],
   "source": [
    "x_cluster = X_est[['precio', 'area_bruta']].values\n",
    "for k in [2,3,4,5]:\n",
    "    kmeans = KMeans(n_clusters=k, random_state=0, n_init=\"auto\")\n",
    "    kmeans_labels = kmeans.fit_predict(x_cluster)\n",
    "    sample_silhouette_values = silhouette_samples(x_cluster, kmeans_labels)\n",
    "    print(\"silhouette_score k = {} : {}\".format(k , sample_silhouette_values.mean()))"
   ]
  },
  {
   "attachments": {},
   "cell_type": "markdown",
   "metadata": {},
   "source": [
    "Segun el cálculo del coeficiente de siluetas se obtiene un mejor resultado para 3 clusters, se selecciona este valor para hacer la división de los datos"
   ]
  },
  {
   "attachments": {},
   "cell_type": "markdown",
   "metadata": {},
   "source": [
    "Entrenamiento y calculo de las etiquetas de los clusters"
   ]
  },
  {
   "cell_type": "code",
   "execution_count": 102,
   "metadata": {},
   "outputs": [],
   "source": [
    "kmeans = KMeans(n_clusters=3, random_state=0, n_init=\"auto\")\n",
    "kmeans_labels = kmeans.fit_predict(x_cluster)"
   ]
  },
  {
   "attachments": {},
   "cell_type": "markdown",
   "metadata": {},
   "source": [
    "Se añade la etiqueta cluster como nueva variable de la base de entrenamiento"
   ]
  },
  {
   "cell_type": "code",
   "execution_count": 103,
   "metadata": {},
   "outputs": [],
   "source": [
    "X_est['cluster'] = kmeans_labels"
   ]
  },
  {
   "attachments": {},
   "cell_type": "markdown",
   "metadata": {},
   "source": [
    "Los rangos de precios de cada cluster son:"
   ]
  },
  {
   "cell_type": "code",
   "execution_count": 104,
   "metadata": {},
   "outputs": [
    {
     "name": "stdout",
     "output_type": "stream",
     "text": [
      "Cluster 0:  500000.0 2700000.0\n",
      "Cluster 1:  2750000.0 5500000.0\n",
      "Cluster 2:  5600000.0 9500000.0\n"
     ]
    }
   ],
   "source": [
    "print(\"Cluster 0: \", X_est[X_est['cluster']==0]['precio'].min(), X_est[X_est['cluster']==0]['precio'].max())\n",
    "print(\"Cluster 1: \", X_est[X_est['cluster']==1]['precio'].min(), X_est[X_est['cluster']==1]['precio'].max())\n",
    "print(\"Cluster 2: \", X_est[X_est['cluster']==2]['precio'].min(), X_est[X_est['cluster']==2]['precio'].max())"
   ]
  },
  {
   "attachments": {},
   "cell_type": "markdown",
   "metadata": {},
   "source": [
    "Serialización del modelo clustering"
   ]
  },
  {
   "cell_type": "code",
   "execution_count": 105,
   "metadata": {},
   "outputs": [],
   "source": [
    "with open('kmeans_arriendos.pkl', 'wb') as pickle_file:\n",
    "    pickle.dump(kmeans, pickle_file) "
   ]
  },
  {
   "attachments": {},
   "cell_type": "markdown",
   "metadata": {},
   "source": [
    "**Modelo**\n",
    "\n",
    "La variacion de los hiperparámetros seleccionada corresponde al resultado de multiples ejecuciones observando los resultados obtenidos en los archivos csv que determinaron el aumento, disminución o eliminación de hiperparámetros"
   ]
  },
  {
   "attachments": {},
   "cell_type": "markdown",
   "metadata": {},
   "source": [
    "Se eliminan las variables de la base de modelado dado los anteriores análisis"
   ]
  },
  {
   "cell_type": "code",
   "execution_count": 106,
   "metadata": {},
   "outputs": [
    {
     "name": "stdout",
     "output_type": "stream",
     "text": [
      "Numero de muestras: 2892, Número de columnas: 23\n"
     ]
    }
   ],
   "source": [
    "x_model = X_est.drop(columns = columns_disc_corr)\n",
    "x_model = x_model.drop(columns='precio')\n",
    "y_model = X_est['precio']\n",
    "imprimir_dimensiones(x_model)"
   ]
  },
  {
   "attachments": {},
   "cell_type": "markdown",
   "metadata": {},
   "source": [
    "**Dvisión de los datos:** Entrenamiento 80%, Test 20%"
   ]
  },
  {
   "cell_type": "code",
   "execution_count": 107,
   "metadata": {},
   "outputs": [
    {
     "name": "stdout",
     "output_type": "stream",
     "text": [
      "Tamaño de los Datos de Entrenamiento =  (2313, 23)\n",
      "Tamaño de los Datos de Validación =  (579, 23)\n",
      "Tamaño del Vector de Clases de Entrenamiento =  (2313,)\n",
      "Tamaño del Vector de Clases de Prueba =  (579,)\n"
     ]
    }
   ],
   "source": [
    "x_train, x_test, y_train, y_test = train_test_split(x_model, y_model, test_size = 0.20, train_size = 0.80, random_state = 17)\n",
    "print(\"Tamaño de los Datos de Entrenamiento = \", x_train.shape)\n",
    "print(\"Tamaño de los Datos de Validación = \", x_test.shape)\n",
    "print(\"Tamaño del Vector de Clases de Entrenamiento = \", y_train.shape)\n",
    "print(\"Tamaño del Vector de Clases de Prueba = \", y_test.shape)"
   ]
  },
  {
   "attachments": {},
   "cell_type": "markdown",
   "metadata": {},
   "source": [
    "**XGBOOST**"
   ]
  },
  {
   "cell_type": "code",
   "execution_count": 109,
   "metadata": {},
   "outputs": [],
   "source": [
    "for column in x_train.columns:\n",
    "    if column not in ['area_bruta', 'tipo_cocina_fre', 'tipo_pisos_freq']:\n",
    "        x_train[column] = x_train[column].astype('float') \n",
    "\n",
    "for column in x_test.columns:\n",
    "    if column not in ['area_bruta', 'tipo_cocina_fre', 'tipo_pisos_freq']:\n",
    "        x_test[column] = x_test[column].astype('float') "
   ]
  },
  {
   "cell_type": "code",
   "execution_count": 110,
   "metadata": {},
   "outputs": [
    {
     "data": {
      "text/html": [
       "<style>#sk-container-id-9 {color: black;background-color: white;}#sk-container-id-9 pre{padding: 0;}#sk-container-id-9 div.sk-toggleable {background-color: white;}#sk-container-id-9 label.sk-toggleable__label {cursor: pointer;display: block;width: 100%;margin-bottom: 0;padding: 0.3em;box-sizing: border-box;text-align: center;}#sk-container-id-9 label.sk-toggleable__label-arrow:before {content: \"▸\";float: left;margin-right: 0.25em;color: #696969;}#sk-container-id-9 label.sk-toggleable__label-arrow:hover:before {color: black;}#sk-container-id-9 div.sk-estimator:hover label.sk-toggleable__label-arrow:before {color: black;}#sk-container-id-9 div.sk-toggleable__content {max-height: 0;max-width: 0;overflow: hidden;text-align: left;background-color: #f0f8ff;}#sk-container-id-9 div.sk-toggleable__content pre {margin: 0.2em;color: black;border-radius: 0.25em;background-color: #f0f8ff;}#sk-container-id-9 input.sk-toggleable__control:checked~div.sk-toggleable__content {max-height: 200px;max-width: 100%;overflow: auto;}#sk-container-id-9 input.sk-toggleable__control:checked~label.sk-toggleable__label-arrow:before {content: \"▾\";}#sk-container-id-9 div.sk-estimator input.sk-toggleable__control:checked~label.sk-toggleable__label {background-color: #d4ebff;}#sk-container-id-9 div.sk-label input.sk-toggleable__control:checked~label.sk-toggleable__label {background-color: #d4ebff;}#sk-container-id-9 input.sk-hidden--visually {border: 0;clip: rect(1px 1px 1px 1px);clip: rect(1px, 1px, 1px, 1px);height: 1px;margin: -1px;overflow: hidden;padding: 0;position: absolute;width: 1px;}#sk-container-id-9 div.sk-estimator {font-family: monospace;background-color: #f0f8ff;border: 1px dotted black;border-radius: 0.25em;box-sizing: border-box;margin-bottom: 0.5em;}#sk-container-id-9 div.sk-estimator:hover {background-color: #d4ebff;}#sk-container-id-9 div.sk-parallel-item::after {content: \"\";width: 100%;border-bottom: 1px solid gray;flex-grow: 1;}#sk-container-id-9 div.sk-label:hover label.sk-toggleable__label {background-color: #d4ebff;}#sk-container-id-9 div.sk-serial::before {content: \"\";position: absolute;border-left: 1px solid gray;box-sizing: border-box;top: 0;bottom: 0;left: 50%;z-index: 0;}#sk-container-id-9 div.sk-serial {display: flex;flex-direction: column;align-items: center;background-color: white;padding-right: 0.2em;padding-left: 0.2em;position: relative;}#sk-container-id-9 div.sk-item {position: relative;z-index: 1;}#sk-container-id-9 div.sk-parallel {display: flex;align-items: stretch;justify-content: center;background-color: white;position: relative;}#sk-container-id-9 div.sk-item::before, #sk-container-id-9 div.sk-parallel-item::before {content: \"\";position: absolute;border-left: 1px solid gray;box-sizing: border-box;top: 0;bottom: 0;left: 50%;z-index: -1;}#sk-container-id-9 div.sk-parallel-item {display: flex;flex-direction: column;z-index: 1;position: relative;background-color: white;}#sk-container-id-9 div.sk-parallel-item:first-child::after {align-self: flex-end;width: 50%;}#sk-container-id-9 div.sk-parallel-item:last-child::after {align-self: flex-start;width: 50%;}#sk-container-id-9 div.sk-parallel-item:only-child::after {width: 0;}#sk-container-id-9 div.sk-dashed-wrapped {border: 1px dashed gray;margin: 0 0.4em 0.5em 0.4em;box-sizing: border-box;padding-bottom: 0.4em;background-color: white;}#sk-container-id-9 div.sk-label label {font-family: monospace;font-weight: bold;display: inline-block;line-height: 1.2em;}#sk-container-id-9 div.sk-label-container {text-align: center;}#sk-container-id-9 div.sk-container {/* jupyter's `normalize.less` sets `[hidden] { display: none; }` but bootstrap.min.css set `[hidden] { display: none !important; }` so we also need the `!important` here to be able to override the default hidden behavior on the sphinx rendered scikit-learn.org. See: https://github.com/scikit-learn/scikit-learn/issues/21755 */display: inline-block !important;position: relative;}#sk-container-id-9 div.sk-text-repr-fallback {display: none;}</style><div id=\"sk-container-id-9\" class=\"sk-top-container\"><div class=\"sk-text-repr-fallback\"><pre>GridSearchCV(cv=5,\n",
       "             estimator=XGBRegressor(base_score=None, booster=None,\n",
       "                                    callbacks=None, colsample_bylevel=None,\n",
       "                                    colsample_bynode=None,\n",
       "                                    colsample_bytree=None,\n",
       "                                    early_stopping_rounds=None,\n",
       "                                    enable_categorical=False, eval_metric=None,\n",
       "                                    feature_types=None, gamma=None, gpu_id=None,\n",
       "                                    grow_policy=None, importance_type=None,\n",
       "                                    interaction_constraints=None,\n",
       "                                    learning_rate=None, m...\n",
       "                                    min_child_weight=None, missing=nan,\n",
       "                                    monotone_constraints=None, n_estimators=100,\n",
       "                                    n_jobs=None, num_parallel_tree=None,\n",
       "                                    predictor=None, random_state=123, ...),\n",
       "             n_jobs=-1,\n",
       "             param_grid={&#x27;eta&#x27;: [0.01, 0.05], &#x27;learning_rate&#x27;: [0.03, 0.05],\n",
       "                         &#x27;max_depth&#x27;: [5, 7], &#x27;n_estimators&#x27;: [80, 100],\n",
       "                         &#x27;objective&#x27;: [&#x27;reg:squarederror&#x27;],\n",
       "                         &#x27;subsample&#x27;: [0.5, 0.8]},\n",
       "             return_train_score=True, scoring=&#x27;r2&#x27;)</pre><b>In a Jupyter environment, please rerun this cell to show the HTML representation or trust the notebook. <br />On GitHub, the HTML representation is unable to render, please try loading this page with nbviewer.org.</b></div><div class=\"sk-container\" hidden><div class=\"sk-item sk-dashed-wrapped\"><div class=\"sk-label-container\"><div class=\"sk-label sk-toggleable\"><input class=\"sk-toggleable__control sk-hidden--visually\" id=\"sk-estimator-id-19\" type=\"checkbox\" ><label for=\"sk-estimator-id-19\" class=\"sk-toggleable__label sk-toggleable__label-arrow\">GridSearchCV</label><div class=\"sk-toggleable__content\"><pre>GridSearchCV(cv=5,\n",
       "             estimator=XGBRegressor(base_score=None, booster=None,\n",
       "                                    callbacks=None, colsample_bylevel=None,\n",
       "                                    colsample_bynode=None,\n",
       "                                    colsample_bytree=None,\n",
       "                                    early_stopping_rounds=None,\n",
       "                                    enable_categorical=False, eval_metric=None,\n",
       "                                    feature_types=None, gamma=None, gpu_id=None,\n",
       "                                    grow_policy=None, importance_type=None,\n",
       "                                    interaction_constraints=None,\n",
       "                                    learning_rate=None, m...\n",
       "                                    min_child_weight=None, missing=nan,\n",
       "                                    monotone_constraints=None, n_estimators=100,\n",
       "                                    n_jobs=None, num_parallel_tree=None,\n",
       "                                    predictor=None, random_state=123, ...),\n",
       "             n_jobs=-1,\n",
       "             param_grid={&#x27;eta&#x27;: [0.01, 0.05], &#x27;learning_rate&#x27;: [0.03, 0.05],\n",
       "                         &#x27;max_depth&#x27;: [5, 7], &#x27;n_estimators&#x27;: [80, 100],\n",
       "                         &#x27;objective&#x27;: [&#x27;reg:squarederror&#x27;],\n",
       "                         &#x27;subsample&#x27;: [0.5, 0.8]},\n",
       "             return_train_score=True, scoring=&#x27;r2&#x27;)</pre></div></div></div><div class=\"sk-parallel\"><div class=\"sk-parallel-item\"><div class=\"sk-item\"><div class=\"sk-label-container\"><div class=\"sk-label sk-toggleable\"><input class=\"sk-toggleable__control sk-hidden--visually\" id=\"sk-estimator-id-20\" type=\"checkbox\" ><label for=\"sk-estimator-id-20\" class=\"sk-toggleable__label sk-toggleable__label-arrow\">estimator: XGBRegressor</label><div class=\"sk-toggleable__content\"><pre>XGBRegressor(base_score=None, booster=None, callbacks=None,\n",
       "             colsample_bylevel=None, colsample_bynode=None,\n",
       "             colsample_bytree=None, early_stopping_rounds=None,\n",
       "             enable_categorical=False, eval_metric=None, feature_types=None,\n",
       "             gamma=None, gpu_id=None, grow_policy=None, importance_type=None,\n",
       "             interaction_constraints=None, learning_rate=None, max_bin=None,\n",
       "             max_cat_threshold=None, max_cat_to_onehot=None,\n",
       "             max_delta_step=None, max_depth=None, max_leaves=None,\n",
       "             min_child_weight=None, missing=nan, monotone_constraints=None,\n",
       "             n_estimators=100, n_jobs=None, num_parallel_tree=None,\n",
       "             predictor=None, random_state=123, ...)</pre></div></div></div><div class=\"sk-serial\"><div class=\"sk-item\"><div class=\"sk-estimator sk-toggleable\"><input class=\"sk-toggleable__control sk-hidden--visually\" id=\"sk-estimator-id-21\" type=\"checkbox\" ><label for=\"sk-estimator-id-21\" class=\"sk-toggleable__label sk-toggleable__label-arrow\">XGBRegressor</label><div class=\"sk-toggleable__content\"><pre>XGBRegressor(base_score=None, booster=None, callbacks=None,\n",
       "             colsample_bylevel=None, colsample_bynode=None,\n",
       "             colsample_bytree=None, early_stopping_rounds=None,\n",
       "             enable_categorical=False, eval_metric=None, feature_types=None,\n",
       "             gamma=None, gpu_id=None, grow_policy=None, importance_type=None,\n",
       "             interaction_constraints=None, learning_rate=None, max_bin=None,\n",
       "             max_cat_threshold=None, max_cat_to_onehot=None,\n",
       "             max_delta_step=None, max_depth=None, max_leaves=None,\n",
       "             min_child_weight=None, missing=nan, monotone_constraints=None,\n",
       "             n_estimators=100, n_jobs=None, num_parallel_tree=None,\n",
       "             predictor=None, random_state=123, ...)</pre></div></div></div></div></div></div></div></div></div></div>"
      ],
      "text/plain": [
       "GridSearchCV(cv=5,\n",
       "             estimator=XGBRegressor(base_score=None, booster=None,\n",
       "                                    callbacks=None, colsample_bylevel=None,\n",
       "                                    colsample_bynode=None,\n",
       "                                    colsample_bytree=None,\n",
       "                                    early_stopping_rounds=None,\n",
       "                                    enable_categorical=False, eval_metric=None,\n",
       "                                    feature_types=None, gamma=None, gpu_id=None,\n",
       "                                    grow_policy=None, importance_type=None,\n",
       "                                    interaction_constraints=None,\n",
       "                                    learning_rate=None, m...\n",
       "                                    min_child_weight=None, missing=nan,\n",
       "                                    monotone_constraints=None, n_estimators=100,\n",
       "                                    n_jobs=None, num_parallel_tree=None,\n",
       "                                    predictor=None, random_state=123, ...),\n",
       "             n_jobs=-1,\n",
       "             param_grid={'eta': [0.01, 0.05], 'learning_rate': [0.03, 0.05],\n",
       "                         'max_depth': [5, 7], 'n_estimators': [80, 100],\n",
       "                         'objective': ['reg:squarederror'],\n",
       "                         'subsample': [0.5, 0.8]},\n",
       "             return_train_score=True, scoring='r2')"
      ]
     },
     "execution_count": 110,
     "metadata": {},
     "output_type": "execute_result"
    }
   ],
   "source": [
    "param_grid_xgb = {\n",
    "    'n_estimators' : [80, 100],\n",
    "    'max_depth' : [5, 7],\n",
    "    'learning_rate' : [.03,.05],\n",
    "    'objective' : ['reg:squarederror'],\n",
    "    'subsample' : [0.5,0.8],\n",
    "    'eta' : [.01,.05],\n",
    "}\n",
    "\n",
    "grid = GridSearchCV(\n",
    "        estimator  = xgb.XGBRegressor(random_state=123),\n",
    "        param_grid = param_grid_xgb,\n",
    "        scoring    = 'r2',\n",
    "        n_jobs     = - 1,\n",
    "        cv         = 5, \n",
    "        refit      = True,\n",
    "        verbose    = 0,\n",
    "        return_train_score = True\n",
    "       )\n",
    "\n",
    "grid.fit(X=x_train, y= y_train)"
   ]
  },
  {
   "cell_type": "code",
   "execution_count": 111,
   "metadata": {},
   "outputs": [
    {
     "data": {
      "text/html": [
       "<div>\n",
       "<style scoped>\n",
       "    .dataframe tbody tr th:only-of-type {\n",
       "        vertical-align: middle;\n",
       "    }\n",
       "\n",
       "    .dataframe tbody tr th {\n",
       "        vertical-align: top;\n",
       "    }\n",
       "\n",
       "    .dataframe thead th {\n",
       "        text-align: right;\n",
       "    }\n",
       "</style>\n",
       "<table border=\"1\" class=\"dataframe\">\n",
       "  <thead>\n",
       "    <tr style=\"text-align: right;\">\n",
       "      <th></th>\n",
       "      <th>param_eta</th>\n",
       "      <th>param_learning_rate</th>\n",
       "      <th>param_max_depth</th>\n",
       "      <th>param_n_estimators</th>\n",
       "      <th>param_objective</th>\n",
       "      <th>param_subsample</th>\n",
       "      <th>mean_test_score</th>\n",
       "      <th>std_test_score</th>\n",
       "      <th>mean_train_score</th>\n",
       "      <th>std_train_score</th>\n",
       "    </tr>\n",
       "  </thead>\n",
       "  <tbody>\n",
       "    <tr>\n",
       "      <th>27</th>\n",
       "      <td>0.05</td>\n",
       "      <td>0.05</td>\n",
       "      <td>5</td>\n",
       "      <td>100</td>\n",
       "      <td>reg:squarederror</td>\n",
       "      <td>0.8</td>\n",
       "      <td>0.921881</td>\n",
       "      <td>0.002719</td>\n",
       "      <td>0.954271</td>\n",
       "      <td>0.000375</td>\n",
       "    </tr>\n",
       "    <tr>\n",
       "      <th>11</th>\n",
       "      <td>0.01</td>\n",
       "      <td>0.05</td>\n",
       "      <td>5</td>\n",
       "      <td>100</td>\n",
       "      <td>reg:squarederror</td>\n",
       "      <td>0.8</td>\n",
       "      <td>0.921881</td>\n",
       "      <td>0.002719</td>\n",
       "      <td>0.954271</td>\n",
       "      <td>0.000375</td>\n",
       "    </tr>\n",
       "    <tr>\n",
       "      <th>10</th>\n",
       "      <td>0.01</td>\n",
       "      <td>0.05</td>\n",
       "      <td>5</td>\n",
       "      <td>100</td>\n",
       "      <td>reg:squarederror</td>\n",
       "      <td>0.5</td>\n",
       "      <td>0.921777</td>\n",
       "      <td>0.002787</td>\n",
       "      <td>0.952386</td>\n",
       "      <td>0.000712</td>\n",
       "    </tr>\n",
       "    <tr>\n",
       "      <th>26</th>\n",
       "      <td>0.05</td>\n",
       "      <td>0.05</td>\n",
       "      <td>5</td>\n",
       "      <td>100</td>\n",
       "      <td>reg:squarederror</td>\n",
       "      <td>0.5</td>\n",
       "      <td>0.921777</td>\n",
       "      <td>0.002787</td>\n",
       "      <td>0.952386</td>\n",
       "      <td>0.000712</td>\n",
       "    </tr>\n",
       "  </tbody>\n",
       "</table>\n",
       "</div>"
      ],
      "text/plain": [
       "   param_eta param_learning_rate param_max_depth param_n_estimators   \n",
       "27      0.05                0.05               5                100  \\\n",
       "11      0.01                0.05               5                100   \n",
       "10      0.01                0.05               5                100   \n",
       "26      0.05                0.05               5                100   \n",
       "\n",
       "     param_objective param_subsample  mean_test_score  std_test_score   \n",
       "27  reg:squarederror             0.8         0.921881        0.002719  \\\n",
       "11  reg:squarederror             0.8         0.921881        0.002719   \n",
       "10  reg:squarederror             0.5         0.921777        0.002787   \n",
       "26  reg:squarederror             0.5         0.921777        0.002787   \n",
       "\n",
       "    mean_train_score  std_train_score  \n",
       "27          0.954271         0.000375  \n",
       "11          0.954271         0.000375  \n",
       "10          0.952386         0.000712  \n",
       "26          0.952386         0.000712  "
      ]
     },
     "execution_count": 111,
     "metadata": {},
     "output_type": "execute_result"
    }
   ],
   "source": [
    "resultados_cv = pd.DataFrame(grid.cv_results_)\n",
    "resultados_cv.filter(regex = '(param*|mean_t|std_t)') \\\n",
    "    .drop(columns = 'params') \\\n",
    "    .sort_values('mean_test_score', ascending = False) \\\n",
    "    .head(4)"
   ]
  },
  {
   "cell_type": "code",
   "execution_count": 112,
   "metadata": {},
   "outputs": [
    {
     "data": {
      "text/plain": [
       "{'eta': 0.01,\n",
       " 'learning_rate': 0.05,\n",
       " 'max_depth': 5,\n",
       " 'n_estimators': 100,\n",
       " 'objective': 'reg:squarederror',\n",
       " 'subsample': 0.8}"
      ]
     },
     "execution_count": 112,
     "metadata": {},
     "output_type": "execute_result"
    }
   ],
   "source": [
    "grid.best_params_"
   ]
  },
  {
   "cell_type": "code",
   "execution_count": 113,
   "metadata": {},
   "outputs": [],
   "source": [
    "xgb_final = grid.best_estimator_"
   ]
  },
  {
   "cell_type": "code",
   "execution_count": 114,
   "metadata": {},
   "outputs": [
    {
     "data": {
      "text/html": [
       "<div>\n",
       "<style scoped>\n",
       "    .dataframe tbody tr th:only-of-type {\n",
       "        vertical-align: middle;\n",
       "    }\n",
       "\n",
       "    .dataframe tbody tr th {\n",
       "        vertical-align: top;\n",
       "    }\n",
       "\n",
       "    .dataframe thead th {\n",
       "        text-align: right;\n",
       "    }\n",
       "</style>\n",
       "<table border=\"1\" class=\"dataframe\">\n",
       "  <thead>\n",
       "    <tr style=\"text-align: right;\">\n",
       "      <th></th>\n",
       "      <th>R2_train</th>\n",
       "      <th>R2_test</th>\n",
       "      <th>RMSE_train</th>\n",
       "      <th>RMSE_test</th>\n",
       "      <th>MAPE_train</th>\n",
       "      <th>MAPE_test</th>\n",
       "    </tr>\n",
       "  </thead>\n",
       "  <tbody>\n",
       "    <tr>\n",
       "      <th>0</th>\n",
       "      <td>0.951452</td>\n",
       "      <td>0.918886</td>\n",
       "      <td>453708.401942</td>\n",
       "      <td>599601.273484</td>\n",
       "      <td>0.121318</td>\n",
       "      <td>0.14595</td>\n",
       "    </tr>\n",
       "  </tbody>\n",
       "</table>\n",
       "</div>"
      ],
      "text/plain": [
       "   R2_train   R2_test     RMSE_train      RMSE_test  MAPE_train  MAPE_test\n",
       "0  0.951452  0.918886  453708.401942  599601.273484    0.121318    0.14595"
      ]
     },
     "execution_count": 114,
     "metadata": {},
     "output_type": "execute_result"
    }
   ],
   "source": [
    "resultados = {'R2_train': [],\n",
    "               'R2_test': [],\n",
    "               'RMSE_train': [],\n",
    "               'RMSE_test': [],\n",
    "               'MAPE_train': [],\n",
    "               'MAPE_test': [],}\n",
    "resultados['R2_train'].append(r2_score(y_true=y_train, y_pred=xgb_final.predict(x_train)))\n",
    "resultados['R2_test'].append(r2_score(y_true=y_test, y_pred=xgb_final.predict(x_test)))\n",
    "resultados['RMSE_train'].append(mean_squared_error(y_true=y_train, y_pred=xgb_final.predict(x_train), squared=False))\n",
    "resultados['RMSE_test'].append(mean_squared_error(y_true=y_test, y_pred=xgb_final.predict(x_test), squared=False))\n",
    "resultados['MAPE_train'].append(mean_absolute_percentage_error(y_true=y_train, y_pred  = xgb_final.predict(x_train)))\n",
    "resultados['MAPE_test'].append(mean_absolute_percentage_error(y_true=y_test, y_pred  = xgb_final.predict(x_test)))\n",
    "pd.DataFrame(resultados)"
   ]
  },
  {
   "cell_type": "code",
   "execution_count": 115,
   "metadata": {},
   "outputs": [
    {
     "data": {
      "image/png": "[encoded data removed]",
      "text/plain": [
       "<Figure size 640x480 with 1 Axes>"
      ]
     },
     "metadata": {},
     "output_type": "display_data"
    },
    {
     "data": {
      "text/plain": [
       "<Figure size 1600x1600 with 0 Axes>"
      ]
     },
     "metadata": {},
     "output_type": "display_data"
    }
   ],
   "source": [
    "xgb.plot_importance(xgb_final)\n",
    "plt.figure(figsize = (16, 16))\n",
    "plt.show()"
   ]
  }
 ],
 "metadata": {
  "kernelspec": {
   "display_name": "pyscraping",
   "language": "python",
   "name": "python3"
  },
  "language_info": {
   "codemirror_mode": {
    "name": "ipython",
    "version": 3
   },
   "file_extension": ".py",
   "mimetype": "text/x-python",
   "name": "python",
   "nbconvert_exporter": "python",
   "pygments_lexer": "ipython3",
   "version": "3.10.9"
  },
  "orig_nbformat": 4
 },
 "nbformat": 4,
 "nbformat_minor": 2
}

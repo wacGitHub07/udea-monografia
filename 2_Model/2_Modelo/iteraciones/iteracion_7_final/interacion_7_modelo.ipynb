{
 "cells": [
  {
   "attachments": {},
   "cell_type": "markdown",
   "metadata": {},
   "source": [
    "# Notebook Iteracion final Modelado\n",
    "\n",
    "### Objetivo: Crear el modelo final implementando validación cruzada, importancia de vabariables y análisis por zonas\n"
   ]
  },
  {
   "attachments": {},
   "cell_type": "markdown",
   "metadata": {},
   "source": [
    "Nota: En esta iteración se usan algunas librerías adicionales a las programadas en funciones.py, como estas no se reutilizarán en ejecuciones posteriores se dejan como locales para este notebook"
   ]
  },
  {
   "cell_type": "code",
   "execution_count": 1,
   "metadata": {},
   "outputs": [],
   "source": [
    "# Funciones generales\n",
    "import sys\n",
    "sys.path.append('../')\n",
    "# A medida que avanzan las iteraciones se crearan mas funcinoes transversales\n",
    "from funciones import *\n",
    "\n",
    "# Tuneo de hiperparámetros\n",
    "from sklearn.model_selection import ParameterGrid\n",
    "\n",
    "# Libreria para manejo de balance de datos\n",
    "import smogn\n",
    "\n",
    "# Clustering\n",
    "from sklearn.cluster import KMeans\n",
    "from sklearn.metrics import silhouette_samples, silhouette_score\n",
    "\n",
    "# Serializacion\n",
    "import pickle\n",
    "\n",
    "# Grid Search Validacion cruzada\n",
    "from sklearn.model_selection import GridSearchCV\n",
    "\n",
    "# xgboost\n",
    "import xgboost as xgb\n",
    "\n",
    "# Métricas de evaluación\n",
    "from sklearn.metrics import r2_score\n",
    "from sklearn.metrics import mean_squared_error\n",
    "from sklearn.metrics import mean_absolute_percentage_error"
   ]
  },
  {
   "attachments": {},
   "cell_type": "markdown",
   "metadata": {},
   "source": [
    "**Lectura de datos**\n",
    "\n",
    "Datos resultantes de la iteración 2"
   ]
  },
  {
   "cell_type": "code",
   "execution_count": 2,
   "metadata": {},
   "outputs": [
    {
     "data": {
      "text/html": [
       "<div>\n",
       "<style scoped>\n",
       "    .dataframe tbody tr th:only-of-type {\n",
       "        vertical-align: middle;\n",
       "    }\n",
       "\n",
       "    .dataframe tbody tr th {\n",
       "        vertical-align: top;\n",
       "    }\n",
       "\n",
       "    .dataframe thead th {\n",
       "        text-align: right;\n",
       "    }\n",
       "</style>\n",
       "<table border=\"1\" class=\"dataframe\">\n",
       "  <thead>\n",
       "    <tr style=\"text-align: right;\">\n",
       "      <th></th>\n",
       "      <th>precio</th>\n",
       "      <th>zona</th>\n",
       "      <th>barrio_sector</th>\n",
       "      <th>baños_familiares</th>\n",
       "      <th>area_bruta</th>\n",
       "      <th>numero_niveles</th>\n",
       "      <th>parqueaderos</th>\n",
       "      <th>alcobas_familiares</th>\n",
       "      <th>estrato</th>\n",
       "      <th>area_total</th>\n",
       "      <th>...</th>\n",
       "      <th>closet_de_linos</th>\n",
       "      <th>biblioteca</th>\n",
       "      <th>parqueadero_visitantes</th>\n",
       "      <th>gimnasio</th>\n",
       "      <th>piscina</th>\n",
       "      <th>salon_social</th>\n",
       "      <th>dispositivos_automatizacion</th>\n",
       "      <th>alarma</th>\n",
       "      <th>tipo_cocina_freq</th>\n",
       "      <th>tipo_pisos_freq</th>\n",
       "    </tr>\n",
       "  </thead>\n",
       "  <tbody>\n",
       "    <tr>\n",
       "      <th>0</th>\n",
       "      <td>1100000.0</td>\n",
       "      <td>centro</td>\n",
       "      <td>castilla</td>\n",
       "      <td>1.0</td>\n",
       "      <td>95.0</td>\n",
       "      <td>1.0</td>\n",
       "      <td>0.0</td>\n",
       "      <td>3.0</td>\n",
       "      <td>0.0</td>\n",
       "      <td>95.0</td>\n",
       "      <td>...</td>\n",
       "      <td>1.0</td>\n",
       "      <td>1.0</td>\n",
       "      <td>0.0</td>\n",
       "      <td>0.0</td>\n",
       "      <td>0.0</td>\n",
       "      <td>0.0</td>\n",
       "      <td>0.0</td>\n",
       "      <td>0.0</td>\n",
       "      <td>0.861534</td>\n",
       "      <td>0.596709</td>\n",
       "    </tr>\n",
       "    <tr>\n",
       "      <th>1</th>\n",
       "      <td>950000.0</td>\n",
       "      <td>centro</td>\n",
       "      <td>el salvador</td>\n",
       "      <td>1.0</td>\n",
       "      <td>70.0</td>\n",
       "      <td>1.0</td>\n",
       "      <td>0.0</td>\n",
       "      <td>2.0</td>\n",
       "      <td>3.0</td>\n",
       "      <td>70.0</td>\n",
       "      <td>...</td>\n",
       "      <td>0.0</td>\n",
       "      <td>0.0</td>\n",
       "      <td>0.0</td>\n",
       "      <td>0.0</td>\n",
       "      <td>0.0</td>\n",
       "      <td>0.0</td>\n",
       "      <td>0.0</td>\n",
       "      <td>0.0</td>\n",
       "      <td>0.081652</td>\n",
       "      <td>0.596709</td>\n",
       "    </tr>\n",
       "    <tr>\n",
       "      <th>2</th>\n",
       "      <td>970000.0</td>\n",
       "      <td>centro</td>\n",
       "      <td>los angeles</td>\n",
       "      <td>1.0</td>\n",
       "      <td>38.0</td>\n",
       "      <td>1.0</td>\n",
       "      <td>0.0</td>\n",
       "      <td>1.0</td>\n",
       "      <td>4.0</td>\n",
       "      <td>38.0</td>\n",
       "      <td>...</td>\n",
       "      <td>1.0</td>\n",
       "      <td>0.0</td>\n",
       "      <td>0.0</td>\n",
       "      <td>0.0</td>\n",
       "      <td>0.0</td>\n",
       "      <td>0.0</td>\n",
       "      <td>0.0</td>\n",
       "      <td>0.0</td>\n",
       "      <td>0.081652</td>\n",
       "      <td>0.596709</td>\n",
       "    </tr>\n",
       "    <tr>\n",
       "      <th>3</th>\n",
       "      <td>1400000.0</td>\n",
       "      <td>centro</td>\n",
       "      <td>prado</td>\n",
       "      <td>1.0</td>\n",
       "      <td>50.0</td>\n",
       "      <td>1.0</td>\n",
       "      <td>1.0</td>\n",
       "      <td>2.0</td>\n",
       "      <td>0.0</td>\n",
       "      <td>50.0</td>\n",
       "      <td>...</td>\n",
       "      <td>1.0</td>\n",
       "      <td>1.0</td>\n",
       "      <td>1.0</td>\n",
       "      <td>0.0</td>\n",
       "      <td>0.0</td>\n",
       "      <td>0.0</td>\n",
       "      <td>0.0</td>\n",
       "      <td>0.0</td>\n",
       "      <td>0.861534</td>\n",
       "      <td>0.596709</td>\n",
       "    </tr>\n",
       "    <tr>\n",
       "      <th>4</th>\n",
       "      <td>800000.0</td>\n",
       "      <td>centro</td>\n",
       "      <td>12 de octubre</td>\n",
       "      <td>1.0</td>\n",
       "      <td>92.0</td>\n",
       "      <td>1.0</td>\n",
       "      <td>0.0</td>\n",
       "      <td>3.0</td>\n",
       "      <td>2.0</td>\n",
       "      <td>92.0</td>\n",
       "      <td>...</td>\n",
       "      <td>0.0</td>\n",
       "      <td>0.0</td>\n",
       "      <td>0.0</td>\n",
       "      <td>0.0</td>\n",
       "      <td>0.0</td>\n",
       "      <td>0.0</td>\n",
       "      <td>0.0</td>\n",
       "      <td>0.0</td>\n",
       "      <td>0.861534</td>\n",
       "      <td>0.596709</td>\n",
       "    </tr>\n",
       "  </tbody>\n",
       "</table>\n",
       "<p>5 rows × 39 columns</p>\n",
       "</div>"
      ],
      "text/plain": [
       "      precio    zona  barrio_sector  baños_familiares  area_bruta   \n",
       "0  1100000.0  centro       castilla               1.0        95.0  \\\n",
       "1   950000.0  centro    el salvador               1.0        70.0   \n",
       "2   970000.0  centro    los angeles               1.0        38.0   \n",
       "3  1400000.0  centro          prado               1.0        50.0   \n",
       "4   800000.0  centro  12 de octubre               1.0        92.0   \n",
       "\n",
       "   numero_niveles  parqueaderos  alcobas_familiares  estrato  area_total  ...   \n",
       "0             1.0           0.0                 3.0      0.0        95.0  ...  \\\n",
       "1             1.0           0.0                 2.0      3.0        70.0  ...   \n",
       "2             1.0           0.0                 1.0      4.0        38.0  ...   \n",
       "3             1.0           1.0                 2.0      0.0        50.0  ...   \n",
       "4             1.0           0.0                 3.0      2.0        92.0  ...   \n",
       "\n",
       "   closet_de_linos  biblioteca  parqueadero_visitantes  gimnasio  piscina   \n",
       "0              1.0         1.0                     0.0       0.0      0.0  \\\n",
       "1              0.0         0.0                     0.0       0.0      0.0   \n",
       "2              1.0         0.0                     0.0       0.0      0.0   \n",
       "3              1.0         1.0                     1.0       0.0      0.0   \n",
       "4              0.0         0.0                     0.0       0.0      0.0   \n",
       "\n",
       "   salon_social  dispositivos_automatizacion  alarma  tipo_cocina_freq   \n",
       "0           0.0                          0.0     0.0          0.861534  \\\n",
       "1           0.0                          0.0     0.0          0.081652   \n",
       "2           0.0                          0.0     0.0          0.081652   \n",
       "3           0.0                          0.0     0.0          0.861534   \n",
       "4           0.0                          0.0     0.0          0.861534   \n",
       "\n",
       "   tipo_pisos_freq  \n",
       "0         0.596709  \n",
       "1         0.596709  \n",
       "2         0.596709  \n",
       "3         0.596709  \n",
       "4         0.596709  \n",
       "\n",
       "[5 rows x 39 columns]"
      ]
     },
     "execution_count": 2,
     "metadata": {},
     "output_type": "execute_result"
    }
   ],
   "source": [
    "import os \n",
    "# get current directory\n",
    "path = os.getcwd()\n",
    "# parent directory\n",
    "path = os.path.abspath('../')\n",
    "data_model = pd.read_csv(path + \"/iteracion_2/datos_iteracion_2.csv\")\n",
    "data_model.head()"
   ]
  },
  {
   "attachments": {},
   "cell_type": "markdown",
   "metadata": {},
   "source": [
    "**Variables predictoras**"
   ]
  },
  {
   "cell_type": "code",
   "execution_count": 3,
   "metadata": {},
   "outputs": [],
   "source": [
    "pred_columns = [\n",
    "    'baños_familiares',\n",
    "    'area_bruta', \n",
    "    'numero_niveles',\n",
    "    'parqueaderos', \n",
    "    'alcobas_familiares', \n",
    "    'estrato', \n",
    "    'area_total',\n",
    "    'juegos_infantiles', \n",
    "    'balcon', \n",
    "    'zona_ropas', \n",
    "    'camaras_cctv',\n",
    "    'cancha_polideportiva', \n",
    "    'ascensor', \n",
    "    'cancha_squash', \n",
    "    'zona_bbq',\n",
    "    'patio', \n",
    "    'unidad_cerrada_conjunto', \n",
    "    'zonas_verdes',\n",
    "    'aire_acondicionado', \n",
    "    'jacuzzi', \n",
    "    'red_de_Gas', \n",
    "    'turco', \n",
    "    'porteria_24_7',\n",
    "    'sauna', \n",
    "    'calentador_de_agua', \n",
    "    'terraza', \n",
    "    'closet_de_linos',\n",
    "    'biblioteca', \n",
    "    'parqueadero_visitantes', \n",
    "    'gimnasio', \n",
    "    'piscina',\n",
    "    'salon_social', \n",
    "    'dispositivos_automatizacion', \n",
    "    'alarma',\n",
    "    'tipo_cocina_freq', \n",
    "    'tipo_pisos_freq'\n",
    "]"
   ]
  },
  {
   "attachments": {},
   "cell_type": "markdown",
   "metadata": {},
   "source": [
    "**Variables predictoras**\n",
    "\n",
    "En la iteración 2 el analisis de distribución y correlaciones dió como resultado la eliminación de las variables:\n",
    "\n",
    "- columns_disc_corr\n",
    "- numero_niveles\n",
    "- zona_ropas\n",
    "- camaras_cctv\n",
    "- cancha_polideportiva\n",
    "- cancha_squash\n",
    "- zona_bbq\n",
    "- patio\n",
    "- aire_acondicionado\n",
    "- jacuzzi\n",
    "- red_de_Gas\n",
    "- terraza\n",
    "- dispositivos_automatizacion\n",
    "- alarma\n",
    "- area_total\n",
    "- porteria_24_7\n",
    "\n",
    "Se reutiliza estas variables, sin embargo por criterio del negocio se conservan las siguientes variables dejando su eliminación para un posterior analisis de importancia de variables:\n",
    "\n",
    "- cancha_polideportiva\n"
   ]
  },
  {
   "cell_type": "code",
   "execution_count": 4,
   "metadata": {},
   "outputs": [],
   "source": [
    "columns_disc_corr = [\n",
    "    \"numero_niveles\",\n",
    "    \"zona_ropas\",\n",
    "    \"camaras_cctv\",\n",
    "    \"cancha_squash\",\n",
    "    \"zona_bbq\",\n",
    "    \"patio\",\n",
    "    \"aire_acondicionado\",\n",
    "    \"jacuzzi\",\n",
    "    \"red_de_Gas\",\n",
    "    \"terraza\",\n",
    "    \"dispositivos_automatizacion\",\n",
    "    \"alarma\",\n",
    "    \"area_total\",\n",
    "    \"porteria_24_7\"\n",
    "]"
   ]
  },
  {
   "attachments": {},
   "cell_type": "markdown",
   "metadata": {},
   "source": [
    "**Estandarización**"
   ]
  },
  {
   "cell_type": "code",
   "execution_count": 5,
   "metadata": {},
   "outputs": [],
   "source": [
    "X = data_model[pred_columns]\n",
    "Y = data_model['precio']"
   ]
  },
  {
   "cell_type": "code",
   "execution_count": 6,
   "metadata": {},
   "outputs": [],
   "source": [
    "X_est = estandarizar(X)"
   ]
  },
  {
   "attachments": {},
   "cell_type": "markdown",
   "metadata": {},
   "source": [
    "**Clustering**\n",
    "\n",
    "Se procede con la ejecucion del algoritmo de kmeans entre las variables __precio__ y __area_bruta__, esta última por ser la mas relevante en la ejecución del modelo línea base y el análisis de correlaciones"
   ]
  },
  {
   "cell_type": "code",
   "execution_count": 7,
   "metadata": {},
   "outputs": [],
   "source": [
    "X_est['precio'] = Y.values"
   ]
  },
  {
   "cell_type": "code",
   "execution_count": 8,
   "metadata": {},
   "outputs": [
    {
     "name": "stdout",
     "output_type": "stream",
     "text": [
      "silhouette_score k = 2 : 0.5584902744604046\n",
      "silhouette_score k = 3 : 0.6143361136796931\n",
      "silhouette_score k = 4 : 0.5603650463061598\n",
      "silhouette_score k = 5 : 0.5731226948655109\n"
     ]
    }
   ],
   "source": [
    "x_cluster = X_est[['estrato', 'area_bruta']].values\n",
    "for k in [2,3,4,5]:\n",
    "    kmeans = KMeans(n_clusters=k, random_state=0, n_init=\"auto\")\n",
    "    kmeans_labels = kmeans.fit_predict(x_cluster)\n",
    "    sample_silhouette_values = silhouette_samples(x_cluster, kmeans_labels)\n",
    "    print(\"silhouette_score k = {} : {}\".format(k , sample_silhouette_values.mean()))"
   ]
  },
  {
   "attachments": {},
   "cell_type": "markdown",
   "metadata": {},
   "source": [
    "Segun el cálculo del coeficiente de siluetas se obtiene un mejor resultado para 3 clusters, se selecciona este valor para hacer la división de los datos"
   ]
  },
  {
   "attachments": {},
   "cell_type": "markdown",
   "metadata": {},
   "source": [
    "Entrenamiento y calculo de las etiquetas de los clusters"
   ]
  },
  {
   "cell_type": "code",
   "execution_count": 9,
   "metadata": {},
   "outputs": [],
   "source": [
    "kmeans = KMeans(n_clusters=3, random_state=0, n_init=\"auto\")\n",
    "kmeans_labels = kmeans.fit_predict(x_cluster)"
   ]
  },
  {
   "attachments": {},
   "cell_type": "markdown",
   "metadata": {},
   "source": [
    "Se añade la etiqueta cluster como nueva variable de la base de entrenamiento"
   ]
  },
  {
   "cell_type": "code",
   "execution_count": 10,
   "metadata": {},
   "outputs": [],
   "source": [
    "X_est['cluster'] = kmeans_labels"
   ]
  },
  {
   "attachments": {},
   "cell_type": "markdown",
   "metadata": {},
   "source": [
    "Serialización del modelo clustering"
   ]
  },
  {
   "cell_type": "code",
   "execution_count": 11,
   "metadata": {},
   "outputs": [],
   "source": [
    "with open('kmeans_arriendos.pkl', 'wb') as pickle_file:\n",
    "    pickle.dump(kmeans, pickle_file) "
   ]
  },
  {
   "attachments": {},
   "cell_type": "markdown",
   "metadata": {},
   "source": [
    "**Modelo**\n",
    "\n",
    "Se ejecuta un proceso de entrenamiento incluyendo el método de validación cruzada para obtener el modelo final"
   ]
  },
  {
   "attachments": {},
   "cell_type": "markdown",
   "metadata": {},
   "source": [
    "Se eliminan las variables de la base de modelado dado los anteriores análisis"
   ]
  },
  {
   "cell_type": "code",
   "execution_count": 12,
   "metadata": {},
   "outputs": [],
   "source": [
    "X_cluster_0 = X_est[X_est['cluster'] == 0]\n",
    "# X_cluster_1 = X_est[X_est['cluster'].isin([1])]\n",
    "# X_cluster_1 = X_cluster_1[(X_cluster_1['precio'] >= 3800000) & (X_cluster_1['precio'] <= 6900000) ]\n",
    "# X_cluster_2 = X_est[X_est['cluster'].isin([2])]\n",
    "# X_cluster_2 = X_cluster_2[(X_cluster_2['precio'] >= 2000000) & (X_cluster_2['precio'] <= 6900000)]\n",
    "# X_concat = pd.concat([X_cluster_0, X_cluster_1, X_cluster_2])"
   ]
  },
  {
   "cell_type": "code",
   "execution_count": 13,
   "metadata": {},
   "outputs": [
    {
     "data": {
      "image/png": "[encoded data removed]",
      "text/plain": [
       "<Figure size 1200x400 with 1 Axes>"
      ]
     },
     "metadata": {},
     "output_type": "display_data"
    }
   ],
   "source": [
    "graficar_distribucion_histograma( X_cluster_0, 'precio', 'Distribución de precios')"
   ]
  },
  {
   "cell_type": "code",
   "execution_count": 14,
   "metadata": {},
   "outputs": [
    {
     "name": "stdout",
     "output_type": "stream",
     "text": [
      "Numero de muestras: 1217, Número de columnas: 22\n"
     ]
    }
   ],
   "source": [
    "x_model = X_cluster_0.drop(columns = columns_disc_corr)\n",
    "x_model = x_model.drop(columns= ['precio', 'cluster'])\n",
    "y_model = X_cluster_0['precio']\n",
    "imprimir_dimensiones(x_model)"
   ]
  },
  {
   "attachments": {},
   "cell_type": "markdown",
   "metadata": {},
   "source": [
    "**Dvisión de los datos:** Entrenamiento 75%, Test 25%"
   ]
  },
  {
   "cell_type": "code",
   "execution_count": 37,
   "metadata": {},
   "outputs": [
    {
     "name": "stdout",
     "output_type": "stream",
     "text": [
      "Tamaño de los Datos de Entrenamiento =  (912, 22)\n",
      "Tamaño de los Datos de Validación =  (305, 22)\n",
      "Tamaño del Vector de Clases de Entrenamiento =  (912,)\n",
      "Tamaño del Vector de Clases de Prueba =  (305,)\n"
     ]
    }
   ],
   "source": [
    "x_train, x_test, y_train, y_test = train_test_split(x_model, y_model, test_size = 0.25, train_size = 0.75, random_state = 17)\n",
    "print(\"Tamaño de los Datos de Entrenamiento = \", x_train.shape)\n",
    "print(\"Tamaño de los Datos de Validación = \", x_test.shape)\n",
    "print(\"Tamaño del Vector de Clases de Entrenamiento = \", y_train.shape)\n",
    "print(\"Tamaño del Vector de Clases de Prueba = \", y_test.shape)"
   ]
  },
  {
   "attachments": {},
   "cell_type": "markdown",
   "metadata": {},
   "source": [
    "**XGBOOST cv**"
   ]
  },
  {
   "attachments": {},
   "cell_type": "markdown",
   "metadata": {},
   "source": [
    "Entrenamiento del modelo por medio de validación cruzada"
   ]
  },
  {
   "cell_type": "code",
   "execution_count": 38,
   "metadata": {},
   "outputs": [
    {
     "data": {
      "text/html": [
       "<style>#sk-container-id-4 {color: black;background-color: white;}#sk-container-id-4 pre{padding: 0;}#sk-container-id-4 div.sk-toggleable {background-color: white;}#sk-container-id-4 label.sk-toggleable__label {cursor: pointer;display: block;width: 100%;margin-bottom: 0;padding: 0.3em;box-sizing: border-box;text-align: center;}#sk-container-id-4 label.sk-toggleable__label-arrow:before {content: \"▸\";float: left;margin-right: 0.25em;color: #696969;}#sk-container-id-4 label.sk-toggleable__label-arrow:hover:before {color: black;}#sk-container-id-4 div.sk-estimator:hover label.sk-toggleable__label-arrow:before {color: black;}#sk-container-id-4 div.sk-toggleable__content {max-height: 0;max-width: 0;overflow: hidden;text-align: left;background-color: #f0f8ff;}#sk-container-id-4 div.sk-toggleable__content pre {margin: 0.2em;color: black;border-radius: 0.25em;background-color: #f0f8ff;}#sk-container-id-4 input.sk-toggleable__control:checked~div.sk-toggleable__content {max-height: 200px;max-width: 100%;overflow: auto;}#sk-container-id-4 input.sk-toggleable__control:checked~label.sk-toggleable__label-arrow:before {content: \"▾\";}#sk-container-id-4 div.sk-estimator input.sk-toggleable__control:checked~label.sk-toggleable__label {background-color: #d4ebff;}#sk-container-id-4 div.sk-label input.sk-toggleable__control:checked~label.sk-toggleable__label {background-color: #d4ebff;}#sk-container-id-4 input.sk-hidden--visually {border: 0;clip: rect(1px 1px 1px 1px);clip: rect(1px, 1px, 1px, 1px);height: 1px;margin: -1px;overflow: hidden;padding: 0;position: absolute;width: 1px;}#sk-container-id-4 div.sk-estimator {font-family: monospace;background-color: #f0f8ff;border: 1px dotted black;border-radius: 0.25em;box-sizing: border-box;margin-bottom: 0.5em;}#sk-container-id-4 div.sk-estimator:hover {background-color: #d4ebff;}#sk-container-id-4 div.sk-parallel-item::after {content: \"\";width: 100%;border-bottom: 1px solid gray;flex-grow: 1;}#sk-container-id-4 div.sk-label:hover label.sk-toggleable__label {background-color: #d4ebff;}#sk-container-id-4 div.sk-serial::before {content: \"\";position: absolute;border-left: 1px solid gray;box-sizing: border-box;top: 0;bottom: 0;left: 50%;z-index: 0;}#sk-container-id-4 div.sk-serial {display: flex;flex-direction: column;align-items: center;background-color: white;padding-right: 0.2em;padding-left: 0.2em;position: relative;}#sk-container-id-4 div.sk-item {position: relative;z-index: 1;}#sk-container-id-4 div.sk-parallel {display: flex;align-items: stretch;justify-content: center;background-color: white;position: relative;}#sk-container-id-4 div.sk-item::before, #sk-container-id-4 div.sk-parallel-item::before {content: \"\";position: absolute;border-left: 1px solid gray;box-sizing: border-box;top: 0;bottom: 0;left: 50%;z-index: -1;}#sk-container-id-4 div.sk-parallel-item {display: flex;flex-direction: column;z-index: 1;position: relative;background-color: white;}#sk-container-id-4 div.sk-parallel-item:first-child::after {align-self: flex-end;width: 50%;}#sk-container-id-4 div.sk-parallel-item:last-child::after {align-self: flex-start;width: 50%;}#sk-container-id-4 div.sk-parallel-item:only-child::after {width: 0;}#sk-container-id-4 div.sk-dashed-wrapped {border: 1px dashed gray;margin: 0 0.4em 0.5em 0.4em;box-sizing: border-box;padding-bottom: 0.4em;background-color: white;}#sk-container-id-4 div.sk-label label {font-family: monospace;font-weight: bold;display: inline-block;line-height: 1.2em;}#sk-container-id-4 div.sk-label-container {text-align: center;}#sk-container-id-4 div.sk-container {/* jupyter's `normalize.less` sets `[hidden] { display: none; }` but bootstrap.min.css set `[hidden] { display: none !important; }` so we also need the `!important` here to be able to override the default hidden behavior on the sphinx rendered scikit-learn.org. See: https://github.com/scikit-learn/scikit-learn/issues/21755 */display: inline-block !important;position: relative;}#sk-container-id-4 div.sk-text-repr-fallback {display: none;}</style><div id=\"sk-container-id-4\" class=\"sk-top-container\"><div class=\"sk-text-repr-fallback\"><pre>GridSearchCV(cv=5,\n",
       "             estimator=XGBRegressor(base_score=None, booster=None,\n",
       "                                    callbacks=None, colsample_bylevel=None,\n",
       "                                    colsample_bynode=None,\n",
       "                                    colsample_bytree=None,\n",
       "                                    early_stopping_rounds=None,\n",
       "                                    enable_categorical=False, eval_metric=None,\n",
       "                                    feature_types=None, gamma=None, gpu_id=None,\n",
       "                                    grow_policy=None, importance_type=None,\n",
       "                                    interaction_constraints=None,\n",
       "                                    learning_rate=None, m...\n",
       "                                    min_child_weight=None, missing=nan,\n",
       "                                    monotone_constraints=None, n_estimators=100,\n",
       "                                    n_jobs=None, num_parallel_tree=None,\n",
       "                                    predictor=None, random_state=123, ...),\n",
       "             n_jobs=-1,\n",
       "             param_grid={&#x27;eta&#x27;: [0.01, 0.05, 0.07], &#x27;learning_rate&#x27;: [0.03],\n",
       "                         &#x27;max_depth&#x27;: [9, 10, 11], &#x27;n_estimators&#x27;: [100, 120],\n",
       "                         &#x27;objective&#x27;: [&#x27;reg:squarederror&#x27;],\n",
       "                         &#x27;subsample&#x27;: [0.2, 0.2]},\n",
       "             return_train_score=True, scoring=&#x27;r2&#x27;)</pre><b>In a Jupyter environment, please rerun this cell to show the HTML representation or trust the notebook. <br />On GitHub, the HTML representation is unable to render, please try loading this page with nbviewer.org.</b></div><div class=\"sk-container\" hidden><div class=\"sk-item sk-dashed-wrapped\"><div class=\"sk-label-container\"><div class=\"sk-label sk-toggleable\"><input class=\"sk-toggleable__control sk-hidden--visually\" id=\"sk-estimator-id-10\" type=\"checkbox\" ><label for=\"sk-estimator-id-10\" class=\"sk-toggleable__label sk-toggleable__label-arrow\">GridSearchCV</label><div class=\"sk-toggleable__content\"><pre>GridSearchCV(cv=5,\n",
       "             estimator=XGBRegressor(base_score=None, booster=None,\n",
       "                                    callbacks=None, colsample_bylevel=None,\n",
       "                                    colsample_bynode=None,\n",
       "                                    colsample_bytree=None,\n",
       "                                    early_stopping_rounds=None,\n",
       "                                    enable_categorical=False, eval_metric=None,\n",
       "                                    feature_types=None, gamma=None, gpu_id=None,\n",
       "                                    grow_policy=None, importance_type=None,\n",
       "                                    interaction_constraints=None,\n",
       "                                    learning_rate=None, m...\n",
       "                                    min_child_weight=None, missing=nan,\n",
       "                                    monotone_constraints=None, n_estimators=100,\n",
       "                                    n_jobs=None, num_parallel_tree=None,\n",
       "                                    predictor=None, random_state=123, ...),\n",
       "             n_jobs=-1,\n",
       "             param_grid={&#x27;eta&#x27;: [0.01, 0.05, 0.07], &#x27;learning_rate&#x27;: [0.03],\n",
       "                         &#x27;max_depth&#x27;: [9, 10, 11], &#x27;n_estimators&#x27;: [100, 120],\n",
       "                         &#x27;objective&#x27;: [&#x27;reg:squarederror&#x27;],\n",
       "                         &#x27;subsample&#x27;: [0.2, 0.2]},\n",
       "             return_train_score=True, scoring=&#x27;r2&#x27;)</pre></div></div></div><div class=\"sk-parallel\"><div class=\"sk-parallel-item\"><div class=\"sk-item\"><div class=\"sk-label-container\"><div class=\"sk-label sk-toggleable\"><input class=\"sk-toggleable__control sk-hidden--visually\" id=\"sk-estimator-id-11\" type=\"checkbox\" ><label for=\"sk-estimator-id-11\" class=\"sk-toggleable__label sk-toggleable__label-arrow\">estimator: XGBRegressor</label><div class=\"sk-toggleable__content\"><pre>XGBRegressor(base_score=None, booster=None, callbacks=None,\n",
       "             colsample_bylevel=None, colsample_bynode=None,\n",
       "             colsample_bytree=None, early_stopping_rounds=None,\n",
       "             enable_categorical=False, eval_metric=None, feature_types=None,\n",
       "             gamma=None, gpu_id=None, grow_policy=None, importance_type=None,\n",
       "             interaction_constraints=None, learning_rate=None, max_bin=None,\n",
       "             max_cat_threshold=None, max_cat_to_onehot=None,\n",
       "             max_delta_step=None, max_depth=None, max_leaves=None,\n",
       "             min_child_weight=None, missing=nan, monotone_constraints=None,\n",
       "             n_estimators=100, n_jobs=None, num_parallel_tree=None,\n",
       "             predictor=None, random_state=123, ...)</pre></div></div></div><div class=\"sk-serial\"><div class=\"sk-item\"><div class=\"sk-estimator sk-toggleable\"><input class=\"sk-toggleable__control sk-hidden--visually\" id=\"sk-estimator-id-12\" type=\"checkbox\" ><label for=\"sk-estimator-id-12\" class=\"sk-toggleable__label sk-toggleable__label-arrow\">XGBRegressor</label><div class=\"sk-toggleable__content\"><pre>XGBRegressor(base_score=None, booster=None, callbacks=None,\n",
       "             colsample_bylevel=None, colsample_bynode=None,\n",
       "             colsample_bytree=None, early_stopping_rounds=None,\n",
       "             enable_categorical=False, eval_metric=None, feature_types=None,\n",
       "             gamma=None, gpu_id=None, grow_policy=None, importance_type=None,\n",
       "             interaction_constraints=None, learning_rate=None, max_bin=None,\n",
       "             max_cat_threshold=None, max_cat_to_onehot=None,\n",
       "             max_delta_step=None, max_depth=None, max_leaves=None,\n",
       "             min_child_weight=None, missing=nan, monotone_constraints=None,\n",
       "             n_estimators=100, n_jobs=None, num_parallel_tree=None,\n",
       "             predictor=None, random_state=123, ...)</pre></div></div></div></div></div></div></div></div></div></div>"
      ],
      "text/plain": [
       "GridSearchCV(cv=5,\n",
       "             estimator=XGBRegressor(base_score=None, booster=None,\n",
       "                                    callbacks=None, colsample_bylevel=None,\n",
       "                                    colsample_bynode=None,\n",
       "                                    colsample_bytree=None,\n",
       "                                    early_stopping_rounds=None,\n",
       "                                    enable_categorical=False, eval_metric=None,\n",
       "                                    feature_types=None, gamma=None, gpu_id=None,\n",
       "                                    grow_policy=None, importance_type=None,\n",
       "                                    interaction_constraints=None,\n",
       "                                    learning_rate=None, m...\n",
       "                                    min_child_weight=None, missing=nan,\n",
       "                                    monotone_constraints=None, n_estimators=100,\n",
       "                                    n_jobs=None, num_parallel_tree=None,\n",
       "                                    predictor=None, random_state=123, ...),\n",
       "             n_jobs=-1,\n",
       "             param_grid={'eta': [0.01, 0.05, 0.07], 'learning_rate': [0.03],\n",
       "                         'max_depth': [9, 10, 11], 'n_estimators': [100, 120],\n",
       "                         'objective': ['reg:squarederror'],\n",
       "                         'subsample': [0.2, 0.2]},\n",
       "             return_train_score=True, scoring='r2')"
      ]
     },
     "execution_count": 38,
     "metadata": {},
     "output_type": "execute_result"
    }
   ],
   "source": [
    "param_grid_xgb = {\n",
    "    'n_estimators' : [100, 120],\n",
    "    'max_depth' : [9, 10, 11],\n",
    "    'learning_rate' : [.03],\n",
    "    'objective' : ['reg:squarederror'],\n",
    "    'subsample' : [0.2, 0.2],\n",
    "    'eta' : [.01,.05, .07],\n",
    "}\n",
    "\n",
    "grid = GridSearchCV(\n",
    "        estimator  = xgb.XGBRegressor(random_state=123),\n",
    "        param_grid = param_grid_xgb,\n",
    "        scoring    = 'r2',\n",
    "        n_jobs     = - 1,\n",
    "        cv         = 5, \n",
    "        refit      = True,\n",
    "        verbose    = 0,\n",
    "        return_train_score = True\n",
    "       )\n",
    "\n",
    "grid.fit(X=x_train, y= y_train)"
   ]
  },
  {
   "attachments": {},
   "cell_type": "markdown",
   "metadata": {},
   "source": [
    "Obtencion de los resultados de las diferentes combinaciones de hiperparámetros"
   ]
  },
  {
   "cell_type": "code",
   "execution_count": 39,
   "metadata": {},
   "outputs": [
    {
     "data": {
      "text/html": [
       "<div>\n",
       "<style scoped>\n",
       "    .dataframe tbody tr th:only-of-type {\n",
       "        vertical-align: middle;\n",
       "    }\n",
       "\n",
       "    .dataframe tbody tr th {\n",
       "        vertical-align: top;\n",
       "    }\n",
       "\n",
       "    .dataframe thead th {\n",
       "        text-align: right;\n",
       "    }\n",
       "</style>\n",
       "<table border=\"1\" class=\"dataframe\">\n",
       "  <thead>\n",
       "    <tr style=\"text-align: right;\">\n",
       "      <th></th>\n",
       "      <th>param_eta</th>\n",
       "      <th>param_learning_rate</th>\n",
       "      <th>param_max_depth</th>\n",
       "      <th>param_n_estimators</th>\n",
       "      <th>param_objective</th>\n",
       "      <th>param_subsample</th>\n",
       "      <th>mean_test_score</th>\n",
       "      <th>std_test_score</th>\n",
       "      <th>mean_train_score</th>\n",
       "      <th>std_train_score</th>\n",
       "    </tr>\n",
       "  </thead>\n",
       "  <tbody>\n",
       "    <tr>\n",
       "      <th>15</th>\n",
       "      <td>0.05</td>\n",
       "      <td>0.03</td>\n",
       "      <td>9</td>\n",
       "      <td>120</td>\n",
       "      <td>reg:squarederror</td>\n",
       "      <td>0.2</td>\n",
       "      <td>0.606173</td>\n",
       "      <td>0.031884</td>\n",
       "      <td>0.785987</td>\n",
       "      <td>0.006268</td>\n",
       "    </tr>\n",
       "    <tr>\n",
       "      <th>2</th>\n",
       "      <td>0.01</td>\n",
       "      <td>0.03</td>\n",
       "      <td>9</td>\n",
       "      <td>120</td>\n",
       "      <td>reg:squarederror</td>\n",
       "      <td>0.2</td>\n",
       "      <td>0.606173</td>\n",
       "      <td>0.031884</td>\n",
       "      <td>0.785987</td>\n",
       "      <td>0.006268</td>\n",
       "    </tr>\n",
       "    <tr>\n",
       "      <th>3</th>\n",
       "      <td>0.01</td>\n",
       "      <td>0.03</td>\n",
       "      <td>9</td>\n",
       "      <td>120</td>\n",
       "      <td>reg:squarederror</td>\n",
       "      <td>0.2</td>\n",
       "      <td>0.606173</td>\n",
       "      <td>0.031884</td>\n",
       "      <td>0.785987</td>\n",
       "      <td>0.006268</td>\n",
       "    </tr>\n",
       "    <tr>\n",
       "      <th>27</th>\n",
       "      <td>0.07</td>\n",
       "      <td>0.03</td>\n",
       "      <td>9</td>\n",
       "      <td>120</td>\n",
       "      <td>reg:squarederror</td>\n",
       "      <td>0.2</td>\n",
       "      <td>0.606173</td>\n",
       "      <td>0.031884</td>\n",
       "      <td>0.785987</td>\n",
       "      <td>0.006268</td>\n",
       "    </tr>\n",
       "    <tr>\n",
       "      <th>26</th>\n",
       "      <td>0.07</td>\n",
       "      <td>0.03</td>\n",
       "      <td>9</td>\n",
       "      <td>120</td>\n",
       "      <td>reg:squarederror</td>\n",
       "      <td>0.2</td>\n",
       "      <td>0.606173</td>\n",
       "      <td>0.031884</td>\n",
       "      <td>0.785987</td>\n",
       "      <td>0.006268</td>\n",
       "    </tr>\n",
       "    <tr>\n",
       "      <th>14</th>\n",
       "      <td>0.05</td>\n",
       "      <td>0.03</td>\n",
       "      <td>9</td>\n",
       "      <td>120</td>\n",
       "      <td>reg:squarederror</td>\n",
       "      <td>0.2</td>\n",
       "      <td>0.606173</td>\n",
       "      <td>0.031884</td>\n",
       "      <td>0.785987</td>\n",
       "      <td>0.006268</td>\n",
       "    </tr>\n",
       "    <tr>\n",
       "      <th>35</th>\n",
       "      <td>0.07</td>\n",
       "      <td>0.03</td>\n",
       "      <td>11</td>\n",
       "      <td>120</td>\n",
       "      <td>reg:squarederror</td>\n",
       "      <td>0.2</td>\n",
       "      <td>0.605981</td>\n",
       "      <td>0.031878</td>\n",
       "      <td>0.788386</td>\n",
       "      <td>0.006718</td>\n",
       "    </tr>\n",
       "    <tr>\n",
       "      <th>34</th>\n",
       "      <td>0.07</td>\n",
       "      <td>0.03</td>\n",
       "      <td>11</td>\n",
       "      <td>120</td>\n",
       "      <td>reg:squarederror</td>\n",
       "      <td>0.2</td>\n",
       "      <td>0.605981</td>\n",
       "      <td>0.031878</td>\n",
       "      <td>0.788386</td>\n",
       "      <td>0.006718</td>\n",
       "    </tr>\n",
       "    <tr>\n",
       "      <th>23</th>\n",
       "      <td>0.05</td>\n",
       "      <td>0.03</td>\n",
       "      <td>11</td>\n",
       "      <td>120</td>\n",
       "      <td>reg:squarederror</td>\n",
       "      <td>0.2</td>\n",
       "      <td>0.605981</td>\n",
       "      <td>0.031878</td>\n",
       "      <td>0.788386</td>\n",
       "      <td>0.006718</td>\n",
       "    </tr>\n",
       "    <tr>\n",
       "      <th>10</th>\n",
       "      <td>0.01</td>\n",
       "      <td>0.03</td>\n",
       "      <td>11</td>\n",
       "      <td>120</td>\n",
       "      <td>reg:squarederror</td>\n",
       "      <td>0.2</td>\n",
       "      <td>0.605981</td>\n",
       "      <td>0.031878</td>\n",
       "      <td>0.788386</td>\n",
       "      <td>0.006718</td>\n",
       "    </tr>\n",
       "  </tbody>\n",
       "</table>\n",
       "</div>"
      ],
      "text/plain": [
       "   param_eta param_learning_rate param_max_depth param_n_estimators   \n",
       "15      0.05                0.03               9                120  \\\n",
       "2       0.01                0.03               9                120   \n",
       "3       0.01                0.03               9                120   \n",
       "27      0.07                0.03               9                120   \n",
       "26      0.07                0.03               9                120   \n",
       "14      0.05                0.03               9                120   \n",
       "35      0.07                0.03              11                120   \n",
       "34      0.07                0.03              11                120   \n",
       "23      0.05                0.03              11                120   \n",
       "10      0.01                0.03              11                120   \n",
       "\n",
       "     param_objective param_subsample  mean_test_score  std_test_score   \n",
       "15  reg:squarederror             0.2         0.606173        0.031884  \\\n",
       "2   reg:squarederror             0.2         0.606173        0.031884   \n",
       "3   reg:squarederror             0.2         0.606173        0.031884   \n",
       "27  reg:squarederror             0.2         0.606173        0.031884   \n",
       "26  reg:squarederror             0.2         0.606173        0.031884   \n",
       "14  reg:squarederror             0.2         0.606173        0.031884   \n",
       "35  reg:squarederror             0.2         0.605981        0.031878   \n",
       "34  reg:squarederror             0.2         0.605981        0.031878   \n",
       "23  reg:squarederror             0.2         0.605981        0.031878   \n",
       "10  reg:squarederror             0.2         0.605981        0.031878   \n",
       "\n",
       "    mean_train_score  std_train_score  \n",
       "15          0.785987         0.006268  \n",
       "2           0.785987         0.006268  \n",
       "3           0.785987         0.006268  \n",
       "27          0.785987         0.006268  \n",
       "26          0.785987         0.006268  \n",
       "14          0.785987         0.006268  \n",
       "35          0.788386         0.006718  \n",
       "34          0.788386         0.006718  \n",
       "23          0.788386         0.006718  \n",
       "10          0.788386         0.006718  "
      ]
     },
     "execution_count": 39,
     "metadata": {},
     "output_type": "execute_result"
    }
   ],
   "source": [
    "resultados_cv = pd.DataFrame(grid.cv_results_)\n",
    "resultados_cv.filter(regex = '(param*|mean_t|std_t)') \\\n",
    "    .drop(columns = 'params') \\\n",
    "    .sort_values('mean_test_score', ascending = False) \\\n",
    "    .head(10)"
   ]
  },
  {
   "cell_type": "code",
   "execution_count": 40,
   "metadata": {},
   "outputs": [],
   "source": [
    "resultados_cv.filter(regex = '(param*|mean_t|std_t)') \\\n",
    "    .drop(columns = 'params') \\\n",
    "    .sort_values('mean_test_score', ascending = False) \\\n",
    "    .to_csv(\"xgoost_iteraciones_cv.csv\", index=False)"
   ]
  },
  {
   "attachments": {},
   "cell_type": "markdown",
   "metadata": {},
   "source": [
    "Mejor combinación de hiperparámetros"
   ]
  },
  {
   "cell_type": "code",
   "execution_count": 41,
   "metadata": {},
   "outputs": [
    {
     "data": {
      "text/plain": [
       "{'eta': 0.01,\n",
       " 'learning_rate': 0.03,\n",
       " 'max_depth': 9,\n",
       " 'n_estimators': 120,\n",
       " 'objective': 'reg:squarederror',\n",
       " 'subsample': 0.2}"
      ]
     },
     "execution_count": 41,
     "metadata": {},
     "output_type": "execute_result"
    }
   ],
   "source": [
    "grid.best_params_"
   ]
  },
  {
   "attachments": {},
   "cell_type": "markdown",
   "metadata": {},
   "source": [
    "Mejor modelo"
   ]
  },
  {
   "cell_type": "code",
   "execution_count": 42,
   "metadata": {},
   "outputs": [],
   "source": [
    "xgb_final = grid.best_estimator_"
   ]
  },
  {
   "attachments": {},
   "cell_type": "markdown",
   "metadata": {},
   "source": [
    "Métricas del mejor modelo"
   ]
  },
  {
   "cell_type": "code",
   "execution_count": 43,
   "metadata": {},
   "outputs": [
    {
     "data": {
      "text/html": [
       "<div>\n",
       "<style scoped>\n",
       "    .dataframe tbody tr th:only-of-type {\n",
       "        vertical-align: middle;\n",
       "    }\n",
       "\n",
       "    .dataframe tbody tr th {\n",
       "        vertical-align: top;\n",
       "    }\n",
       "\n",
       "    .dataframe thead th {\n",
       "        text-align: right;\n",
       "    }\n",
       "</style>\n",
       "<table border=\"1\" class=\"dataframe\">\n",
       "  <thead>\n",
       "    <tr style=\"text-align: right;\">\n",
       "      <th></th>\n",
       "      <th>R2_train</th>\n",
       "      <th>R2_test</th>\n",
       "      <th>RMSE_train</th>\n",
       "      <th>RMSE_test</th>\n",
       "      <th>MAPE_train</th>\n",
       "      <th>MAPE_test</th>\n",
       "    </tr>\n",
       "  </thead>\n",
       "  <tbody>\n",
       "    <tr>\n",
       "      <th>0</th>\n",
       "      <td>0.785295</td>\n",
       "      <td>0.731046</td>\n",
       "      <td>476610.204546</td>\n",
       "      <td>490008.012375</td>\n",
       "      <td>0.141506</td>\n",
       "      <td>0.156759</td>\n",
       "    </tr>\n",
       "  </tbody>\n",
       "</table>\n",
       "</div>"
      ],
      "text/plain": [
       "   R2_train   R2_test     RMSE_train      RMSE_test  MAPE_train  MAPE_test\n",
       "0  0.785295  0.731046  476610.204546  490008.012375    0.141506   0.156759"
      ]
     },
     "execution_count": 43,
     "metadata": {},
     "output_type": "execute_result"
    }
   ],
   "source": [
    "resultados = {'R2_train': [],\n",
    "               'R2_test': [],\n",
    "               'RMSE_train': [],\n",
    "               'RMSE_test': [],\n",
    "               'MAPE_train': [],\n",
    "               'MAPE_test': [],}\n",
    "resultados['R2_train'].append(r2_score(y_true=y_train, y_pred=xgb_final.predict(x_train)))\n",
    "resultados['R2_test'].append(r2_score(y_true=y_test, y_pred=xgb_final.predict(x_test)))\n",
    "resultados['RMSE_train'].append(mean_squared_error(y_true=y_train, y_pred=xgb_final.predict(x_train), squared=False))\n",
    "resultados['RMSE_test'].append(mean_squared_error(y_true=y_test, y_pred=xgb_final.predict(x_test), squared=False))\n",
    "resultados['MAPE_train'].append(mean_absolute_percentage_error(y_true=y_train, y_pred  = xgb_final.predict(x_train)))\n",
    "resultados['MAPE_test'].append(mean_absolute_percentage_error(y_true=y_test, y_pred  = xgb_final.predict(x_test)))\n",
    "pd.DataFrame(resultados)"
   ]
  },
  {
   "attachments": {},
   "cell_type": "markdown",
   "metadata": {},
   "source": [
    "Cálculo de importancia de variables"
   ]
  },
  {
   "cell_type": "code",
   "execution_count": 44,
   "metadata": {},
   "outputs": [
    {
     "data": {
      "image/png": "[encoded data removed]",
      "text/plain": [
       "<Figure size 640x480 with 1 Axes>"
      ]
     },
     "metadata": {},
     "output_type": "display_data"
    },
    {
     "data": {
      "text/plain": [
       "<Figure size 1600x1600 with 0 Axes>"
      ]
     },
     "metadata": {},
     "output_type": "display_data"
    }
   ],
   "source": [
    "xgb.plot_importance(xgb_final)\n",
    "plt.figure(figsize = (16, 16))\n",
    "plt.show()"
   ]
  },
  {
   "attachments": {},
   "cell_type": "markdown",
   "metadata": {},
   "source": [
    "Análisis de zonas\n",
    "\n",
    "Al encontrar el mejor modelo se procede a evaluar su efectividad por zonas de manera que se recomiende al negocio dónde implementar el modelo final"
   ]
  },
  {
   "cell_type": "code",
   "execution_count": 49,
   "metadata": {},
   "outputs": [],
   "source": [
    "columns_test_zones = list(x_train.columns)\n",
    "columns_test_zones.extend(['zona', 'precio'])"
   ]
  },
  {
   "cell_type": "code",
   "execution_count": 51,
   "metadata": {},
   "outputs": [],
   "source": [
    "X_est['zona'] = data_model['zona']"
   ]
  },
  {
   "cell_type": "code",
   "execution_count": 52,
   "metadata": {},
   "outputs": [],
   "source": [
    "data_zonas = X_est[columns_test_zones]"
   ]
  },
  {
   "attachments": {},
   "cell_type": "markdown",
   "metadata": {},
   "source": [
    "Analísis de efectividad del modelo por la variable zona"
   ]
  },
  {
   "cell_type": "code",
   "execution_count": 53,
   "metadata": {},
   "outputs": [],
   "source": [
    "data_centro = data_zonas[data_zonas['zona'] == 'centro']\n",
    "data_poblado = data_zonas[data_zonas['zona'] == 'poblado']\n",
    "data_laureles = data_zonas[data_zonas['zona'] == 'laureles']\n",
    "data_belen = data_zonas[data_zonas['zona'] == 'belen']\n",
    "data_sa_prado = data_zonas[data_zonas['zona'] == 'sa_prado']"
   ]
  },
  {
   "attachments": {},
   "cell_type": "markdown",
   "metadata": {},
   "source": [
    "Para cumplir con los requisitos del negocio se evalúa la efectividad del modelo por la división de zonas obtenida por el proceso de web scraping, donde en ninguna de estas se logra un MAPE <= 0.15, por tanto, la recomendación al negocio debe proceder de otra estrategia de implementación"
   ]
  },
  {
   "attachments": {},
   "cell_type": "markdown",
   "metadata": {},
   "source": [
    "Al ejecutar la iteración 6 se observa que para los datos del cluster 0 se obtiene un MAPE = 0.15, esto da a pensar que las carácteristicas de los inmuebles pueden ser el factor determinante para que el negocio filtre sobre que inmuebles se debe ejecutar el modelo, por ejemplo, si se evalúa los inmuebles con la siguiente combinación de variables:"
   ]
  },
  {
   "cell_type": "code",
   "execution_count": 58,
   "metadata": {},
   "outputs": [
    {
     "name": "stdout",
     "output_type": "stream",
     "text": [
      "Cantidad de muestras:  30\n",
      "MAPE:  0.12519476567026763\n"
     ]
    }
   ],
   "source": [
    "data_test = data_zonas[(data_zonas['area_bruta'] >= 0.2) & (data_zonas['estrato'] == 0.5)]\n",
    "print(\"Cantidad de muestras: \", len(data_test))\n",
    "print('MAPE: ', mean_absolute_percentage_error(y_true=data_test['precio'].values, y_pred  = xgb_final.predict(data_test[x_train.columns])))"
   ]
  },
  {
   "attachments": {},
   "cell_type": "markdown",
   "metadata": {},
   "source": [
    "Se observa un MAPE dentro de los rangos del negocio, por tanto, para el modelo obtenido, una de las recomendaciones al negocio es encontrar un patrón en las variables que muestre sobre que tipo de viviendas se debe filtrar para hacer la implementación del modelo.\n",
    "\n",
    "En resumen, este proceso establecerá una condición para el uso del modelo que puede seguir una premisa como:\n",
    "- Este modelo es funcional solo para inmuebles con un área bruta mayor a N mts\n",
    "- Este modelo es funcional solo para inmuebles con un área bruta mayor a N mts y M baños\n",
    "- Este modelo es funcional solo para inmuebles con un área bruta mayor a N mts y estrato K\n",
    "\n",
    "\n",
    "Este proceso se deja para un trabajo futuro del proyecto"
   ]
  },
  {
   "attachments": {},
   "cell_type": "markdown",
   "metadata": {},
   "source": [
    "Serialización del modelo final"
   ]
  },
  {
   "cell_type": "code",
   "execution_count": 59,
   "metadata": {},
   "outputs": [],
   "source": [
    "with open('xgboost_arriendos.pkl', 'wb') as pickle_file:\n",
    "    pickle.dump(xgb_final, pickle_file) "
   ]
  },
  {
   "attachments": {},
   "cell_type": "markdown",
   "metadata": {},
   "source": [
    "**Conclusiones:**\n",
    "\n",
    "- La predicción de precios de arriendos en la ciudad de Medellín se soluciona mediante la creación de un proceso de scraping, la implementación de un algoritmo kmeans como parte del proceso de feature engineering y el entrenamiento de un modelo xgboost\n",
    "- Se obtiene un modelo xgboost con las caracteristicas deseadas por el negocio (MAPE <= 0.15)\n",
    "- La implementación del modelo para cumplir al 100% los requisitos del negocio se plantea para un trabajo futuro donde se recomienda encontrar un patron de los datos que permita filtrar, en base a las carateríticas de las viviendas, el uso efectivo de este\n",
    "- La variable __area_bruta__, predomina en importancia en este modelo, lo que indica la alta influencia que tiene el tamaño de una vivienda en su precio. se nota también variables como __tipo_pisos_freq__ son bastante influyentes, siendo esta resultado del proceso de tratamiento de la información se evidencia la importancia que tuvo este proceso.\n",
    "- No se evidencia variables con importancia 0 o cercano a este valor en ninguna de las variables, por tanto, no se ejecuta eliminación de variables por este criterio"
   ]
  }
 ],
 "metadata": {
  "kernelspec": {
   "display_name": "pyscraping",
   "language": "python",
   "name": "python3"
  },
  "language_info": {
   "codemirror_mode": {
    "name": "ipython",
    "version": 3
   },
   "file_extension": ".py",
   "mimetype": "text/x-python",
   "name": "python",
   "nbconvert_exporter": "python",
   "pygments_lexer": "ipython3",
   "version": "3.10.9"
  },
  "orig_nbformat": 4
 },
 "nbformat": 4,
 "nbformat_minor": 2
}

{
 "cells": [
  {
   "attachments": {},
   "cell_type": "markdown",
   "metadata": {},
   "source": [
    "# Notebook Base Entrenamiento\n",
    "\n",
    "### Objetivo:\n",
    "Transformación, formato y contrucción de la base de entrenamiento"
   ]
  },
  {
   "attachments": {},
   "cell_type": "markdown",
   "metadata": {},
   "source": [
    "Librerias"
   ]
  },
  {
   "cell_type": "code",
   "execution_count": 15,
   "metadata": {},
   "outputs": [],
   "source": [
    "import pandas as pd\n",
    "import re\n",
    "import numpy as np\n",
    "import seaborn as sns\n",
    "import matplotlib.pyplot as plt\n",
    "import os"
   ]
  },
  {
   "attachments": {},
   "cell_type": "markdown",
   "metadata": {},
   "source": [
    "**Lectura de datos**"
   ]
  },
  {
   "cell_type": "code",
   "execution_count": 16,
   "metadata": {},
   "outputs": [
    {
     "data": {
      "text/html": [
       "<div>\n",
       "<style scoped>\n",
       "    .dataframe tbody tr th:only-of-type {\n",
       "        vertical-align: middle;\n",
       "    }\n",
       "\n",
       "    .dataframe tbody tr th {\n",
       "        vertical-align: top;\n",
       "    }\n",
       "\n",
       "    .dataframe thead th {\n",
       "        text-align: right;\n",
       "    }\n",
       "</style>\n",
       "<table border=\"1\" class=\"dataframe\">\n",
       "  <thead>\n",
       "    <tr style=\"text-align: right;\">\n",
       "      <th></th>\n",
       "      <th>codigo</th>\n",
       "      <th>precio</th>\n",
       "      <th>zona</th>\n",
       "      <th>barrio_sector</th>\n",
       "      <th>tipo_pisos</th>\n",
       "      <th>baños_familiares</th>\n",
       "      <th>area_bruta</th>\n",
       "      <th>ciudad</th>\n",
       "      <th>numero_niveles</th>\n",
       "      <th>tipo_cocina</th>\n",
       "      <th>...</th>\n",
       "      <th>calentador_de_agua</th>\n",
       "      <th>terraza</th>\n",
       "      <th>closet_de_linos</th>\n",
       "      <th>biblioteca</th>\n",
       "      <th>parqueadero_visitantes</th>\n",
       "      <th>gimnasio</th>\n",
       "      <th>piscina</th>\n",
       "      <th>salon_social</th>\n",
       "      <th>dispositivos_automatizacion</th>\n",
       "      <th>alarma</th>\n",
       "    </tr>\n",
       "  </thead>\n",
       "  <tbody>\n",
       "    <tr>\n",
       "      <th>0</th>\n",
       "      <td>Código 1306444  / Castilla</td>\n",
       "      <td>1100000.0</td>\n",
       "      <td>centro</td>\n",
       "      <td>castilla</td>\n",
       "      <td>ceramica</td>\n",
       "      <td>1.0</td>\n",
       "      <td>95.0</td>\n",
       "      <td>medellin zona 1 - centro</td>\n",
       "      <td>1.0</td>\n",
       "      <td>integral</td>\n",
       "      <td>...</td>\n",
       "      <td>0.0</td>\n",
       "      <td>1.0</td>\n",
       "      <td>1.0</td>\n",
       "      <td>1.0</td>\n",
       "      <td>0.0</td>\n",
       "      <td>0.0</td>\n",
       "      <td>0.0</td>\n",
       "      <td>0.0</td>\n",
       "      <td>0.0</td>\n",
       "      <td>0.0</td>\n",
       "    </tr>\n",
       "    <tr>\n",
       "      <th>1</th>\n",
       "      <td>Código 1306376  / El Salvador</td>\n",
       "      <td>950000.0</td>\n",
       "      <td>centro</td>\n",
       "      <td>el salvador</td>\n",
       "      <td>ceramica</td>\n",
       "      <td>1.0</td>\n",
       "      <td>70.0</td>\n",
       "      <td>medellin zona 1 - centro</td>\n",
       "      <td>1.0</td>\n",
       "      <td>semi-integral</td>\n",
       "      <td>...</td>\n",
       "      <td>0.0</td>\n",
       "      <td>0.0</td>\n",
       "      <td>0.0</td>\n",
       "      <td>0.0</td>\n",
       "      <td>0.0</td>\n",
       "      <td>0.0</td>\n",
       "      <td>0.0</td>\n",
       "      <td>0.0</td>\n",
       "      <td>0.0</td>\n",
       "      <td>0.0</td>\n",
       "    </tr>\n",
       "    <tr>\n",
       "      <th>2</th>\n",
       "      <td>Código 1306287  / Los Angeles</td>\n",
       "      <td>970000.0</td>\n",
       "      <td>centro</td>\n",
       "      <td>los angeles</td>\n",
       "      <td>ceramica</td>\n",
       "      <td>1.0</td>\n",
       "      <td>38.0</td>\n",
       "      <td>medellin zona 1 - centro</td>\n",
       "      <td>1.0</td>\n",
       "      <td>semi-integral</td>\n",
       "      <td>...</td>\n",
       "      <td>0.0</td>\n",
       "      <td>0.0</td>\n",
       "      <td>1.0</td>\n",
       "      <td>0.0</td>\n",
       "      <td>0.0</td>\n",
       "      <td>0.0</td>\n",
       "      <td>0.0</td>\n",
       "      <td>0.0</td>\n",
       "      <td>0.0</td>\n",
       "      <td>0.0</td>\n",
       "    </tr>\n",
       "    <tr>\n",
       "      <th>3</th>\n",
       "      <td>Código 1306212  / Prado</td>\n",
       "      <td>1400000.0</td>\n",
       "      <td>centro</td>\n",
       "      <td>prado</td>\n",
       "      <td>ceramica</td>\n",
       "      <td>1.0</td>\n",
       "      <td>50.0</td>\n",
       "      <td>medellin zona 1 - centro</td>\n",
       "      <td>1.0</td>\n",
       "      <td>integral</td>\n",
       "      <td>...</td>\n",
       "      <td>1.0</td>\n",
       "      <td>0.0</td>\n",
       "      <td>1.0</td>\n",
       "      <td>1.0</td>\n",
       "      <td>1.0</td>\n",
       "      <td>0.0</td>\n",
       "      <td>0.0</td>\n",
       "      <td>0.0</td>\n",
       "      <td>0.0</td>\n",
       "      <td>0.0</td>\n",
       "    </tr>\n",
       "    <tr>\n",
       "      <th>4</th>\n",
       "      <td>Código 1306007  / 12 de Octubre</td>\n",
       "      <td>800000.0</td>\n",
       "      <td>centro</td>\n",
       "      <td>12 de octubre</td>\n",
       "      <td>ceramica</td>\n",
       "      <td>1.0</td>\n",
       "      <td>92.0</td>\n",
       "      <td>medellin zona 1 - centro</td>\n",
       "      <td>1.0</td>\n",
       "      <td>integralcon alacenas</td>\n",
       "      <td>...</td>\n",
       "      <td>1.0</td>\n",
       "      <td>0.0</td>\n",
       "      <td>0.0</td>\n",
       "      <td>0.0</td>\n",
       "      <td>0.0</td>\n",
       "      <td>0.0</td>\n",
       "      <td>0.0</td>\n",
       "      <td>0.0</td>\n",
       "      <td>0.0</td>\n",
       "      <td>0.0</td>\n",
       "    </tr>\n",
       "  </tbody>\n",
       "</table>\n",
       "<p>5 rows × 41 columns</p>\n",
       "</div>"
      ],
      "text/plain": [
       "                            codigo     precio    zona  barrio_sector   \n",
       "0       Código 1306444  / Castilla  1100000.0  centro       castilla  \\\n",
       "1    Código 1306376  / El Salvador   950000.0  centro    el salvador   \n",
       "2    Código 1306287  / Los Angeles   970000.0  centro    los angeles   \n",
       "3          Código 1306212  / Prado  1400000.0  centro          prado   \n",
       "4  Código 1306007  / 12 de Octubre   800000.0  centro  12 de octubre   \n",
       "\n",
       "  tipo_pisos  baños_familiares  area_bruta                    ciudad   \n",
       "0   ceramica               1.0        95.0  medellin zona 1 - centro  \\\n",
       "1   ceramica               1.0        70.0  medellin zona 1 - centro   \n",
       "2   ceramica               1.0        38.0  medellin zona 1 - centro   \n",
       "3   ceramica               1.0        50.0  medellin zona 1 - centro   \n",
       "4   ceramica               1.0        92.0  medellin zona 1 - centro   \n",
       "\n",
       "   numero_niveles           tipo_cocina  ...  calentador_de_agua  terraza   \n",
       "0             1.0              integral  ...                 0.0      1.0  \\\n",
       "1             1.0         semi-integral  ...                 0.0      0.0   \n",
       "2             1.0         semi-integral  ...                 0.0      0.0   \n",
       "3             1.0              integral  ...                 1.0      0.0   \n",
       "4             1.0  integralcon alacenas  ...                 1.0      0.0   \n",
       "\n",
       "   closet_de_linos  biblioteca  parqueadero_visitantes  gimnasio  piscina   \n",
       "0              1.0         1.0                     0.0       0.0      0.0  \\\n",
       "1              0.0         0.0                     0.0       0.0      0.0   \n",
       "2              1.0         0.0                     0.0       0.0      0.0   \n",
       "3              1.0         1.0                     1.0       0.0      0.0   \n",
       "4              0.0         0.0                     0.0       0.0      0.0   \n",
       "\n",
       "   salon_social  dispositivos_automatizacion  alarma  \n",
       "0           0.0                          0.0     0.0  \n",
       "1           0.0                          0.0     0.0  \n",
       "2           0.0                          0.0     0.0  \n",
       "3           0.0                          0.0     0.0  \n",
       "4           0.0                          0.0     0.0  \n",
       "\n",
       "[5 rows x 41 columns]"
      ]
     },
     "execution_count": 16,
     "metadata": {},
     "output_type": "execute_result"
    }
   ],
   "source": [
    " # get current directory\n",
    "path = os.getcwd()\n",
    "# parent directory\n",
    "patn = os.path.dirname(path)\n",
    "patn = patn.replace('Model','Scraping')\n",
    "data_scraping = pd.read_csv(patn + \"/datos_arriendos_consolidado.csv\")\n",
    "data_scraping.head()"
   ]
  },
  {
   "attachments": {},
   "cell_type": "markdown",
   "metadata": {},
   "source": [
    "Se crean dos listas auxiliares para identificar las columnas numéricas de aquellas categóricas"
   ]
  },
  {
   "cell_type": "code",
   "execution_count": 17,
   "metadata": {},
   "outputs": [],
   "source": [
    "# Lista de columnas numéricas\n",
    "num_colums = ['precio',\n",
    "              'baños_familiares',\n",
    "              'area_bruta',\n",
    "              'numero_niveles',\n",
    "              'parqueaderos',\n",
    "              'alcobas_familiares',\n",
    "              'estrato',\n",
    "              'area_total',\n",
    "              'juegos_infantiles',\n",
    "              'balcon', \n",
    "              'zona_ropas', \n",
    "              'camaras_cctv', \n",
    "              'cancha_polideportiva',\n",
    "              'ascensor', \n",
    "              'cancha_squash', \n",
    "              'zona_bbq', \n",
    "              'patio',\n",
    "              'unidad_cerrada_conjunto', \n",
    "              'zonas_verdes', \n",
    "              'aire_acondicionado',\n",
    "              'jacuzzi', \n",
    "              'red_de_Gas', \n",
    "              'turco', \n",
    "              'porteria_24_7', \n",
    "              'sauna',\n",
    "              'calentador_de_agua', \n",
    "              'terraza', \n",
    "              'closet_de_linos', \n",
    "              'biblioteca',\n",
    "              'parqueadero_visitantes', \n",
    "              'gimnasio', \n",
    "              'piscina', \n",
    "              'salon_social',\n",
    "              'dispositivos_automatizacion', \n",
    "              'alarma']\n",
    "\n",
    "# Lista de columnas numéricas\n",
    "cat_columns = ['zona', \n",
    "               'barrio_sector', \n",
    "               'tipo_pisos',\n",
    "               'ciudad', \n",
    "               'tipo_cocina']"
   ]
  },
  {
   "attachments": {},
   "cell_type": "markdown",
   "metadata": {},
   "source": [
    "Se realiza un análisis de las columnas categóricas. Primero se visualiza la cantidad de categorísas que tiene cada una de estas y así definir la mejor estrategia de encoding con el fin de evitar problemas con la dimensión de la base"
   ]
  },
  {
   "cell_type": "code",
   "execution_count": 19,
   "metadata": {},
   "outputs": [
    {
     "name": "stdout",
     "output_type": "stream",
     "text": [
      "zona:  5\n",
      "barrio_sector:  170\n",
      "tipo_pisos:  104\n",
      "ciudad:  5\n",
      "tipo_cocina:  75\n"
     ]
    }
   ],
   "source": [
    "for cat in cat_columns:\n",
    "    print(f\"{cat}: \",len(data_scraping[cat].unique()))"
   ]
  },
  {
   "attachments": {},
   "cell_type": "markdown",
   "metadata": {},
   "source": [
    "Dado lo anterior se obtiene que las variables tipo_pisos, barrio_sector y tipo_cocina tienen demasiadas categorías para considerar hacer un encoding tradicional, por tanto, se debe realizar una estrategia de reducción de categorias y luego aplicar la estrategia de encoding que no aumente la base en su dimensión.\n",
    "\n",
    "Adicional podemos concluir que la variable barrio_sector no será parte del modelo, por tanto, no será necesario hacer intervención"
   ]
  },
  {
   "attachments": {},
   "cell_type": "markdown",
   "metadata": {},
   "source": [
    "****"
   ]
  },
  {
   "cell_type": "code",
   "execution_count": null,
   "metadata": {},
   "outputs": [],
   "source": [
    "df_concina = pd.read_csv('tipo_cocina.csv', sep=';')\n",
    "dict_cocina = {}\n",
    "for cocina in df_concina.itertuples():\n",
    "    dict_cocina[cocina.original] = cocina.format"
   ]
  },
  {
   "cell_type": "code",
   "execution_count": null,
   "metadata": {},
   "outputs": [],
   "source": [
    "data_iteration_1['tipo_cocina'] = data_iteration_1['tipo_cocina'].apply(lambda x: dict_cocina[x])"
   ]
  },
  {
   "cell_type": "code",
   "execution_count": null,
   "metadata": {},
   "outputs": [],
   "source": [
    "data_iteration_1['tipo_cocina'].unique()"
   ]
  },
  {
   "cell_type": "code",
   "execution_count": null,
   "metadata": {},
   "outputs": [],
   "source": [
    "data_iteration_1.groupby('tipo_cocina').size()"
   ]
  },
  {
   "cell_type": "code",
   "execution_count": null,
   "metadata": {},
   "outputs": [],
   "source": [
    "data_iteration_1['tipo_pisos'] = data_iteration_1['tipo_pisos'].apply(lambda x: x.replace('\\n',''))"
   ]
  },
  {
   "cell_type": "code",
   "execution_count": null,
   "metadata": {},
   "outputs": [],
   "source": [
    "#marmol\\npiso en  madera y gran parte del inmueble entapetado.,marmolmadera\n",
    "\n",
    "df_pisos = pd.read_csv('tipo_pisos.csv', sep=';')\n",
    "dict_pisos = {}\n",
    "for piso in df_pisos.itertuples():\n",
    "    dict_pisos[piso.original] = piso.format\n",
    "\n",
    "data_iteration_1['tipo_pisos'] = data_iteration_1['tipo_pisos'].apply(lambda x: dict_pisos[x])"
   ]
  },
  {
   "cell_type": "code",
   "execution_count": null,
   "metadata": {},
   "outputs": [],
   "source": [
    "data_iteration_1['tipo_pisos'].unique()"
   ]
  },
  {
   "cell_type": "code",
   "execution_count": null,
   "metadata": {},
   "outputs": [],
   "source": [
    "data_iteration_1.groupby('tipo_pisos').size()"
   ]
  },
  {
   "cell_type": "code",
   "execution_count": null,
   "metadata": {},
   "outputs": [],
   "source": [
    "data_iteration_1.info()"
   ]
  },
  {
   "cell_type": "code",
   "execution_count": null,
   "metadata": {},
   "outputs": [],
   "source": [
    "data_iteration_1['tipo_pisos'].isna().sum()"
   ]
  },
  {
   "cell_type": "code",
   "execution_count": null,
   "metadata": {},
   "outputs": [],
   "source": [
    "data_iteration_1 = data_iteration_1.dropna()"
   ]
  },
  {
   "cell_type": "code",
   "execution_count": null,
   "metadata": {},
   "outputs": [],
   "source": [
    "data_iteration_1.info()"
   ]
  },
  {
   "attachments": {},
   "cell_type": "markdown",
   "metadata": {},
   "source": [
    "## Tratamiento de datos categóricos"
   ]
  },
  {
   "cell_type": "code",
   "execution_count": null,
   "metadata": {},
   "outputs": [],
   "source": [
    "data_iteration_1['tipo_cocina'] = data_iteration_1['tipo_cocina'].astype('category')\n",
    "data_iteration_1['tipo_pisos'] = data_iteration_1['tipo_pisos'].astype('category')"
   ]
  },
  {
   "cell_type": "code",
   "execution_count": null,
   "metadata": {},
   "outputs": [],
   "source": [
    "data_iteration_1.head()"
   ]
  },
  {
   "cell_type": "code",
   "execution_count": null,
   "metadata": {},
   "outputs": [],
   "source": [
    "# Count Encoding - fit on training data, transform test data\n",
    "encoder = ce.CountEncoder(normalize=True)\n",
    "data_iteration_1[\"tipo_cocina_freq\"] = encoder.fit_transform(data_iteration_1[\"tipo_cocina\"])\n",
    "data_iteration_1[\"tipo_pisos_freq\"] = encoder.fit_transform(data_iteration_1[\"tipo_pisos\"])\n",
    "\n",
    "# Frequency (normalized count) Encoding\n",
    "# encoder = ce.CountEncoder(cols=\"type\", normalize=True)\n",
    "# data_train[\"type_frequency_encoded\"] = encoder.fit_transform(data_train[\"type\"])\n",
    "# data_test[\"type_frequency_encoded\"] = encoder.transform(data_test[\"type\"])"
   ]
  },
  {
   "cell_type": "code",
   "execution_count": null,
   "metadata": {},
   "outputs": [],
   "source": [
    "data_iteration_1.groupby('tipo_cocina').size()"
   ]
  },
  {
   "cell_type": "code",
   "execution_count": null,
   "metadata": {},
   "outputs": [],
   "source": [
    "data_iteration_1.groupby('tipo_cocina_freq').size()"
   ]
  },
  {
   "cell_type": "code",
   "execution_count": null,
   "metadata": {},
   "outputs": [],
   "source": [
    "data_iteration_1.groupby('tipo_pisos').size()"
   ]
  },
  {
   "cell_type": "code",
   "execution_count": null,
   "metadata": {},
   "outputs": [],
   "source": [
    "data_iteration_1.groupby('tipo_pisos_freq').size()"
   ]
  },
  {
   "attachments": {},
   "cell_type": "markdown",
   "metadata": {},
   "source": [
    "## Data Iteration 1"
   ]
  },
  {
   "cell_type": "code",
   "execution_count": null,
   "metadata": {},
   "outputs": [],
   "source": [
    "data_iteration_1.columns"
   ]
  },
  {
   "cell_type": "code",
   "execution_count": null,
   "metadata": {},
   "outputs": [],
   "source": [
    "columns = ['precio','zona', 'barrio_sector', 'baños_familiares', 'area_bruta',\n",
    "       'numero_niveles','parqueaderos', 'alcobas_familiares',\n",
    "       'estrato', 'area_total', 'juegos_infantiles', 'balcon', 'zona_ropas',\n",
    "       'camaras_cctv', 'cancha_polideportiva', 'ascensor', 'cancha_squash',\n",
    "       'zona_bbq', 'patio', 'unidad_cerrada_conjunto', 'zonas_verdes',\n",
    "       'aire_acondicionado', 'jacuzzi', 'red_de_Gas', 'turco', 'porteria_24_7',\n",
    "       'sauna', 'calentador_de_agua', 'terraza', 'closet_de_linos',\n",
    "       'biblioteca', 'parqueadero_visitantes', 'gimnasio', 'piscina',\n",
    "       'salon_social', 'dispositivos_automatizacion', 'alarma',\n",
    "       'tipo_cocina_freq', 'tipo_pisos_freq']\n",
    "\n",
    "data_iteration_1 = data_iteration_1[columns]\n",
    "data_iteration_1.to_csv(\"data_iteration_zonas.csv\", index=False)"
   ]
  }
 ],
 "metadata": {
  "kernelspec": {
   "display_name": "pyscraping",
   "language": "python",
   "name": "python3"
  },
  "language_info": {
   "codemirror_mode": {
    "name": "ipython",
    "version": 3
   },
   "file_extension": ".py",
   "mimetype": "text/x-python",
   "name": "python",
   "nbconvert_exporter": "python",
   "pygments_lexer": "ipython3",
   "version": "3.10.9"
  },
  "orig_nbformat": 4
 },
 "nbformat": 4,
 "nbformat_minor": 2
}
